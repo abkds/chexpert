{
 "cells": [
  {
   "cell_type": "code",
   "execution_count": 1,
   "metadata": {
    "nbpresent": {
     "id": "d5df4b3b-ad2c-4c5b-be00-7f4df46fb2c4"
    }
   },
   "outputs": [],
   "source": [
    "import numpy as np\n",
    "import torch\n",
    "import torch.nn as nn\n",
    "import torch.nn.functional as F\n",
    "import math, copy, time\n",
    "from torch.autograd import Variable\n",
    "import matplotlib.pyplot as plt\n",
    "import seaborn\n",
    "seaborn.set_context(context=\"talk\")\n",
    "%matplotlib inline"
   ]
  },
  {
   "cell_type": "code",
   "execution_count": 3,
   "metadata": {
    "nbpresent": {
     "id": "ee667380-a868-4e2d-a252-1254718a75e4"
    }
   },
   "outputs": [],
   "source": [
    "def clones(module, N):\n",
    "    \"Produce N identical layers.\"\n",
    "    return nn.ModuleList([copy.deepcopy(module) for _ in range(N)])"
   ]
  },
  {
   "cell_type": "markdown",
   "metadata": {
    "nbpresent": {
     "id": "870d3349-ad8b-4701-87d7-62d92bfcbd38"
    }
   },
   "source": [
    "$$\n",
    "    Attention(Q, K, V) = softmax(\\frac{QK^T}{\\sqrt{d_k}})V\n",
    "$$"
   ]
  },
  {
   "cell_type": "code",
   "execution_count": 2,
   "metadata": {
    "nbpresent": {
     "id": "d64f91f2-2e63-4822-ad2a-9680ba5c0141"
    }
   },
   "outputs": [],
   "source": [
    "def attention(query, key, value, mask=None, dropout=None):\n",
    "    d_k = query.size(-1)\n",
    "    scores = torch.matmul(query, key.transpose(-2, -1)) / math.sqrt(d_k)\n",
    "    if mask is not None:\n",
    "        scores = scores.masked_fill(mask == 0, -1e9)\n",
    "    p_attn = F.softmax(scores, dim = -1)\n",
    "    if dropout is not None:\n",
    "        p_attn = dropout(p_attn)\n",
    "    return torch.matmul(p_attn, value), p_attn"
   ]
  },
  {
   "cell_type": "code",
   "execution_count": 4,
   "metadata": {
    "nbpresent": {
     "id": "b3eeb2d4-09f9-4696-bb01-e552e586105a"
    }
   },
   "outputs": [],
   "source": [
    "class MultiHeadedAttention(nn.Module):\n",
    "    def __init__(self, h, d_model, dropout=0.1):\n",
    "        \"Take in model size and number of heads.\"\n",
    "        super(MultiHeadedAttention, self).__init__()\n",
    "        assert d_model % h == 0\n",
    "        # We assume d_v always equals d_k\n",
    "        self.d_k = d_model // h\n",
    "        self.h = h\n",
    "        self.linears = clones(nn.Linear(d_model, d_model), 4)\n",
    "        self.attn = None\n",
    "        self.dropout = nn.Dropout(p=dropout)\n",
    "        \n",
    "    def forward(self, query, key, value, mask=None):\n",
    "        \"Implements Figure 2\"\n",
    "        if mask is not None:\n",
    "            # Same mask applied to all h heads.\n",
    "            mask = mask.unsqueeze(1)\n",
    "        nbatches = query.size(0)\n",
    "        \n",
    "        # 1) Do all the linear projections in batch from d_model => h x d_k \n",
    "        query, key, value = \\\n",
    "            [l(x).view(nbatches, -1, self.h, self.d_k).transpose(1, 2)\n",
    "             for l, x in zip(self.linears, (query, key, value))]\n",
    "        \n",
    "        # 2) Apply attention on all the projected vectors in batch. \n",
    "        x, self.attn = attention(query, key, value, mask=mask, \n",
    "                                 dropout=self.dropout)\n",
    "        \n",
    "        # 3) \"Concat\" using a view and apply a final linear. \n",
    "        x = x.transpose(1, 2).contiguous() \\\n",
    "             .view(nbatches, -1, self.h * self.d_k)\n",
    "        return self.linears[-1](x)        "
   ]
  },
  {
   "cell_type": "code",
   "execution_count": 9,
   "metadata": {
    "nbpresent": {
     "id": "07a28ce9-4ae4-4da3-9218-4d5b282ed61e"
    }
   },
   "outputs": [],
   "source": [
    "attn = MultiHeadedAttention(h, d_model)"
   ]
  },
  {
   "cell_type": "code",
   "execution_count": 6,
   "metadata": {
    "nbpresent": {
     "id": "07569a52-306f-4fd7-ad8e-7ac523103cab"
    }
   },
   "outputs": [],
   "source": [
    "h, d_model = 8, 512"
   ]
  },
  {
   "cell_type": "code",
   "execution_count": 10,
   "metadata": {
    "nbpresent": {
     "id": "e22ff039-3f72-45df-a2c0-9b1ca0b329a3"
    }
   },
   "outputs": [
    {
     "data": {
      "text/plain": [
       "MultiHeadedAttention(\n",
       "  (linears): ModuleList(\n",
       "    (0): Linear(in_features=512, out_features=512, bias=True)\n",
       "    (1): Linear(in_features=512, out_features=512, bias=True)\n",
       "    (2): Linear(in_features=512, out_features=512, bias=True)\n",
       "    (3): Linear(in_features=512, out_features=512, bias=True)\n",
       "  )\n",
       "  (dropout): Dropout(p=0.1)\n",
       ")"
      ]
     },
     "execution_count": 10,
     "metadata": {},
     "output_type": "execute_result"
    }
   ],
   "source": [
    "attn"
   ]
  },
  {
   "cell_type": "code",
   "execution_count": 11,
   "metadata": {
    "nbpresent": {
     "id": "404d0d5b-c906-4846-ad26-0809483e8efa"
    }
   },
   "outputs": [],
   "source": [
    "x = torch.rand(6, d_model)"
   ]
  },
  {
   "cell_type": "code",
   "execution_count": 16,
   "metadata": {
    "nbpresent": {
     "id": "32ed6cde-9ac1-46fc-8616-dd7235d2e99e"
    }
   },
   "outputs": [
    {
     "data": {
      "text/plain": [
       "torch.Size([6, 1, 512])"
      ]
     },
     "execution_count": 16,
     "metadata": {},
     "output_type": "execute_result"
    }
   ],
   "source": [
    "attn(x, x, x).shape"
   ]
  },
  {
   "cell_type": "code",
   "execution_count": 17,
   "metadata": {
    "nbpresent": {
     "id": "0a0f3b2c-4f61-446c-beef-b9571f73d433"
    }
   },
   "outputs": [],
   "source": [
    "def data_gen(V, batch, nbatches):\n",
    "    \"Generate random data for a src-tgt copy task.\"\n",
    "    for i in range(nbatches):\n",
    "        data = torch.from_numpy(np.random.randint(1, V, size=(batch, 10)))\n",
    "        data[:, 0] = 1\n",
    "        src = Variable(data, requires_grad=False)\n",
    "        tgt = Variable(data, requires_grad=False)\n",
    "        yield Batch(src, tgt, 0)"
   ]
  },
  {
   "cell_type": "code",
   "execution_count": 18,
   "metadata": {
    "nbpresent": {
     "id": "25892109-8053-4702-9e74-8d3d09f435e3"
    }
   },
   "outputs": [],
   "source": [
    "class Batch:\n",
    "    \"Object for holding a batch of data with mask during training.\"\n",
    "    def __init__(self, src, trg=None, pad=0):\n",
    "        self.src = src\n",
    "        self.src_mask = (src != pad).unsqueeze(-2)\n",
    "        if trg is not None:\n",
    "            self.trg = trg[:, :-1]\n",
    "            self.trg_y = trg[:, 1:]\n",
    "            self.trg_mask = \\\n",
    "                self.make_std_mask(self.trg, pad)\n",
    "            self.ntokens = (self.trg_y != pad).data.sum()\n",
    "    \n",
    "    @staticmethod\n",
    "    def make_std_mask(tgt, pad):\n",
    "        \"Create a mask to hide padding and future words.\"\n",
    "        tgt_mask = (tgt != pad).unsqueeze(-2)\n",
    "        tgt_mask = tgt_mask & Variable(\n",
    "            subsequent_mask(tgt.size(-1)).type_as(tgt_mask.data))\n",
    "        return tgt_mask"
   ]
  },
  {
   "cell_type": "code",
   "execution_count": 32,
   "metadata": {
    "nbpresent": {
     "id": "b83e7bd0-57ae-46c0-839b-246592fbf604"
    }
   },
   "outputs": [],
   "source": [
    "trg = [i.trg for i in data_gen(11, 30, 20)][0]"
   ]
  },
  {
   "cell_type": "code",
   "execution_count": 21,
   "metadata": {
    "nbpresent": {
     "id": "29de3452-771f-445e-9380-6e5fdd2291fe"
    }
   },
   "outputs": [],
   "source": [
    "def subsequent_mask(size):\n",
    "    \"Mask out subsequent positions.\"\n",
    "    attn_shape = (1, size, size)\n",
    "    subsequent_mask = np.triu(np.ones(attn_shape), k=1).astype('uint8')\n",
    "    return torch.from_numpy(subsequent_mask) == 0"
   ]
  },
  {
   "cell_type": "code",
   "execution_count": 31,
   "metadata": {
    "nbpresent": {
     "id": "b70a0c91-a48d-4a67-b697-f70311ea7e42"
    }
   },
   "outputs": [],
   "source": [
    "vocab = 11\n",
    "lut = nn.Embedding(vocab, d_model)"
   ]
  },
  {
   "cell_type": "code",
   "execution_count": 35,
   "metadata": {
    "nbpresent": {
     "id": "ee08117a-6b24-489c-9de5-7c5791276b33"
    }
   },
   "outputs": [],
   "source": [
    "x = lut(trg)"
   ]
  },
  {
   "cell_type": "code",
   "execution_count": 38,
   "metadata": {
    "nbpresent": {
     "id": "49e0293f-ca5f-43b3-83f6-ae1a8cce842b"
    }
   },
   "outputs": [
    {
     "data": {
      "text/plain": [
       "torch.Size([30, 9, 512])"
      ]
     },
     "execution_count": 38,
     "metadata": {},
     "output_type": "execute_result"
    }
   ],
   "source": [
    "attn(x, x, x)"
   ]
  },
  {
   "cell_type": "code",
   "execution_count": 47,
   "metadata": {
    "nbpresent": {
     "id": "8ac7b758-43d4-45de-b60e-82ec94aef784"
    }
   },
   "outputs": [],
   "source": [
    "q, k, v = [nn.Linear(512, 512)(x).view(30, -1, 8, 64).transpose(1, 2) for _ in range(0, 3)]"
   ]
  },
  {
   "cell_type": "code",
   "execution_count": 49,
   "metadata": {
    "nbpresent": {
     "id": "ec2a3fba-d441-4ca1-9c14-352cadd866d7"
    }
   },
   "outputs": [
    {
     "data": {
      "text/plain": [
       "(torch.Size([30, 8, 9, 64]),\n",
       " torch.Size([30, 8, 9, 64]),\n",
       " torch.Size([30, 8, 9, 64]))"
      ]
     },
     "execution_count": 49,
     "metadata": {},
     "output_type": "execute_result"
    }
   ],
   "source": [
    "q.shape, k.shape, v.shape"
   ]
  },
  {
   "cell_type": "code",
   "execution_count": 51,
   "metadata": {
    "nbpresent": {
     "id": "766d65ac-93ef-4027-b3a6-41a527a688f9"
    }
   },
   "outputs": [],
   "source": [
    "x, attn_ = attention(q, k, v)"
   ]
  },
  {
   "cell_type": "code",
   "execution_count": 52,
   "metadata": {
    "nbpresent": {
     "id": "3bacd3ed-f9b5-4aee-a9d9-cd94b6de7f80"
    }
   },
   "outputs": [
    {
     "data": {
      "text/plain": [
       "(torch.Size([30, 8, 9, 64]), torch.Size([30, 8, 9, 9]))"
      ]
     },
     "execution_count": 52,
     "metadata": {},
     "output_type": "execute_result"
    }
   ],
   "source": [
    "x.shape, attn_.shape"
   ]
  },
  {
   "cell_type": "code",
   "execution_count": 61,
   "metadata": {
    "nbpresent": {
     "id": "b45f45bc-1209-4e0b-95ac-de84e89bce2d"
    }
   },
   "outputs": [
    {
     "data": {
      "text/plain": [
       "tensor([[[ 0.0028, -0.2373, -0.0625,  ...,  0.2415,  0.4105, -0.3116],\n",
       "         [ 0.2184, -0.1491,  0.0194,  ...,  0.2594,  0.2750, -0.2915],\n",
       "         [ 0.1764, -0.2885,  0.0113,  ...,  0.2112,  0.3547, -0.2375],\n",
       "         ...,\n",
       "         [ 0.0665, -0.2471, -0.1428,  ...,  0.1014,  0.5904, -0.3276],\n",
       "         [-0.0046, -0.1415, -0.0419,  ...,  0.2179,  0.3612, -0.2855],\n",
       "         [ 0.0665, -0.2471, -0.1428,  ...,  0.1014,  0.5904, -0.3276]],\n",
       "\n",
       "        [[-0.1020, -0.0814,  0.3256,  ...,  0.3603, -0.4947, -0.2492],\n",
       "         [-0.1020, -0.0814,  0.3256,  ...,  0.3603, -0.4947, -0.2492],\n",
       "         [-0.0801, -0.1257,  0.3762,  ...,  0.3267, -0.5255, -0.2704],\n",
       "         ...,\n",
       "         [-0.0435,  0.0056,  0.3543,  ...,  0.4198, -0.3390, -0.3204],\n",
       "         [-0.1020, -0.0814,  0.3256,  ...,  0.3603, -0.4947, -0.2492],\n",
       "         [-0.3115, -0.0498,  0.3162,  ...,  0.3326, -0.4302, -0.2168]],\n",
       "\n",
       "        [[-0.1145, -0.1427,  0.2457,  ...,  0.3882, -0.3544, -0.2843],\n",
       "         [-0.2131, -0.2440,  0.2724,  ...,  0.3312, -0.3006, -0.2409],\n",
       "         [-0.3560, -0.2280,  0.2989,  ...,  0.3539, -0.4293, -0.2418],\n",
       "         ...,\n",
       "         [-0.1145, -0.1427,  0.2457,  ...,  0.3882, -0.3544, -0.2843],\n",
       "         [-0.1411, -0.1645,  0.2136,  ...,  0.3802, -0.1419, -0.2866],\n",
       "         [-0.2131, -0.2440,  0.2724,  ...,  0.3312, -0.3006, -0.2409]],\n",
       "\n",
       "        ...,\n",
       "\n",
       "        [[-0.3598,  0.0951,  0.2924,  ...,  0.5631, -0.2603, -0.3632],\n",
       "         [-0.4583,  0.0862,  0.2930,  ...,  0.5246, -0.3107, -0.3361],\n",
       "         [-0.5980,  0.1469,  0.2490,  ...,  0.6483, -0.2052, -0.3822],\n",
       "         ...,\n",
       "         [-0.3570,  0.1333,  0.3521,  ...,  0.5581, -0.3300, -0.3472],\n",
       "         [-0.3567,  0.1377,  0.3658,  ...,  0.5769, -0.2841, -0.3450],\n",
       "         [-0.2583,  0.1680,  0.3192,  ...,  0.7036, -0.2070, -0.4266]],\n",
       "\n",
       "        [[-0.0671,  0.0489,  0.2081,  ...,  0.3157, -0.2346, -0.2467],\n",
       "         [-0.0373,  0.0334,  0.1665,  ...,  0.3902, -0.1903, -0.2395],\n",
       "         [-0.0117,  0.0399,  0.2018,  ...,  0.3111, -0.1818, -0.2661],\n",
       "         ...,\n",
       "         [-0.0373,  0.0334,  0.1665,  ...,  0.3902, -0.1903, -0.2395],\n",
       "         [-0.0671,  0.0489,  0.2081,  ...,  0.3157, -0.2346, -0.2467],\n",
       "         [-0.0671,  0.0489,  0.2081,  ...,  0.3157, -0.2346, -0.2467]],\n",
       "\n",
       "        [[ 0.1615,  0.1103,  0.0325,  ..., -0.0098, -0.1238, -0.1394],\n",
       "         [ 0.1990,  0.2135,  0.0445,  ...,  0.0118, -0.0013, -0.2115],\n",
       "         [ 0.1990,  0.2135,  0.0445,  ...,  0.0118, -0.0013, -0.2115],\n",
       "         ...,\n",
       "         [ 0.4457,  0.2680,  0.1138,  ..., -0.0230,  0.1533, -0.2074],\n",
       "         [ 0.3351,  0.1980,  0.0436,  ..., -0.0034,  0.1561, -0.2403],\n",
       "         [ 0.4492,  0.2674,  0.0701,  ..., -0.0470,  0.1056, -0.1473]]],\n",
       "       grad_fn=<ViewBackward>)"
      ]
     },
     "execution_count": 61,
     "metadata": {},
     "output_type": "execute_result"
    }
   ],
   "source": [
    "x.transpose(1, 2).contiguous().view(30, -1, 512)"
   ]
  },
  {
   "cell_type": "code",
   "execution_count": 68,
   "metadata": {
    "nbpresent": {
     "id": "20eb38eb-2042-4e50-83c7-41e33841eb12"
    }
   },
   "outputs": [
    {
     "data": {
      "text/plain": [
       "tensor([[[ 0.0028, -0.2373, -0.0625,  ...,  0.2415,  0.4105, -0.3116],\n",
       "         [ 0.2184, -0.1491,  0.0194,  ...,  0.2594,  0.2750, -0.2915],\n",
       "         [ 0.1764, -0.2885,  0.0113,  ...,  0.2112,  0.3547, -0.2375],\n",
       "         ...,\n",
       "         [ 0.0665, -0.2471, -0.1428,  ...,  0.1014,  0.5904, -0.3276],\n",
       "         [-0.0046, -0.1415, -0.0419,  ...,  0.2179,  0.3612, -0.2855],\n",
       "         [ 0.0665, -0.2471, -0.1428,  ...,  0.1014,  0.5904, -0.3276]],\n",
       "\n",
       "        [[-0.1020, -0.0814,  0.3256,  ...,  0.3603, -0.4947, -0.2492],\n",
       "         [-0.1020, -0.0814,  0.3256,  ...,  0.3603, -0.4947, -0.2492],\n",
       "         [-0.0801, -0.1257,  0.3762,  ...,  0.3267, -0.5255, -0.2704],\n",
       "         ...,\n",
       "         [-0.0435,  0.0056,  0.3543,  ...,  0.4198, -0.3390, -0.3204],\n",
       "         [-0.1020, -0.0814,  0.3256,  ...,  0.3603, -0.4947, -0.2492],\n",
       "         [-0.3115, -0.0498,  0.3162,  ...,  0.3326, -0.4302, -0.2168]],\n",
       "\n",
       "        [[-0.1145, -0.1427,  0.2457,  ...,  0.3882, -0.3544, -0.2843],\n",
       "         [-0.2131, -0.2440,  0.2724,  ...,  0.3312, -0.3006, -0.2409],\n",
       "         [-0.3560, -0.2280,  0.2989,  ...,  0.3539, -0.4293, -0.2418],\n",
       "         ...,\n",
       "         [-0.1145, -0.1427,  0.2457,  ...,  0.3882, -0.3544, -0.2843],\n",
       "         [-0.1411, -0.1645,  0.2136,  ...,  0.3802, -0.1419, -0.2866],\n",
       "         [-0.2131, -0.2440,  0.2724,  ...,  0.3312, -0.3006, -0.2409]],\n",
       "\n",
       "        ...,\n",
       "\n",
       "        [[-0.3598,  0.0951,  0.2924,  ...,  0.5631, -0.2603, -0.3632],\n",
       "         [-0.4583,  0.0862,  0.2930,  ...,  0.5246, -0.3107, -0.3361],\n",
       "         [-0.5980,  0.1469,  0.2490,  ...,  0.6483, -0.2052, -0.3822],\n",
       "         ...,\n",
       "         [-0.3570,  0.1333,  0.3521,  ...,  0.5581, -0.3300, -0.3472],\n",
       "         [-0.3567,  0.1377,  0.3658,  ...,  0.5769, -0.2841, -0.3450],\n",
       "         [-0.2583,  0.1680,  0.3192,  ...,  0.7036, -0.2070, -0.4266]],\n",
       "\n",
       "        [[-0.0671,  0.0489,  0.2081,  ...,  0.3157, -0.2346, -0.2467],\n",
       "         [-0.0373,  0.0334,  0.1665,  ...,  0.3902, -0.1903, -0.2395],\n",
       "         [-0.0117,  0.0399,  0.2018,  ...,  0.3111, -0.1818, -0.2661],\n",
       "         ...,\n",
       "         [-0.0373,  0.0334,  0.1665,  ...,  0.3902, -0.1903, -0.2395],\n",
       "         [-0.0671,  0.0489,  0.2081,  ...,  0.3157, -0.2346, -0.2467],\n",
       "         [-0.0671,  0.0489,  0.2081,  ...,  0.3157, -0.2346, -0.2467]],\n",
       "\n",
       "        [[ 0.1615,  0.1103,  0.0325,  ..., -0.0098, -0.1238, -0.1394],\n",
       "         [ 0.1990,  0.2135,  0.0445,  ...,  0.0118, -0.0013, -0.2115],\n",
       "         [ 0.1990,  0.2135,  0.0445,  ...,  0.0118, -0.0013, -0.2115],\n",
       "         ...,\n",
       "         [ 0.4457,  0.2680,  0.1138,  ..., -0.0230,  0.1533, -0.2074],\n",
       "         [ 0.3351,  0.1980,  0.0436,  ..., -0.0034,  0.1561, -0.2403],\n",
       "         [ 0.4492,  0.2674,  0.0701,  ..., -0.0470,  0.1056, -0.1473]]],\n",
       "       grad_fn=<AsStridedBackward>)"
      ]
     },
     "execution_count": 68,
     "metadata": {},
     "output_type": "execute_result"
    }
   ],
   "source": [
    "x.transpose(1, 2).contiguous().reshape(30, -1, 512)"
   ]
  },
  {
   "cell_type": "code",
   "execution_count": 64,
   "metadata": {
    "nbpresent": {
     "id": "fe77ce6e-f7a1-4fe2-b6a1-5b5ddb6cdaf2"
    }
   },
   "outputs": [
    {
     "data": {
      "text/plain": [
       "True"
      ]
     },
     "execution_count": 64,
     "metadata": {},
     "output_type": "execute_result"
    }
   ],
   "source": [
    "torch.allclose(x.transpose(1, 2).contiguous().view(30, -1, 512), x.transpose(1, 2).reshape(30, -1, 512))"
   ]
  },
  {
   "cell_type": "code",
   "execution_count": 69,
   "metadata": {
    "nbpresent": {
     "id": "68953842-0f6e-45ce-9503-1a69f1d524d9"
    }
   },
   "outputs": [
    {
     "name": "stderr",
     "output_type": "stream",
     "text": [
      "/Users/abkds/anaconda3/lib/python3.6/importlib/_bootstrap.py:219: RuntimeWarning: numpy.ufunc size changed, may indicate binary incompatibility. Expected 216, got 192\n",
      "  return f(*args, **kwds)\n",
      "/Users/abkds/anaconda3/lib/python3.6/importlib/_bootstrap.py:219: RuntimeWarning: numpy.dtype size changed, may indicate binary incompatibility. Expected 96, got 88\n",
      "  return f(*args, **kwds)\n",
      "/Users/abkds/anaconda3/lib/python3.6/site-packages/h5py/__init__.py:36: FutureWarning: Conversion of the second argument of issubdtype from `float` to `np.floating` is deprecated. In future, it will be treated as `np.float64 == np.dtype(float).type`.\n",
      "  from ._conv import register_converters as _register_converters\n",
      "/Users/abkds/anaconda3/lib/python3.6/importlib/_bootstrap.py:219: RuntimeWarning: numpy.dtype size changed, may indicate binary incompatibility. Expected 96, got 88\n",
      "  return f(*args, **kwds)\n",
      "/Users/abkds/anaconda3/lib/python3.6/importlib/_bootstrap.py:219: RuntimeWarning: numpy.ufunc size changed, may indicate binary incompatibility. Expected 216, got 192\n",
      "  return f(*args, **kwds)\n"
     ]
    }
   ],
   "source": [
    "import tensorflow as tf"
   ]
  },
  {
   "cell_type": "code",
   "execution_count": 74,
   "metadata": {
    "nbpresent": {
     "id": "7814c23c-a875-45ea-a6e0-fb7574fb147b"
    }
   },
   "outputs": [],
   "source": [
    "import numpy as np\n",
    "batch, d, h, w, channels = 5, 2, 3, 4, 6\n",
    "input_ = np.random.rand(batch, d, h, w, channels)"
   ]
  },
  {
   "cell_type": "code",
   "execution_count": 76,
   "metadata": {
    "nbpresent": {
     "id": "8940f45e-1407-4a32-9034-1cf9c454d65b"
    }
   },
   "outputs": [
    {
     "data": {
      "text/plain": [
       "(5, 2, 3, 4, 6)"
      ]
     },
     "execution_count": 76,
     "metadata": {},
     "output_type": "execute_result"
    }
   ],
   "source": [
    "input_.shape"
   ]
  },
  {
   "cell_type": "code",
   "execution_count": 77,
   "metadata": {
    "nbpresent": {
     "id": "5b2a1f4b-24a4-4ea5-9c5e-45a90b12afa9"
    }
   },
   "outputs": [
    {
     "name": "stdout",
     "output_type": "stream",
     "text": [
      "Help on function conv3d in module tensorflow.python.layers.convolutional:\n",
      "\n",
      "conv3d(inputs, filters, kernel_size, strides=(1, 1, 1), padding='valid', data_format='channels_last', dilation_rate=(1, 1, 1), activation=None, use_bias=True, kernel_initializer=None, bias_initializer=<tensorflow.python.ops.init_ops.Zeros object at 0x1a31d3ee80>, kernel_regularizer=None, bias_regularizer=None, activity_regularizer=None, kernel_constraint=None, bias_constraint=None, trainable=True, name=None, reuse=None)\n",
      "    Functional interface for the 3D convolution layer.\n",
      "    \n",
      "    This layer creates a convolution kernel that is convolved\n",
      "    (actually cross-correlated) with the layer input to produce a tensor of\n",
      "    outputs. If `use_bias` is True (and a `bias_initializer` is provided),\n",
      "    a bias vector is created and added to the outputs. Finally, if\n",
      "    `activation` is not `None`, it is applied to the outputs as well.\n",
      "    \n",
      "    Arguments:\n",
      "      inputs: Tensor input.\n",
      "      filters: Integer, the dimensionality of the output space (i.e. the number\n",
      "        of filters in the convolution).\n",
      "      kernel_size: An integer or tuple/list of 3 integers, specifying the\n",
      "        depth, height and width of the 3D convolution window.\n",
      "        Can be a single integer to specify the same value for\n",
      "        all spatial dimensions.\n",
      "      strides: An integer or tuple/list of 3 integers,\n",
      "        specifying the strides of the convolution along the depth,\n",
      "        height and width.\n",
      "        Can be a single integer to specify the same value for\n",
      "        all spatial dimensions.\n",
      "        Specifying any stride value != 1 is incompatible with specifying\n",
      "        any `dilation_rate` value != 1.\n",
      "      padding: One of `\"valid\"` or `\"same\"` (case-insensitive).\n",
      "      data_format: A string, one of `channels_last` (default) or `channels_first`.\n",
      "        The ordering of the dimensions in the inputs.\n",
      "        `channels_last` corresponds to inputs with shape\n",
      "        `(batch, depth, height, width, channels)` while `channels_first`\n",
      "        corresponds to inputs with shape\n",
      "        `(batch, channels, depth, height, width)`.\n",
      "      dilation_rate: An integer or tuple/list of 3 integers, specifying\n",
      "        the dilation rate to use for dilated convolution.\n",
      "        Can be a single integer to specify the same value for\n",
      "        all spatial dimensions.\n",
      "        Currently, specifying any `dilation_rate` value != 1 is\n",
      "        incompatible with specifying any stride value != 1.\n",
      "      activation: Activation function. Set it to None to maintain a\n",
      "        linear activation.\n",
      "      use_bias: Boolean, whether the layer uses a bias.\n",
      "      kernel_initializer: An initializer for the convolution kernel.\n",
      "      bias_initializer: An initializer for the bias vector. If None, the default\n",
      "        initializer will be used.\n",
      "      kernel_regularizer: Optional regularizer for the convolution kernel.\n",
      "      bias_regularizer: Optional regularizer for the bias vector.\n",
      "      activity_regularizer: Optional regularizer function for the output.\n",
      "      kernel_constraint: Optional projection function to be applied to the\n",
      "          kernel after being updated by an `Optimizer` (e.g. used to implement\n",
      "          norm constraints or value constraints for layer weights). The function\n",
      "          must take as input the unprojected variable and must return the\n",
      "          projected variable (which must have the same shape). Constraints are\n",
      "          not safe to use when doing asynchronous distributed training.\n",
      "      bias_constraint: Optional projection function to be applied to the\n",
      "          bias after being updated by an `Optimizer`.\n",
      "      trainable: Boolean, if `True` also add variables to the graph collection\n",
      "        `GraphKeys.TRAINABLE_VARIABLES` (see `tf.Variable`).\n",
      "      name: A string, the name of the layer.\n",
      "      reuse: Boolean, whether to reuse the weights of a previous layer\n",
      "        by the same name.\n",
      "    \n",
      "    Returns:\n",
      "      Output tensor.\n",
      "    \n",
      "    Raises:\n",
      "      ValueError: if eager execution is enabled.\n",
      "\n"
     ]
    }
   ],
   "source": [
    "help(tf.layers.conv3d)"
   ]
  },
  {
   "cell_type": "code",
   "execution_count": 89,
   "metadata": {
    "nbpresent": {
     "id": "b37c103e-b103-40a8-b57c-713cd0a27866"
    }
   },
   "outputs": [],
   "source": [
    "def Conv3D(inputs, filters, kernel_size, strides, use_bias=False):\n",
    "    \"\"\"Performs 3D convolution without bias and activation function.\"\"\"\n",
    "    return tf.layers.conv3d(\n",
    "            inputs=inputs,\n",
    "            filters=filters,\n",
    "            kernel_size=kernel_size,\n",
    "            strides=strides,\n",
    "            padding='same',\n",
    "            use_bias=use_bias)\n",
    "            kernel_initializer=tf.truncated_normal_initializer())"
   ]
  },
  {
   "cell_type": "code",
   "execution_count": 93,
   "metadata": {
    "nbpresent": {
     "id": "fd0e9c72-e18b-4187-9b2c-753fc729757a"
    }
   },
   "outputs": [
    {
     "data": {
      "text/plain": [
       "<tf.Operation 'init' type=NoOp>"
      ]
     },
     "execution_count": 93,
     "metadata": {},
     "output_type": "execute_result"
    }
   ],
   "source": [
    "tf.global_variables_initializer()"
   ]
  },
  {
   "cell_type": "code",
   "execution_count": 91,
   "metadata": {
    "nbpresent": {
     "id": "a577b995-b886-4229-b4f2-67a89ec3f9a1"
    }
   },
   "outputs": [
    {
     "ename": "AttributeError",
     "evalue": "'tuple' object has no attribute 'ndims'",
     "output_type": "error",
     "traceback": [
      "\u001b[0;31m---------------------------------------------------------------------------\u001b[0m",
      "\u001b[0;31mAttributeError\u001b[0m                            Traceback (most recent call last)",
      "\u001b[0;32m<ipython-input-91-2b4178c9240d>\u001b[0m in \u001b[0;36m<module>\u001b[0;34m()\u001b[0m\n\u001b[1;32m      1\u001b[0m \u001b[0msess\u001b[0m \u001b[0;34m=\u001b[0m \u001b[0mtf\u001b[0m\u001b[0;34m.\u001b[0m\u001b[0mInteractiveSession\u001b[0m\u001b[0;34m(\u001b[0m\u001b[0;34m)\u001b[0m\u001b[0;34m\u001b[0m\u001b[0;34m\u001b[0m\u001b[0m\n\u001b[0;32m----> 2\u001b[0;31m \u001b[0mConv3D\u001b[0m\u001b[0;34m(\u001b[0m\u001b[0minput_\u001b[0m\u001b[0;34m,\u001b[0m \u001b[0;36m8\u001b[0m\u001b[0;34m,\u001b[0m \u001b[0;36m1\u001b[0m\u001b[0;34m,\u001b[0m \u001b[0;36m1\u001b[0m\u001b[0;34m,\u001b[0m \u001b[0muse_bias\u001b[0m\u001b[0;34m=\u001b[0m\u001b[0;32mTrue\u001b[0m\u001b[0;34m)\u001b[0m\u001b[0;34m\u001b[0m\u001b[0;34m\u001b[0m\u001b[0m\n\u001b[0m\u001b[1;32m      3\u001b[0m \u001b[0msess\u001b[0m\u001b[0;34m.\u001b[0m\u001b[0mclose\u001b[0m\u001b[0;34m(\u001b[0m\u001b[0;34m)\u001b[0m\u001b[0;34m\u001b[0m\u001b[0;34m\u001b[0m\u001b[0m\n",
      "\u001b[0;32m<ipython-input-89-3fc19b55aaff>\u001b[0m in \u001b[0;36mConv3D\u001b[0;34m(inputs, filters, kernel_size, strides, use_bias)\u001b[0m\n\u001b[1;32m      7\u001b[0m             \u001b[0mstrides\u001b[0m\u001b[0;34m=\u001b[0m\u001b[0mstrides\u001b[0m\u001b[0;34m,\u001b[0m\u001b[0;34m\u001b[0m\u001b[0;34m\u001b[0m\u001b[0m\n\u001b[1;32m      8\u001b[0m             \u001b[0mpadding\u001b[0m\u001b[0;34m=\u001b[0m\u001b[0;34m'same'\u001b[0m\u001b[0;34m,\u001b[0m\u001b[0;34m\u001b[0m\u001b[0;34m\u001b[0m\u001b[0m\n\u001b[0;32m----> 9\u001b[0;31m             use_bias=use_bias)\n\u001b[0m\u001b[1;32m     10\u001b[0m             \u001b[0;31m# kernel_initializer=tf.truncated_normal_initializer())\u001b[0m\u001b[0;34m\u001b[0m\u001b[0;34m\u001b[0m\u001b[0;34m\u001b[0m\u001b[0m\n",
      "\u001b[0;32m~/anaconda3/lib/python3.6/site-packages/tensorflow/python/layers/convolutional.py\u001b[0m in \u001b[0;36mconv3d\u001b[0;34m(inputs, filters, kernel_size, strides, padding, data_format, dilation_rate, activation, use_bias, kernel_initializer, bias_initializer, kernel_regularizer, bias_regularizer, activity_regularizer, kernel_constraint, bias_constraint, trainable, name, reuse)\u001b[0m\n\u001b[1;32m    620\u001b[0m       \u001b[0m_reuse\u001b[0m\u001b[0;34m=\u001b[0m\u001b[0mreuse\u001b[0m\u001b[0;34m,\u001b[0m\u001b[0;34m\u001b[0m\u001b[0;34m\u001b[0m\u001b[0m\n\u001b[1;32m    621\u001b[0m       _scope=name)\n\u001b[0;32m--> 622\u001b[0;31m   \u001b[0;32mreturn\u001b[0m \u001b[0mlayer\u001b[0m\u001b[0;34m.\u001b[0m\u001b[0mapply\u001b[0m\u001b[0;34m(\u001b[0m\u001b[0minputs\u001b[0m\u001b[0;34m)\u001b[0m\u001b[0;34m\u001b[0m\u001b[0;34m\u001b[0m\u001b[0m\n\u001b[0m\u001b[1;32m    623\u001b[0m \u001b[0;34m\u001b[0m\u001b[0m\n\u001b[1;32m    624\u001b[0m \u001b[0;34m\u001b[0m\u001b[0m\n",
      "\u001b[0;32m~/anaconda3/lib/python3.6/site-packages/tensorflow/python/keras/engine/base_layer.py\u001b[0m in \u001b[0;36mapply\u001b[0;34m(self, inputs, *args, **kwargs)\u001b[0m\n\u001b[1;32m    815\u001b[0m       \u001b[0mOutput\u001b[0m \u001b[0mtensor\u001b[0m\u001b[0;34m(\u001b[0m\u001b[0ms\u001b[0m\u001b[0;34m)\u001b[0m\u001b[0;34m.\u001b[0m\u001b[0;34m\u001b[0m\u001b[0;34m\u001b[0m\u001b[0m\n\u001b[1;32m    816\u001b[0m     \"\"\"\n\u001b[0;32m--> 817\u001b[0;31m     \u001b[0;32mreturn\u001b[0m \u001b[0mself\u001b[0m\u001b[0;34m.\u001b[0m\u001b[0m__call__\u001b[0m\u001b[0;34m(\u001b[0m\u001b[0minputs\u001b[0m\u001b[0;34m,\u001b[0m \u001b[0;34m*\u001b[0m\u001b[0margs\u001b[0m\u001b[0;34m,\u001b[0m \u001b[0;34m**\u001b[0m\u001b[0mkwargs\u001b[0m\u001b[0;34m)\u001b[0m\u001b[0;34m\u001b[0m\u001b[0;34m\u001b[0m\u001b[0m\n\u001b[0m\u001b[1;32m    818\u001b[0m \u001b[0;34m\u001b[0m\u001b[0m\n\u001b[1;32m    819\u001b[0m   \u001b[0;32mdef\u001b[0m \u001b[0m_set_learning_phase_metadata\u001b[0m\u001b[0;34m(\u001b[0m\u001b[0mself\u001b[0m\u001b[0;34m,\u001b[0m \u001b[0minputs\u001b[0m\u001b[0;34m,\u001b[0m \u001b[0moutputs\u001b[0m\u001b[0;34m)\u001b[0m\u001b[0;34m:\u001b[0m\u001b[0;34m\u001b[0m\u001b[0;34m\u001b[0m\u001b[0m\n",
      "\u001b[0;32m~/anaconda3/lib/python3.6/site-packages/tensorflow/python/layers/base.py\u001b[0m in \u001b[0;36m__call__\u001b[0;34m(self, inputs, *args, **kwargs)\u001b[0m\n\u001b[1;32m    372\u001b[0m \u001b[0;34m\u001b[0m\u001b[0m\n\u001b[1;32m    373\u001b[0m       \u001b[0;31m# Actually call layer\u001b[0m\u001b[0;34m\u001b[0m\u001b[0;34m\u001b[0m\u001b[0;34m\u001b[0m\u001b[0m\n\u001b[0;32m--> 374\u001b[0;31m       \u001b[0moutputs\u001b[0m \u001b[0;34m=\u001b[0m \u001b[0msuper\u001b[0m\u001b[0;34m(\u001b[0m\u001b[0mLayer\u001b[0m\u001b[0;34m,\u001b[0m \u001b[0mself\u001b[0m\u001b[0;34m)\u001b[0m\u001b[0;34m.\u001b[0m\u001b[0m__call__\u001b[0m\u001b[0;34m(\u001b[0m\u001b[0minputs\u001b[0m\u001b[0;34m,\u001b[0m \u001b[0;34m*\u001b[0m\u001b[0margs\u001b[0m\u001b[0;34m,\u001b[0m \u001b[0;34m**\u001b[0m\u001b[0mkwargs\u001b[0m\u001b[0;34m)\u001b[0m\u001b[0;34m\u001b[0m\u001b[0;34m\u001b[0m\u001b[0m\n\u001b[0m\u001b[1;32m    375\u001b[0m \u001b[0;34m\u001b[0m\u001b[0m\n\u001b[1;32m    376\u001b[0m     \u001b[0;32mif\u001b[0m \u001b[0;32mnot\u001b[0m \u001b[0mcontext\u001b[0m\u001b[0;34m.\u001b[0m\u001b[0mexecuting_eagerly\u001b[0m\u001b[0;34m(\u001b[0m\u001b[0;34m)\u001b[0m\u001b[0;34m:\u001b[0m\u001b[0;34m\u001b[0m\u001b[0;34m\u001b[0m\u001b[0m\n",
      "\u001b[0;32m~/anaconda3/lib/python3.6/site-packages/tensorflow/python/keras/engine/base_layer.py\u001b[0m in \u001b[0;36m__call__\u001b[0;34m(self, inputs, *args, **kwargs)\u001b[0m\n\u001b[1;32m    728\u001b[0m \u001b[0;34m\u001b[0m\u001b[0m\n\u001b[1;32m    729\u001b[0m         \u001b[0;31m# Check input assumptions set before layer building, e.g. input rank.\u001b[0m\u001b[0;34m\u001b[0m\u001b[0;34m\u001b[0m\u001b[0;34m\u001b[0m\u001b[0m\n\u001b[0;32m--> 730\u001b[0;31m         \u001b[0mself\u001b[0m\u001b[0;34m.\u001b[0m\u001b[0m_assert_input_compatibility\u001b[0m\u001b[0;34m(\u001b[0m\u001b[0minputs\u001b[0m\u001b[0;34m)\u001b[0m\u001b[0;34m\u001b[0m\u001b[0;34m\u001b[0m\u001b[0m\n\u001b[0m\u001b[1;32m    731\u001b[0m         \u001b[0;32mif\u001b[0m \u001b[0minput_list\u001b[0m \u001b[0;32mand\u001b[0m \u001b[0mself\u001b[0m\u001b[0;34m.\u001b[0m\u001b[0m_dtype\u001b[0m \u001b[0;32mis\u001b[0m \u001b[0;32mNone\u001b[0m\u001b[0;34m:\u001b[0m\u001b[0;34m\u001b[0m\u001b[0;34m\u001b[0m\u001b[0m\n\u001b[1;32m    732\u001b[0m           \u001b[0;32mtry\u001b[0m\u001b[0;34m:\u001b[0m\u001b[0;34m\u001b[0m\u001b[0;34m\u001b[0m\u001b[0m\n",
      "\u001b[0;32m~/anaconda3/lib/python3.6/site-packages/tensorflow/python/keras/engine/base_layer.py\u001b[0m in \u001b[0;36m_assert_input_compatibility\u001b[0;34m(self, inputs)\u001b[0m\n\u001b[1;32m   1461\u001b[0m           \u001b[0mspec\u001b[0m\u001b[0;34m.\u001b[0m\u001b[0mmin_ndim\u001b[0m \u001b[0;32mis\u001b[0m \u001b[0;32mnot\u001b[0m \u001b[0;32mNone\u001b[0m \u001b[0;32mor\u001b[0m\u001b[0;34m\u001b[0m\u001b[0;34m\u001b[0m\u001b[0m\n\u001b[1;32m   1462\u001b[0m           spec.max_ndim is not None):\n\u001b[0;32m-> 1463\u001b[0;31m         \u001b[0;32mif\u001b[0m \u001b[0mx\u001b[0m\u001b[0;34m.\u001b[0m\u001b[0mshape\u001b[0m\u001b[0;34m.\u001b[0m\u001b[0mndims\u001b[0m \u001b[0;32mis\u001b[0m \u001b[0;32mNone\u001b[0m\u001b[0;34m:\u001b[0m\u001b[0;34m\u001b[0m\u001b[0;34m\u001b[0m\u001b[0m\n\u001b[0m\u001b[1;32m   1464\u001b[0m           raise ValueError('Input ' + str(input_index) + ' of layer ' +\n\u001b[1;32m   1465\u001b[0m                            \u001b[0mself\u001b[0m\u001b[0;34m.\u001b[0m\u001b[0mname\u001b[0m \u001b[0;34m+\u001b[0m \u001b[0;34m' is incompatible with the layer: '\u001b[0m\u001b[0;34m\u001b[0m\u001b[0;34m\u001b[0m\u001b[0m\n",
      "\u001b[0;31mAttributeError\u001b[0m: 'tuple' object has no attribute 'ndims'"
     ]
    }
   ],
   "source": [
    "# sess = tf.InteractiveSession()\n",
    "Conv3D(input_, 8, 1, 1, use_bias=True)\n",
    "# sess.close()"
   ]
  },
  {
   "cell_type": "code",
   "execution_count": 96,
   "metadata": {
    "nbpresent": {
     "id": "8ec03cc3-8b34-41f3-b256-15159c0befb7"
    }
   },
   "outputs": [
    {
     "ename": "TypeError",
     "evalue": "Input 'y' of 'Mul' Op has type float32 that does not match type float64 of argument 'x'.",
     "output_type": "error",
     "traceback": [
      "\u001b[0;31m---------------------------------------------------------------------------\u001b[0m",
      "\u001b[0;31mValueError\u001b[0m                                Traceback (most recent call last)",
      "\u001b[0;32m~/anaconda3/lib/python3.6/site-packages/tensorflow/python/framework/op_def_library.py\u001b[0m in \u001b[0;36m_apply_op_helper\u001b[0;34m(self, op_type_name, name, **keywords)\u001b[0m\n\u001b[1;32m    509\u001b[0m                 \u001b[0mas_ref\u001b[0m\u001b[0;34m=\u001b[0m\u001b[0minput_arg\u001b[0m\u001b[0;34m.\u001b[0m\u001b[0mis_ref\u001b[0m\u001b[0;34m,\u001b[0m\u001b[0;34m\u001b[0m\u001b[0;34m\u001b[0m\u001b[0m\n\u001b[0;32m--> 510\u001b[0;31m                 preferred_dtype=default_dtype)\n\u001b[0m\u001b[1;32m    511\u001b[0m           \u001b[0;32mexcept\u001b[0m \u001b[0mTypeError\u001b[0m \u001b[0;32mas\u001b[0m \u001b[0merr\u001b[0m\u001b[0;34m:\u001b[0m\u001b[0;34m\u001b[0m\u001b[0;34m\u001b[0m\u001b[0m\n",
      "\u001b[0;32m~/anaconda3/lib/python3.6/site-packages/tensorflow/python/framework/ops.py\u001b[0m in \u001b[0;36minternal_convert_to_tensor\u001b[0;34m(value, dtype, name, as_ref, preferred_dtype, ctx)\u001b[0m\n\u001b[1;32m   1145\u001b[0m     \u001b[0;32mif\u001b[0m \u001b[0mret\u001b[0m \u001b[0;32mis\u001b[0m \u001b[0;32mNone\u001b[0m\u001b[0;34m:\u001b[0m\u001b[0;34m\u001b[0m\u001b[0;34m\u001b[0m\u001b[0m\n\u001b[0;32m-> 1146\u001b[0;31m       \u001b[0mret\u001b[0m \u001b[0;34m=\u001b[0m \u001b[0mconversion_func\u001b[0m\u001b[0;34m(\u001b[0m\u001b[0mvalue\u001b[0m\u001b[0;34m,\u001b[0m \u001b[0mdtype\u001b[0m\u001b[0;34m=\u001b[0m\u001b[0mdtype\u001b[0m\u001b[0;34m,\u001b[0m \u001b[0mname\u001b[0m\u001b[0;34m=\u001b[0m\u001b[0mname\u001b[0m\u001b[0;34m,\u001b[0m \u001b[0mas_ref\u001b[0m\u001b[0;34m=\u001b[0m\u001b[0mas_ref\u001b[0m\u001b[0;34m)\u001b[0m\u001b[0;34m\u001b[0m\u001b[0;34m\u001b[0m\u001b[0m\n\u001b[0m\u001b[1;32m   1147\u001b[0m \u001b[0;34m\u001b[0m\u001b[0m\n",
      "\u001b[0;32m~/anaconda3/lib/python3.6/site-packages/tensorflow/python/framework/ops.py\u001b[0m in \u001b[0;36m_TensorTensorConversionFunction\u001b[0;34m(t, dtype, name, as_ref)\u001b[0m\n\u001b[1;32m    982\u001b[0m         \u001b[0;34m\"Tensor conversion requested dtype %s for Tensor with dtype %s: %r\"\u001b[0m \u001b[0;34m%\u001b[0m\u001b[0;34m\u001b[0m\u001b[0;34m\u001b[0m\u001b[0m\n\u001b[0;32m--> 983\u001b[0;31m         (dtype.name, t.dtype.name, str(t)))\n\u001b[0m\u001b[1;32m    984\u001b[0m   \u001b[0;32mreturn\u001b[0m \u001b[0mt\u001b[0m\u001b[0;34m\u001b[0m\u001b[0;34m\u001b[0m\u001b[0m\n",
      "\u001b[0;31mValueError\u001b[0m: Tensor conversion requested dtype float64 for Tensor with dtype float32: 'Tensor(\"Const_4:0\", shape=(), dtype=float32)'",
      "\nDuring handling of the above exception, another exception occurred:\n",
      "\u001b[0;31mTypeError\u001b[0m                                 Traceback (most recent call last)",
      "\u001b[0;32m<ipython-input-96-80195736eedc>\u001b[0m in \u001b[0;36m<module>\u001b[0;34m()\u001b[0m\n\u001b[1;32m      2\u001b[0m \u001b[0ma\u001b[0m \u001b[0;34m=\u001b[0m \u001b[0mtf\u001b[0m\u001b[0;34m.\u001b[0m\u001b[0mconstant\u001b[0m\u001b[0;34m(\u001b[0m\u001b[0minput_\u001b[0m\u001b[0;34m)\u001b[0m\u001b[0;34m\u001b[0m\u001b[0;34m\u001b[0m\u001b[0m\n\u001b[1;32m      3\u001b[0m \u001b[0mb\u001b[0m \u001b[0;34m=\u001b[0m \u001b[0mtf\u001b[0m\u001b[0;34m.\u001b[0m\u001b[0mconstant\u001b[0m\u001b[0;34m(\u001b[0m\u001b[0;36m6.0\u001b[0m\u001b[0;34m)\u001b[0m\u001b[0;34m\u001b[0m\u001b[0;34m\u001b[0m\u001b[0m\n\u001b[0;32m----> 4\u001b[0;31m \u001b[0mc\u001b[0m \u001b[0;34m=\u001b[0m \u001b[0ma\u001b[0m \u001b[0;34m*\u001b[0m \u001b[0mb\u001b[0m\u001b[0;34m\u001b[0m\u001b[0;34m\u001b[0m\u001b[0m\n\u001b[0m\u001b[1;32m      5\u001b[0m \u001b[0;34m\u001b[0m\u001b[0m\n\u001b[1;32m      6\u001b[0m \u001b[0;31m# Launch the graph in a session.\u001b[0m\u001b[0;34m\u001b[0m\u001b[0;34m\u001b[0m\u001b[0;34m\u001b[0m\u001b[0m\n",
      "\u001b[0;32m~/anaconda3/lib/python3.6/site-packages/tensorflow/python/ops/math_ops.py\u001b[0m in \u001b[0;36mbinary_op_wrapper\u001b[0;34m(x, y)\u001b[0m\n\u001b[1;32m    864\u001b[0m     \u001b[0;32mwith\u001b[0m \u001b[0mops\u001b[0m\u001b[0;34m.\u001b[0m\u001b[0mname_scope\u001b[0m\u001b[0;34m(\u001b[0m\u001b[0;32mNone\u001b[0m\u001b[0;34m,\u001b[0m \u001b[0mop_name\u001b[0m\u001b[0;34m,\u001b[0m \u001b[0;34m[\u001b[0m\u001b[0mx\u001b[0m\u001b[0;34m,\u001b[0m \u001b[0my\u001b[0m\u001b[0;34m]\u001b[0m\u001b[0;34m)\u001b[0m \u001b[0;32mas\u001b[0m \u001b[0mname\u001b[0m\u001b[0;34m:\u001b[0m\u001b[0;34m\u001b[0m\u001b[0;34m\u001b[0m\u001b[0m\n\u001b[1;32m    865\u001b[0m       \u001b[0;32mif\u001b[0m \u001b[0misinstance\u001b[0m\u001b[0;34m(\u001b[0m\u001b[0mx\u001b[0m\u001b[0;34m,\u001b[0m \u001b[0mops\u001b[0m\u001b[0;34m.\u001b[0m\u001b[0mTensor\u001b[0m\u001b[0;34m)\u001b[0m \u001b[0;32mand\u001b[0m \u001b[0misinstance\u001b[0m\u001b[0;34m(\u001b[0m\u001b[0my\u001b[0m\u001b[0;34m,\u001b[0m \u001b[0mops\u001b[0m\u001b[0;34m.\u001b[0m\u001b[0mTensor\u001b[0m\u001b[0;34m)\u001b[0m\u001b[0;34m:\u001b[0m\u001b[0;34m\u001b[0m\u001b[0;34m\u001b[0m\u001b[0m\n\u001b[0;32m--> 866\u001b[0;31m         \u001b[0;32mreturn\u001b[0m \u001b[0mfunc\u001b[0m\u001b[0;34m(\u001b[0m\u001b[0mx\u001b[0m\u001b[0;34m,\u001b[0m \u001b[0my\u001b[0m\u001b[0;34m,\u001b[0m \u001b[0mname\u001b[0m\u001b[0;34m=\u001b[0m\u001b[0mname\u001b[0m\u001b[0;34m)\u001b[0m\u001b[0;34m\u001b[0m\u001b[0;34m\u001b[0m\u001b[0m\n\u001b[0m\u001b[1;32m    867\u001b[0m       \u001b[0;32melif\u001b[0m \u001b[0;32mnot\u001b[0m \u001b[0misinstance\u001b[0m\u001b[0;34m(\u001b[0m\u001b[0my\u001b[0m\u001b[0;34m,\u001b[0m \u001b[0msparse_tensor\u001b[0m\u001b[0;34m.\u001b[0m\u001b[0mSparseTensor\u001b[0m\u001b[0;34m)\u001b[0m\u001b[0;34m:\u001b[0m\u001b[0;34m\u001b[0m\u001b[0;34m\u001b[0m\u001b[0m\n\u001b[1;32m    868\u001b[0m         \u001b[0;32mtry\u001b[0m\u001b[0;34m:\u001b[0m\u001b[0;34m\u001b[0m\u001b[0;34m\u001b[0m\u001b[0m\n",
      "\u001b[0;32m~/anaconda3/lib/python3.6/site-packages/tensorflow/python/ops/math_ops.py\u001b[0m in \u001b[0;36m_mul_dispatch\u001b[0;34m(x, y, name)\u001b[0m\n\u001b[1;32m   1129\u001b[0m   \u001b[0mis_tensor_y\u001b[0m \u001b[0;34m=\u001b[0m \u001b[0misinstance\u001b[0m\u001b[0;34m(\u001b[0m\u001b[0my\u001b[0m\u001b[0;34m,\u001b[0m \u001b[0mops\u001b[0m\u001b[0;34m.\u001b[0m\u001b[0mTensor\u001b[0m\u001b[0;34m)\u001b[0m\u001b[0;34m\u001b[0m\u001b[0;34m\u001b[0m\u001b[0m\n\u001b[1;32m   1130\u001b[0m   \u001b[0;32mif\u001b[0m \u001b[0mis_tensor_y\u001b[0m\u001b[0;34m:\u001b[0m\u001b[0;34m\u001b[0m\u001b[0;34m\u001b[0m\u001b[0m\n\u001b[0;32m-> 1131\u001b[0;31m     \u001b[0;32mreturn\u001b[0m \u001b[0mgen_math_ops\u001b[0m\u001b[0;34m.\u001b[0m\u001b[0mmul\u001b[0m\u001b[0;34m(\u001b[0m\u001b[0mx\u001b[0m\u001b[0;34m,\u001b[0m \u001b[0my\u001b[0m\u001b[0;34m,\u001b[0m \u001b[0mname\u001b[0m\u001b[0;34m=\u001b[0m\u001b[0mname\u001b[0m\u001b[0;34m)\u001b[0m\u001b[0;34m\u001b[0m\u001b[0;34m\u001b[0m\u001b[0m\n\u001b[0m\u001b[1;32m   1132\u001b[0m   \u001b[0;32melse\u001b[0m\u001b[0;34m:\u001b[0m\u001b[0;34m\u001b[0m\u001b[0;34m\u001b[0m\u001b[0m\n\u001b[1;32m   1133\u001b[0m     \u001b[0;32massert\u001b[0m \u001b[0misinstance\u001b[0m\u001b[0;34m(\u001b[0m\u001b[0my\u001b[0m\u001b[0;34m,\u001b[0m \u001b[0msparse_tensor\u001b[0m\u001b[0;34m.\u001b[0m\u001b[0mSparseTensor\u001b[0m\u001b[0;34m)\u001b[0m  \u001b[0;31m# Case: Dense * Sparse.\u001b[0m\u001b[0;34m\u001b[0m\u001b[0;34m\u001b[0m\u001b[0m\n",
      "\u001b[0;32m~/anaconda3/lib/python3.6/site-packages/tensorflow/python/ops/gen_math_ops.py\u001b[0m in \u001b[0;36mmul\u001b[0;34m(x, y, name)\u001b[0m\n\u001b[1;32m   5040\u001b[0m   \u001b[0;32mif\u001b[0m \u001b[0m_ctx\u001b[0m \u001b[0;32mis\u001b[0m \u001b[0;32mNone\u001b[0m \u001b[0;32mor\u001b[0m \u001b[0;32mnot\u001b[0m \u001b[0m_ctx\u001b[0m\u001b[0;34m.\u001b[0m\u001b[0m_eager_context\u001b[0m\u001b[0;34m.\u001b[0m\u001b[0mis_eager\u001b[0m\u001b[0;34m:\u001b[0m\u001b[0;34m\u001b[0m\u001b[0;34m\u001b[0m\u001b[0m\n\u001b[1;32m   5041\u001b[0m     _, _, _op = _op_def_lib._apply_op_helper(\n\u001b[0;32m-> 5042\u001b[0;31m         \"Mul\", x=x, y=y, name=name)\n\u001b[0m\u001b[1;32m   5043\u001b[0m     \u001b[0m_result\u001b[0m \u001b[0;34m=\u001b[0m \u001b[0m_op\u001b[0m\u001b[0;34m.\u001b[0m\u001b[0moutputs\u001b[0m\u001b[0;34m[\u001b[0m\u001b[0;34m:\u001b[0m\u001b[0;34m]\u001b[0m\u001b[0;34m\u001b[0m\u001b[0;34m\u001b[0m\u001b[0m\n\u001b[1;32m   5044\u001b[0m     \u001b[0m_inputs_flat\u001b[0m \u001b[0;34m=\u001b[0m \u001b[0m_op\u001b[0m\u001b[0;34m.\u001b[0m\u001b[0minputs\u001b[0m\u001b[0;34m\u001b[0m\u001b[0;34m\u001b[0m\u001b[0m\n",
      "\u001b[0;32m~/anaconda3/lib/python3.6/site-packages/tensorflow/python/framework/op_def_library.py\u001b[0m in \u001b[0;36m_apply_op_helper\u001b[0;34m(self, op_type_name, name, **keywords)\u001b[0m\n\u001b[1;32m    544\u001b[0m                   \u001b[0;34m\"%s type %s of argument '%s'.\"\u001b[0m \u001b[0;34m%\u001b[0m\u001b[0;34m\u001b[0m\u001b[0;34m\u001b[0m\u001b[0m\n\u001b[1;32m    545\u001b[0m                   (prefix, dtypes.as_dtype(attrs[input_arg.type_attr]).name,\n\u001b[0;32m--> 546\u001b[0;31m                    inferred_from[input_arg.type_attr]))\n\u001b[0m\u001b[1;32m    547\u001b[0m \u001b[0;34m\u001b[0m\u001b[0m\n\u001b[1;32m    548\u001b[0m           \u001b[0mtypes\u001b[0m \u001b[0;34m=\u001b[0m \u001b[0;34m[\u001b[0m\u001b[0mvalues\u001b[0m\u001b[0;34m.\u001b[0m\u001b[0mdtype\u001b[0m\u001b[0;34m]\u001b[0m\u001b[0;34m\u001b[0m\u001b[0;34m\u001b[0m\u001b[0m\n",
      "\u001b[0;31mTypeError\u001b[0m: Input 'y' of 'Mul' Op has type float32 that does not match type float64 of argument 'x'."
     ]
    }
   ],
   "source": [
    "# Build a graph.\n",
    "a = tf.constant(input_)\n",
    "b = tf.constant(6.0)\n",
    "c = a * b\n",
    "\n",
    "# Launch the graph in a session.\n",
    "sess = tf.Session()\n",
    "\n",
    "# Evaluate the tensor `c`.\n",
    "print(sess.run(c))"
   ]
  },
  {
   "cell_type": "code",
   "execution_count": 97,
   "metadata": {
    "nbpresent": {
     "id": "5eff9ff1-5f98-4f52-b699-8d3739a65d94"
    }
   },
   "outputs": [
    {
     "ename": "ValueError",
     "evalue": "tf.enable_eager_execution must be called at program startup.",
     "output_type": "error",
     "traceback": [
      "\u001b[0;31m---------------------------------------------------------------------------\u001b[0m",
      "\u001b[0;31mValueError\u001b[0m                                Traceback (most recent call last)",
      "\u001b[0;32m<ipython-input-97-ddf3115bdcc7>\u001b[0m in \u001b[0;36m<module>\u001b[0;34m()\u001b[0m\n\u001b[0;32m----> 1\u001b[0;31m \u001b[0mtf\u001b[0m\u001b[0;34m.\u001b[0m\u001b[0menable_eager_execution\u001b[0m\u001b[0;34m(\u001b[0m\u001b[0;34m)\u001b[0m\u001b[0;34m\u001b[0m\u001b[0;34m\u001b[0m\u001b[0m\n\u001b[0m",
      "\u001b[0;32m~/anaconda3/lib/python3.6/site-packages/tensorflow/python/framework/ops.py\u001b[0m in \u001b[0;36menable_eager_execution\u001b[0;34m(config, device_policy, execution_mode)\u001b[0m\n\u001b[1;32m   5421\u001b[0m         \u001b[0mdevice_policy\u001b[0m\u001b[0;34m=\u001b[0m\u001b[0mdevice_policy\u001b[0m\u001b[0;34m,\u001b[0m\u001b[0;34m\u001b[0m\u001b[0;34m\u001b[0m\u001b[0m\n\u001b[1;32m   5422\u001b[0m         \u001b[0mexecution_mode\u001b[0m\u001b[0;34m=\u001b[0m\u001b[0mexecution_mode\u001b[0m\u001b[0;34m,\u001b[0m\u001b[0;34m\u001b[0m\u001b[0;34m\u001b[0m\u001b[0m\n\u001b[0;32m-> 5423\u001b[0;31m         server_def=None)\n\u001b[0m\u001b[1;32m   5424\u001b[0m \u001b[0;34m\u001b[0m\u001b[0m\n\u001b[1;32m   5425\u001b[0m \u001b[0;34m\u001b[0m\u001b[0m\n",
      "\u001b[0;32m~/anaconda3/lib/python3.6/site-packages/tensorflow/python/framework/ops.py\u001b[0m in \u001b[0;36menable_eager_execution_internal\u001b[0;34m(config, device_policy, execution_mode, server_def)\u001b[0m\n\u001b[1;32m   5465\u001b[0m     \u001b[0;32mif\u001b[0m \u001b[0mgraph_mode_has_been_used\u001b[0m\u001b[0;34m:\u001b[0m\u001b[0;34m\u001b[0m\u001b[0;34m\u001b[0m\u001b[0m\n\u001b[1;32m   5466\u001b[0m       raise ValueError(\n\u001b[0;32m-> 5467\u001b[0;31m           \"tf.enable_eager_execution must be called at program startup.\")\n\u001b[0m\u001b[1;32m   5468\u001b[0m   \u001b[0mcontext\u001b[0m\u001b[0;34m.\u001b[0m\u001b[0mdefault_execution_mode\u001b[0m \u001b[0;34m=\u001b[0m \u001b[0mcontext\u001b[0m\u001b[0;34m.\u001b[0m\u001b[0mEAGER_MODE\u001b[0m\u001b[0;34m\u001b[0m\u001b[0;34m\u001b[0m\u001b[0m\n\u001b[1;32m   5469\u001b[0m   \u001b[0;31m# pylint: disable=protected-access\u001b[0m\u001b[0;34m\u001b[0m\u001b[0;34m\u001b[0m\u001b[0;34m\u001b[0m\u001b[0m\n",
      "\u001b[0;31mValueError\u001b[0m: tf.enable_eager_execution must be called at program startup."
     ]
    }
   ],
   "source": [
    "tf.enable_eager_execution()"
   ]
  },
  {
   "cell_type": "code",
   "execution_count": 98,
   "metadata": {
    "nbpresent": {
     "id": "e63ac693-e999-46bf-b057-5e8adce3a217"
    }
   },
   "outputs": [
    {
     "ename": "SyntaxError",
     "evalue": "invalid syntax (<ipython-input-98-d8603f9f9bc3>, line 1)",
     "output_type": "error",
     "traceback": [
      "\u001b[0;36m  File \u001b[0;32m\"<ipython-input-98-d8603f9f9bc3>\"\u001b[0;36m, line \u001b[0;32m1\u001b[0m\n\u001b[0;31m    which python\u001b[0m\n\u001b[0m               ^\u001b[0m\n\u001b[0;31mSyntaxError\u001b[0m\u001b[0;31m:\u001b[0m invalid syntax\n"
     ]
    }
   ],
   "source": [
    "which python"
   ]
  },
  {
   "cell_type": "code",
   "execution_count": 1,
   "metadata": {
    "nbpresent": {
     "id": "2517c429-97d5-494a-84e1-9910d8dbade6"
    }
   },
   "outputs": [
    {
     "ename": "NameError",
     "evalue": "name 'torch' is not defined",
     "output_type": "error",
     "traceback": [
      "\u001b[0;31m---------------------------------------------------------------------------\u001b[0m",
      "\u001b[0;31mNameError\u001b[0m                                 Traceback (most recent call last)",
      "\u001b[0;32m<ipython-input-1-06e359bb4625>\u001b[0m in \u001b[0;36m<module>\u001b[0;34m()\u001b[0m\n\u001b[0;32m----> 1\u001b[0;31m \u001b[0mtorch\u001b[0m\u001b[0;34m\u001b[0m\u001b[0;34m\u001b[0m\u001b[0m\n\u001b[0m",
      "\u001b[0;31mNameError\u001b[0m: name 'torch' is not defined"
     ]
    }
   ],
   "source": [
    "torch"
   ]
  },
  {
   "cell_type": "code",
   "execution_count": 2,
   "metadata": {
    "nbpresent": {
     "id": "bf3d73a4-cd61-4d71-b21a-16db77be226f"
    }
   },
   "outputs": [],
   "source": [
    "import torch"
   ]
  },
  {
   "cell_type": "code",
   "execution_count": 3,
   "metadata": {
    "nbpresent": {
     "id": "8d7e5d90-57d0-4c85-bcb1-6d8acc82d23c"
    }
   },
   "outputs": [],
   "source": [
    "batch, heads, len_, channels_k, channels_v = 10, 8, 16, 12, 18"
   ]
  },
  {
   "cell_type": "code",
   "execution_count": 4,
   "metadata": {
    "nbpresent": {
     "id": "08680b5e-322d-48da-8fc1-13d0a7758caa"
    }
   },
   "outputs": [],
   "source": [
    "q = torch.rand(batch, heads, len_, channels_k)\n",
    "k = torch.rand(batch, heads, len_, channels_k)\n",
    "v = torch.rand(batch, heads, len_, channels_v)"
   ]
  },
  {
   "cell_type": "code",
   "execution_count": 6,
   "metadata": {
    "nbpresent": {
     "id": "42058ef9-04d4-4cd2-b75e-ad662ec9bf76"
    }
   },
   "outputs": [
    {
     "ename": "RuntimeError",
     "evalue": "Expected 3-dimensional tensor, but got 4-dimensional tensor for argument #1 'batch1' (while checking arguments for bmm)",
     "output_type": "error",
     "traceback": [
      "\u001b[0;31m---------------------------------------------------------------------------\u001b[0m",
      "\u001b[0;31mRuntimeError\u001b[0m                              Traceback (most recent call last)",
      "\u001b[0;32m<ipython-input-6-6184a0d70cec>\u001b[0m in \u001b[0;36m<module>\u001b[0;34m()\u001b[0m\n\u001b[0;32m----> 1\u001b[0;31m \u001b[0mtorch\u001b[0m\u001b[0;34m.\u001b[0m\u001b[0mbmm\u001b[0m\u001b[0;34m(\u001b[0m\u001b[0mq\u001b[0m\u001b[0;34m,\u001b[0m \u001b[0mk\u001b[0m\u001b[0;34m)\u001b[0m\u001b[0;34m\u001b[0m\u001b[0;34m\u001b[0m\u001b[0m\n\u001b[0m",
      "\u001b[0;31mRuntimeError\u001b[0m: Expected 3-dimensional tensor, but got 4-dimensional tensor for argument #1 'batch1' (while checking arguments for bmm)"
     ]
    }
   ],
   "source": [
    "torch.bmm(q, k)"
   ]
  },
  {
   "cell_type": "code",
   "execution_count": 9,
   "metadata": {
    "nbpresent": {
     "id": "59aa166d-5f60-4c3b-b659-1162cc335b85"
    }
   },
   "outputs": [
    {
     "data": {
      "text/plain": [
       "torch.Size([10, 8, 16, 12])"
      ]
     },
     "execution_count": 9,
     "metadata": {},
     "output_type": "execute_result"
    }
   ],
   "source": [
    "q.shape"
   ]
  },
  {
   "cell_type": "code",
   "execution_count": 15,
   "metadata": {
    "nbpresent": {
     "id": "2421800e-32c2-48d5-ba98-c107299ceee3"
    }
   },
   "outputs": [],
   "source": [
    "q_ = q.view(-1, q.shape[-2], q.shape[-1])"
   ]
  },
  {
   "cell_type": "code",
   "execution_count": 16,
   "metadata": {
    "nbpresent": {
     "id": "82dac858-7086-414e-9313-dc7d556c52b5"
    }
   },
   "outputs": [],
   "source": [
    "k_ = k.view(-1, k.shape[-2], k.shape[-1])"
   ]
  },
  {
   "cell_type": "code",
   "execution_count": 19,
   "metadata": {
    "nbpresent": {
     "id": "dba89641-d61a-4feb-8659-d580e34dd5ed"
    }
   },
   "outputs": [
    {
     "data": {
      "text/plain": [
       "torch.Size([80, 16, 16])"
      ]
     },
     "execution_count": 19,
     "metadata": {},
     "output_type": "execute_result"
    }
   ],
   "source": [
    "torch.bmm(q_, k_.transpose(1, 2)).shape"
   ]
  },
  {
   "cell_type": "code",
   "execution_count": 21,
   "metadata": {
    "nbpresent": {
     "id": "0b8f8089-6de9-4892-9ef4-b7289d039049"
    }
   },
   "outputs": [
    {
     "data": {
      "text/plain": [
       "torch.Size([10, 8])"
      ]
     },
     "execution_count": 21,
     "metadata": {},
     "output_type": "execute_result"
    }
   ],
   "source": [
    "q.shape[:-2]"
   ]
  },
  {
   "cell_type": "code",
   "execution_count": 29,
   "metadata": {
    "nbpresent": {
     "id": "e6ce17b4-57e6-46f0-b988-7b62d34e03b1"
    }
   },
   "outputs": [
    {
     "data": {
      "text/plain": [
       "True"
      ]
     },
     "execution_count": 29,
     "metadata": {},
     "output_type": "execute_result"
    }
   ],
   "source": [
    "k.shape[:-2] == q.shape[:-2]"
   ]
  },
  {
   "cell_type": "code",
   "execution_count": 27,
   "metadata": {
    "nbpresent": {
     "id": "a15ad574-5f9c-44fe-8f3e-dc07755075c4"
    }
   },
   "outputs": [
    {
     "data": {
      "text/plain": [
       "torch.Size([10, 8, 16, 16])"
      ]
     },
     "execution_count": 27,
     "metadata": {},
     "output_type": "execute_result"
    }
   ],
   "source": [
    "q.shape[:-2]  + torch.Size([16, 16])"
   ]
  },
  {
   "cell_type": "code",
   "execution_count": 30,
   "metadata": {
    "nbpresent": {
     "id": "28346790-9f62-45e8-9267-c177848d7edb"
    }
   },
   "outputs": [],
   "source": [
    "def bmm_(a, b):\n",
    "    \"\"\"\n",
    "    Multiply two tensors of rank greater than 3\n",
    "    \n",
    "    Args:\n",
    "        a: A tensor of shape [..., m, n]\n",
    "        b: A tensor of shape [..., n, p]\n",
    "        \n",
    "    Returns:\n",
    "        A tensor of shape [..., m, p]\n",
    "        \n",
    "    Raises:\n",
    "        ValueError if remaining shape except for the last two dimensions\n",
    "        are not same\n",
    "    \"\"\"\n",
    "    \n",
    "    if a.shape[:-2] != b.shape[:-2]:\n",
    "        raise ValueError(\"\"\"Remaining shape except the last two dimensions are not equal.\n",
    "                            Shape of a : %s\n",
    "                            Shape of b : %s\n",
    "                            \"\"\" % (a.shape, b.shape))\n",
    "    \n",
    "    a_ = a.view(-1, a.shape[-2], a.shape[-1])\n",
    "    b_ = b.view(-1, b.shape[-2], b.shape[-1])\n",
    "    \n",
    "    out = torch.bmm(a_, b_)\n",
    "    out_shape = a.shape[:-2] + out.shape[-2:]\n",
    "    return out.reshape(out_shape)"
   ]
  },
  {
   "cell_type": "code",
   "execution_count": 36,
   "metadata": {
    "nbpresent": {
     "id": "d4ba5949-d284-4faf-a558-7d94c140c0e1"
    }
   },
   "outputs": [],
   "source": [
    "qk_t = bmm_(q, k.transpose(-2, -1))"
   ]
  },
  {
   "cell_type": "code",
   "execution_count": 37,
   "metadata": {
    "nbpresent": {
     "id": "8d24e117-8577-471a-bad2-4eb286d47647"
    }
   },
   "outputs": [
    {
     "data": {
      "text/plain": [
       "torch.Size([10, 8, 16, 16])"
      ]
     },
     "execution_count": 37,
     "metadata": {},
     "output_type": "execute_result"
    }
   ],
   "source": [
    "qk_t.shape"
   ]
  },
  {
   "cell_type": "code",
   "execution_count": 38,
   "metadata": {
    "nbpresent": {
     "id": "4efd8b41-2f01-4c18-845f-1ba105b59ebf"
    }
   },
   "outputs": [],
   "source": [
    "import torch.nn.functional as F"
   ]
  },
  {
   "cell_type": "code",
   "execution_count": 56,
   "metadata": {
    "nbpresent": {
     "id": "2cf13772-455b-4c56-af2c-b4f2b2ce39f9"
    }
   },
   "outputs": [
    {
     "data": {
      "text/plain": [
       "tensor([[[[0.5000, 0.5000],\n",
       "          [0.5000, 0.5000],\n",
       "          [0.5000, 0.5000],\n",
       "          [0.5000, 0.5000],\n",
       "          [0.5000, 0.5000],\n",
       "          [0.5000, 0.5000],\n",
       "          [0.5000, 0.5000],\n",
       "          [0.5000, 0.5000],\n",
       "          [0.5000, 0.5000],\n",
       "          [0.5000, 0.5000]]]])"
      ]
     },
     "execution_count": 56,
     "metadata": {},
     "output_type": "execute_result"
    }
   ],
   "source": [
    "F.softmax(torch.ones(1, 1, 10, 2), dim=-1)"
   ]
  },
  {
   "cell_type": "code",
   "execution_count": 58,
   "metadata": {
    "nbpresent": {
     "id": "e4a456bd-864c-4032-a8c4-ceacfc1301da"
    }
   },
   "outputs": [
    {
     "data": {
      "text/plain": [
       "torch.Size([10, 8, 16, 16])"
      ]
     },
     "execution_count": 58,
     "metadata": {},
     "output_type": "execute_result"
    }
   ],
   "source": [
    "qk_t.shape"
   ]
  },
  {
   "cell_type": "code",
   "execution_count": 59,
   "metadata": {
    "nbpresent": {
     "id": "0c7c4bc6-ee56-4165-a5b4-e65e041cbd2c"
    }
   },
   "outputs": [
    {
     "data": {
      "text/plain": [
       "torch.Size([10, 8, 16, 18])"
      ]
     },
     "execution_count": 59,
     "metadata": {},
     "output_type": "execute_result"
    }
   ],
   "source": [
    "v.shape"
   ]
  },
  {
   "cell_type": "code",
   "execution_count": 60,
   "metadata": {
    "nbpresent": {
     "id": "e7e34174-d1e4-4c9a-9e35-b3f05a1d91a7"
    }
   },
   "outputs": [],
   "source": [
    "h, w = 4, 4"
   ]
  },
  {
   "cell_type": "code",
   "execution_count": 64,
   "metadata": {
    "nbpresent": {
     "id": "cf1fbb8a-8e3b-40af-aba7-c029dc063a89"
    }
   },
   "outputs": [
    {
     "data": {
      "text/plain": [
       "torch.Size([10, 8, 4, 4, 18])"
      ]
     },
     "execution_count": 64,
     "metadata": {},
     "output_type": "execute_result"
    }
   ],
   "source": [
    "torch.rand(batch, heads, h, w, channels_v).shape"
   ]
  },
  {
   "cell_type": "code",
   "execution_count": null,
   "metadata": {
    "nbpresent": {
     "id": "e3387e58-5120-40cb-a055-0f5e1b294b9d"
    }
   },
   "outputs": [],
   "source": [
    "torch.rand(batch, heads, h, w, channels_v)"
   ]
  },
  {
   "cell_type": "code",
   "execution_count": 65,
   "metadata": {
    "nbpresent": {
     "id": "ba7e1ccc-75b0-4f97-8a08-a678df516f5a"
    }
   },
   "outputs": [
    {
     "name": "stdout",
     "output_type": "stream",
     "text": [
      "Help on built-in function transpose:\n",
      "\n",
      "transpose(...)\n",
      "    transpose(input, dim0, dim1) -> Tensor\n",
      "    \n",
      "    Returns a tensor that is a transposed version of :attr:`input`.\n",
      "    The given dimensions :attr:`dim0` and :attr:`dim1` are swapped.\n",
      "    \n",
      "    The resulting :attr:`out` tensor shares it's underlying storage with the\n",
      "    :attr:`input` tensor, so changing the content of one would change the content\n",
      "    of the other.\n",
      "    \n",
      "    Args:\n",
      "        input (Tensor): the input tensor\n",
      "        dim0 (int): the first dimension to be transposed\n",
      "        dim1 (int): the second dimension to be transposed\n",
      "    \n",
      "    Example::\n",
      "    \n",
      "        >>> x = torch.randn(2, 3)\n",
      "        >>> x\n",
      "        tensor([[ 1.0028, -0.9893,  0.5809],\n",
      "                [-0.1669,  0.7299,  0.4942]])\n",
      "        >>> torch.transpose(x, 0, 1)\n",
      "        tensor([[ 1.0028, -0.1669],\n",
      "                [-0.9893,  0.7299],\n",
      "                [ 0.5809,  0.4942]])\n",
      "\n"
     ]
    }
   ],
   "source": []
  },
  {
   "cell_type": "code",
   "execution_count": 66,
   "metadata": {
    "nbpresent": {
     "id": "a8347226-315e-4f91-b8cf-e56ab620f5af"
    }
   },
   "outputs": [
    {
     "name": "stdout",
     "output_type": "stream",
     "text": [
      "Help on built-in function permute:\n",
      "\n",
      "permute(...) method of torch.Tensor instance\n",
      "    permute(*dims) -> Tensor\n",
      "    \n",
      "    Permute the dimensions of this tensor.\n",
      "    \n",
      "    Args:\n",
      "        *dims (int...): The desired ordering of dimensions\n",
      "    \n",
      "    Example:\n",
      "        >>> x = torch.randn(2, 3, 5)\n",
      "        >>> x.size()\n",
      "        torch.Size([2, 3, 5])\n",
      "        >>> x.permute(2, 0, 1).size()\n",
      "        torch.Size([5, 2, 3])\n",
      "\n"
     ]
    }
   ],
   "source": [
    "help(q.permute)"
   ]
  },
  {
   "cell_type": "code",
   "execution_count": 67,
   "metadata": {
    "nbpresent": {
     "id": "925c4da0-d89b-4a3d-9f0a-504ebfe310ca"
    }
   },
   "outputs": [],
   "source": [
    "a = torch.rand(2, 3)"
   ]
  },
  {
   "cell_type": "code",
   "execution_count": 68,
   "metadata": {
    "nbpresent": {
     "id": "cf255525-8055-40b8-ac2f-b9a562c939a1"
    }
   },
   "outputs": [
    {
     "data": {
      "text/plain": [
       "tensor([[0.4755, 0.1770, 0.4593],\n",
       "        [0.4497, 0.3361, 0.9496]])"
      ]
     },
     "execution_count": 68,
     "metadata": {},
     "output_type": "execute_result"
    }
   ],
   "source": [
    "a"
   ]
  },
  {
   "cell_type": "code",
   "execution_count": 72,
   "metadata": {
    "nbpresent": {
     "id": "62859086-c869-4682-8352-5e2b27a58fe1"
    }
   },
   "outputs": [
    {
     "data": {
      "text/plain": [
       "tensor([[0.4755, 0.4497],\n",
       "        [0.1770, 0.3361],\n",
       "        [0.4593, 0.9496]])"
      ]
     },
     "execution_count": 72,
     "metadata": {},
     "output_type": "execute_result"
    }
   ],
   "source": [
    "a.permute(1, 0)"
   ]
  },
  {
   "cell_type": "code",
   "execution_count": 81,
   "metadata": {
    "nbpresent": {
     "id": "1b6f0205-f8a3-4939-8743-258225926b3b"
    }
   },
   "outputs": [
    {
     "data": {
      "text/plain": [
       "torch.Size([2, 3, 6])"
      ]
     },
     "execution_count": 81,
     "metadata": {},
     "output_type": "execute_result"
    }
   ],
   "source": [
    "a.shape + torch.Size([a.shape[0] * a.shape[1]])"
   ]
  },
  {
   "cell_type": "code",
   "execution_count": 1,
   "metadata": {
    "nbpresent": {
     "id": "c190e431-dfc3-46e8-b542-2d916815f577"
    }
   },
   "outputs": [],
   "source": [
    "import utils"
   ]
  },
  {
   "cell_type": "code",
   "execution_count": 2,
   "metadata": {
    "nbpresent": {
     "id": "fc3daaa8-270b-47af-923a-1f86f4e57c13"
    }
   },
   "outputs": [
    {
     "name": "stdout",
     "output_type": "stream",
     "text": [
      "README.md        Untitled1.ipynb  train.ipynb\r\n",
      "Untitled.ipynb   config.yml       \u001b[34mutils\u001b[m\u001b[m/\r\n"
     ]
    }
   ],
   "source": [
    "ls"
   ]
  },
  {
   "cell_type": "code",
   "execution_count": 8,
   "metadata": {
    "nbpresent": {
     "id": "6e4c10a8-320a-4e1d-8e64-4ac31b196017"
    }
   },
   "outputs": [],
   "source": [
    "from utils.attention import MultiHeadAttention"
   ]
  },
  {
   "cell_type": "code",
   "execution_count": 10,
   "metadata": {
    "nbpresent": {
     "id": "9f505c1f-1672-4d33-a706-04b69e30ac37"
    }
   },
   "outputs": [],
   "source": [
    "import torch"
   ]
  },
  {
   "cell_type": "code",
   "execution_count": 11,
   "metadata": {
    "nbpresent": {
     "id": "b94f14f1-404b-4d5f-92ad-2144ffb6237f"
    }
   },
   "outputs": [
    {
     "name": "stdout",
     "output_type": "stream",
     "text": [
      "torch.Size([10, 32, 16, 16])\n"
     ]
    }
   ],
   "source": [
    "multi_attn = MultiHeadAttention(\n",
    "        num_heads=8,\n",
    "        num_input_channels=3,\n",
    "        total_key_filters=32,\n",
    "        total_value_filters=32,\n",
    "        output_filters=32)\n",
    "batch, h, w, channels = 10, 16, 16, 3\n",
    "x = torch.rand(batch, channels, h, w)\n",
    "out = multi_attn(x)\n",
    "print(out.shape)"
   ]
  },
  {
   "cell_type": "code",
   "execution_count": 15,
   "metadata": {
    "nbpresent": {
     "id": "644fe282-5e19-4fdd-855f-eafc824dbd58"
    }
   },
   "outputs": [],
   "source": [
    "from torchvision.models import densenet"
   ]
  },
  {
   "cell_type": "code",
   "execution_count": 17,
   "metadata": {
    "nbpresent": {
     "id": "3cab53ff-eb20-4b52-9a22-1e7a9355be7d"
    }
   },
   "outputs": [
    {
     "data": {
      "text/plain": [
       "<function torchvision.models.densenet.densenet121(pretrained=False, **kwargs)>"
      ]
     },
     "execution_count": 17,
     "metadata": {},
     "output_type": "execute_result"
    }
   ],
   "source": [
    "densenet.densenet121"
   ]
  },
  {
   "cell_type": "code",
   "execution_count": 18,
   "metadata": {
    "nbpresent": {
     "id": "79c5eeda-0f3e-495c-ac4b-356ddde39e4e"
    }
   },
   "outputs": [],
   "source": [
    "import torch.nn as nn"
   ]
  },
  {
   "cell_type": "code",
   "execution_count": 84,
   "metadata": {
    "nbpresent": {
     "id": "2f20ea83-2a23-4562-9ec7-adedb49362e2"
    }
   },
   "outputs": [],
   "source": [
    "m = nn.Linear(4, 6)\n",
    "n = nn.Linear(6, 1)"
   ]
  },
  {
   "cell_type": "code",
   "execution_count": 94,
   "metadata": {
    "nbpresent": {
     "id": "54669506-6335-4660-9ff5-7deb812894ab"
    }
   },
   "outputs": [],
   "source": [
    "class Demo1(nn.Sequential):\n",
    "    def __init__(self):\n",
    "        super(Demo1, self).__init__()\n",
    "        self.add_module('Linear1', m)\n",
    "        self.add_module('Linear2', n)\n",
    "    \n",
    "    def forward(self, x):\n",
    "        return super(Demo1, self).forward(x)"
   ]
  },
  {
   "cell_type": "code",
   "execution_count": 100,
   "metadata": {
    "nbpresent": {
     "id": "fbe817e3-06c3-4362-b8c2-8d3336cb263f"
    }
   },
   "outputs": [],
   "source": [
    "class Demo2(nn.Module):\n",
    "    def __init__(self):\n",
    "        super(Demo2, self).__init__()\n",
    "        self.linear1 = m\n",
    "        self.linear2 = n\n",
    "    \n",
    "    def forward(self, x):\n",
    "        return self.linear2(self.linear1(x))"
   ]
  },
  {
   "cell_type": "code",
   "execution_count": 101,
   "metadata": {
    "nbpresent": {
     "id": "ce799ca7-b646-4239-8899-f0ff9bc25144"
    }
   },
   "outputs": [],
   "source": [
    "d1 = Demo1()\n",
    "d2 = Demo2()"
   ]
  },
  {
   "cell_type": "code",
   "execution_count": 102,
   "metadata": {
    "nbpresent": {
     "id": "8779e8be-2442-46f0-a2e7-7723a800f226"
    }
   },
   "outputs": [],
   "source": [
    "z = torch.randn(2, 4)"
   ]
  },
  {
   "cell_type": "code",
   "execution_count": 103,
   "metadata": {
    "nbpresent": {
     "id": "ba3da205-5939-4d88-81f1-6c366c73fed6"
    }
   },
   "outputs": [
    {
     "data": {
      "text/plain": [
       "tensor([[0.2395],\n",
       "        [0.1557]], grad_fn=<AddmmBackward>)"
      ]
     },
     "execution_count": 103,
     "metadata": {},
     "output_type": "execute_result"
    }
   ],
   "source": [
    "d1(z)"
   ]
  },
  {
   "cell_type": "code",
   "execution_count": 104,
   "metadata": {
    "nbpresent": {
     "id": "9be2eb10-4826-4be1-a7c0-ad97d269c509"
    }
   },
   "outputs": [
    {
     "data": {
      "text/plain": [
       "tensor([[0.2395],\n",
       "        [0.1557]], grad_fn=<AddmmBackward>)"
      ]
     },
     "execution_count": 104,
     "metadata": {},
     "output_type": "execute_result"
    }
   ],
   "source": [
    "d2(z)"
   ]
  },
  {
   "cell_type": "code",
   "execution_count": 105,
   "metadata": {
    "nbpresent": {
     "id": "ea6d788c-f569-49af-80c9-0d7bd5beb51d"
    }
   },
   "outputs": [],
   "source": [
    "class _DenseLayer(nn.Sequential):\n",
    "    def __init__(self, num_input_features, growth_rate, bn_size, drop_rate):\n",
    "        super(_DenseLayer, self).__init__()\n",
    "        self.add_module('norm1', nn.BatchNorm2d(num_input_features)),\n",
    "        self.add_module('relu1', nn.ReLU(inplace=True)),\n",
    "        self.add_module(\n",
    "            'conv1',\n",
    "            nn.Conv2d(\n",
    "                num_input_features,\n",
    "                bn_size *\n",
    "                growth_rate,\n",
    "                kernel_size=1,\n",
    "                stride=1,\n",
    "                bias=False)),\n",
    "        self.add_module('norm2', nn.BatchNorm2d(bn_size * growth_rate)),\n",
    "        self.add_module('relu2', nn.ReLU(inplace=True)),\n",
    "        self.add_module('conv2', nn.Conv2d(bn_size * growth_rate, growth_rate,\n",
    "                                           kernel_size=3, stride=1, padding=1,\n",
    "                                           bias=False)),\n",
    "        self.drop_rate = drop_rate\n",
    "\n",
    "    def forward(self, x):\n",
    "        new_features = super(_DenseLayer, self).forward(x)\n",
    "        if self.drop_rate > 0:\n",
    "            new_features = F.dropout(new_features, p=self.drop_rate,\n",
    "                                     training=self.training)\n",
    "        return torch.cat([x, new_features], 1)"
   ]
  },
  {
   "cell_type": "code",
   "execution_count": 106,
   "metadata": {
    "nbpresent": {
     "id": "1626bc58-27c9-4e9c-bf0a-0b5f605c04ef"
    }
   },
   "outputs": [],
   "source": [
    "x = _DenseLayer(64, 32, 4, 0.2)"
   ]
  },
  {
   "cell_type": "code",
   "execution_count": 107,
   "metadata": {
    "nbpresent": {
     "id": "67c74731-9a5f-4f01-b018-6a41f9eacf1a"
    }
   },
   "outputs": [
    {
     "name": "stdout",
     "output_type": "stream",
     "text": [
      "_DenseLayer(\n",
      "  (norm1): BatchNorm2d(64, eps=1e-05, momentum=0.1, affine=True, track_running_stats=True)\n",
      "  (relu1): ReLU(inplace)\n",
      "  (conv1): Conv2d(64, 128, kernel_size=(1, 1), stride=(1, 1), bias=False)\n",
      "  (norm2): BatchNorm2d(128, eps=1e-05, momentum=0.1, affine=True, track_running_stats=True)\n",
      "  (relu2): ReLU(inplace)\n",
      "  (conv2): Conv2d(128, 32, kernel_size=(3, 3), stride=(1, 1), padding=(1, 1), bias=False)\n",
      ")\n"
     ]
    }
   ],
   "source": [
    "print(x)"
   ]
  },
  {
   "cell_type": "code",
   "execution_count": 110,
   "metadata": {
    "nbpresent": {
     "id": "6be886b8-b7f7-438c-98fb-e84284a49ec4"
    }
   },
   "outputs": [],
   "source": [
    "class DenseBlock(nn.Sequential):\n",
    "    def __init__(\n",
    "            self,\n",
    "            num_layers,\n",
    "            num_input_features,\n",
    "            bn_size,\n",
    "            growth_rate,\n",
    "            drop_rate):\n",
    "        super(DenseBlock, self).__init__()\n",
    "        for i in range(num_layers):\n",
    "            layer = _DenseLayer(\n",
    "                num_input_features +\n",
    "                i *\n",
    "                growth_rate,\n",
    "                growth_rate,\n",
    "                bn_size,\n",
    "                drop_rate)\n",
    "            self.add_module('denselayer%d' % (i + 1), layer)"
   ]
  },
  {
   "cell_type": "code",
   "execution_count": 111,
   "metadata": {
    "nbpresent": {
     "id": "2c6e932a-a20f-463a-808e-19acbd0bf346"
    }
   },
   "outputs": [],
   "source": [
    "db = DenseBlock(6, 64, 4, 32, 0.1)"
   ]
  },
  {
   "cell_type": "code",
   "execution_count": 112,
   "metadata": {
    "nbpresent": {
     "id": "8ad25f63-08c3-4f56-b035-60150a7d855f"
    }
   },
   "outputs": [
    {
     "name": "stdout",
     "output_type": "stream",
     "text": [
      "DenseBlock(\n",
      "  (denselayer1): _DenseLayer(\n",
      "    (norm1): BatchNorm2d(64, eps=1e-05, momentum=0.1, affine=True, track_running_stats=True)\n",
      "    (relu1): ReLU(inplace)\n",
      "    (conv1): Conv2d(64, 128, kernel_size=(1, 1), stride=(1, 1), bias=False)\n",
      "    (norm2): BatchNorm2d(128, eps=1e-05, momentum=0.1, affine=True, track_running_stats=True)\n",
      "    (relu2): ReLU(inplace)\n",
      "    (conv2): Conv2d(128, 32, kernel_size=(3, 3), stride=(1, 1), padding=(1, 1), bias=False)\n",
      "  )\n",
      "  (denselayer2): _DenseLayer(\n",
      "    (norm1): BatchNorm2d(96, eps=1e-05, momentum=0.1, affine=True, track_running_stats=True)\n",
      "    (relu1): ReLU(inplace)\n",
      "    (conv1): Conv2d(96, 128, kernel_size=(1, 1), stride=(1, 1), bias=False)\n",
      "    (norm2): BatchNorm2d(128, eps=1e-05, momentum=0.1, affine=True, track_running_stats=True)\n",
      "    (relu2): ReLU(inplace)\n",
      "    (conv2): Conv2d(128, 32, kernel_size=(3, 3), stride=(1, 1), padding=(1, 1), bias=False)\n",
      "  )\n",
      "  (denselayer3): _DenseLayer(\n",
      "    (norm1): BatchNorm2d(128, eps=1e-05, momentum=0.1, affine=True, track_running_stats=True)\n",
      "    (relu1): ReLU(inplace)\n",
      "    (conv1): Conv2d(128, 128, kernel_size=(1, 1), stride=(1, 1), bias=False)\n",
      "    (norm2): BatchNorm2d(128, eps=1e-05, momentum=0.1, affine=True, track_running_stats=True)\n",
      "    (relu2): ReLU(inplace)\n",
      "    (conv2): Conv2d(128, 32, kernel_size=(3, 3), stride=(1, 1), padding=(1, 1), bias=False)\n",
      "  )\n",
      "  (denselayer4): _DenseLayer(\n",
      "    (norm1): BatchNorm2d(160, eps=1e-05, momentum=0.1, affine=True, track_running_stats=True)\n",
      "    (relu1): ReLU(inplace)\n",
      "    (conv1): Conv2d(160, 128, kernel_size=(1, 1), stride=(1, 1), bias=False)\n",
      "    (norm2): BatchNorm2d(128, eps=1e-05, momentum=0.1, affine=True, track_running_stats=True)\n",
      "    (relu2): ReLU(inplace)\n",
      "    (conv2): Conv2d(128, 32, kernel_size=(3, 3), stride=(1, 1), padding=(1, 1), bias=False)\n",
      "  )\n",
      "  (denselayer5): _DenseLayer(\n",
      "    (norm1): BatchNorm2d(192, eps=1e-05, momentum=0.1, affine=True, track_running_stats=True)\n",
      "    (relu1): ReLU(inplace)\n",
      "    (conv1): Conv2d(192, 128, kernel_size=(1, 1), stride=(1, 1), bias=False)\n",
      "    (norm2): BatchNorm2d(128, eps=1e-05, momentum=0.1, affine=True, track_running_stats=True)\n",
      "    (relu2): ReLU(inplace)\n",
      "    (conv2): Conv2d(128, 32, kernel_size=(3, 3), stride=(1, 1), padding=(1, 1), bias=False)\n",
      "  )\n",
      "  (denselayer6): _DenseLayer(\n",
      "    (norm1): BatchNorm2d(224, eps=1e-05, momentum=0.1, affine=True, track_running_stats=True)\n",
      "    (relu1): ReLU(inplace)\n",
      "    (conv1): Conv2d(224, 128, kernel_size=(1, 1), stride=(1, 1), bias=False)\n",
      "    (norm2): BatchNorm2d(128, eps=1e-05, momentum=0.1, affine=True, track_running_stats=True)\n",
      "    (relu2): ReLU(inplace)\n",
      "    (conv2): Conv2d(128, 32, kernel_size=(3, 3), stride=(1, 1), padding=(1, 1), bias=False)\n",
      "  )\n",
      ")\n"
     ]
    }
   ],
   "source": [
    "print(db)"
   ]
  },
  {
   "cell_type": "code",
   "execution_count": 113,
   "metadata": {
    "nbpresent": {
     "id": "03722467-2bfb-42bd-8849-01d43eaf2306"
    }
   },
   "outputs": [],
   "source": [
    "x = torch.rand(1, 64, 56, 56)"
   ]
  },
  {
   "cell_type": "code",
   "execution_count": 115,
   "metadata": {
    "nbpresent": {
     "id": "278893b1-cd14-479b-86e2-7f35f108e4f9"
    }
   },
   "outputs": [],
   "source": [
    "import torch.nn.functional as F"
   ]
  },
  {
   "cell_type": "code",
   "execution_count": 117,
   "metadata": {
    "nbpresent": {
     "id": "1c437e40-066a-4492-905e-3a4f6c941a34"
    }
   },
   "outputs": [
    {
     "data": {
      "text/plain": [
       "torch.Size([1, 256, 56, 56])"
      ]
     },
     "execution_count": 117,
     "metadata": {},
     "output_type": "execute_result"
    }
   ],
   "source": [
    "db(x).shape"
   ]
  },
  {
   "cell_type": "code",
   "execution_count": 133,
   "metadata": {
    "nbpresent": {
     "id": "4f8a4d96-e468-4df3-985a-afbe932647a0"
    }
   },
   "outputs": [],
   "source": [
    "l = nn.ModuleDict()"
   ]
  },
  {
   "cell_type": "code",
   "execution_count": 135,
   "metadata": {
    "nbpresent": {
     "id": "1a256e64-df6b-4045-b8b2-506e82b84939"
    }
   },
   "outputs": [],
   "source": [
    "l.add_module('conv', nn.Conv2d(10, 10, 3))"
   ]
  },
  {
   "cell_type": "code",
   "execution_count": 140,
   "metadata": {
    "nbpresent": {
     "id": "85403ec6-4e68-4aba-be3b-3bae00b94ba3"
    }
   },
   "outputs": [
    {
     "name": "stdout",
     "output_type": "stream",
     "text": [
      "Help on ModuleDict in module torch.nn.modules.container object:\n",
      "\n",
      "class ModuleDict(torch.nn.modules.module.Module)\n",
      " |  Holds submodules in a dictionary.\n",
      " |  \n",
      " |  ModuleDict can be indexed like a regular Python dictionary, but modules it\n",
      " |  contains are properly registered, and will be visible by all Module methods.\n",
      " |  \n",
      " |  Arguments:\n",
      " |      modules (iterable, optional): a mapping (dictionary) of (string: module)\n",
      " |          or an iterable of key/value pairs of type (string, module)\n",
      " |  \n",
      " |  Example::\n",
      " |  \n",
      " |      class MyModule(nn.Module):\n",
      " |          def __init__(self):\n",
      " |              super(MyModule, self).__init__()\n",
      " |              self.choices = nn.ModuleDict({\n",
      " |                      'conv': nn.Conv2d(10, 10, 3),\n",
      " |                      'pool': nn.MaxPool2d(3)\n",
      " |              })\n",
      " |              self.activations = nn.ModuleDict([\n",
      " |                      ['lrelu', nn.LeakyReLU()],\n",
      " |                      ['prelu', nn.PReLU()]\n",
      " |              ])\n",
      " |  \n",
      " |          def forward(self, x, choice, act):\n",
      " |              x = self.choices[choice](x)\n",
      " |              x = self.activations[act](x)\n",
      " |              return x\n",
      " |  \n",
      " |  Method resolution order:\n",
      " |      ModuleDict\n",
      " |      torch.nn.modules.module.Module\n",
      " |      builtins.object\n",
      " |  \n",
      " |  Methods defined here:\n",
      " |  \n",
      " |  __contains__(self, key)\n",
      " |  \n",
      " |  __delitem__(self, key)\n",
      " |  \n",
      " |  __getitem__(self, key)\n",
      " |  \n",
      " |  __init__(self, modules=None)\n",
      " |      Initialize self.  See help(type(self)) for accurate signature.\n",
      " |  \n",
      " |  __iter__(self)\n",
      " |  \n",
      " |  __len__(self)\n",
      " |  \n",
      " |  __setitem__(self, key, module)\n",
      " |  \n",
      " |  clear(self)\n",
      " |      Remove all items from the ModuleDict.\n",
      " |  \n",
      " |  items(self)\n",
      " |      Return an iterable of the ModuleDict key/value pairs.\n",
      " |  \n",
      " |  keys(self)\n",
      " |      Return an iterable of the ModuleDict keys.\n",
      " |  \n",
      " |  pop(self, key)\n",
      " |      Remove key from the ModuleDict and return its module.\n",
      " |      \n",
      " |      Arguments:\n",
      " |          key (string): key to pop from the ModuleDict\n",
      " |  \n",
      " |  update(self, modules)\n",
      " |      Update the ModuleDict with the key/value pairs from a mapping or\n",
      " |      an iterable, overwriting existing keys.\n",
      " |      \n",
      " |      Arguments:\n",
      " |          modules (iterable): a mapping (dictionary) of (string: :class:`~torch.nn.Module``) or\n",
      " |              an iterable of key/value pairs of type (string, :class:`~torch.nn.Module``)\n",
      " |  \n",
      " |  values(self)\n",
      " |      Return an iterable of the ModuleDict values.\n",
      " |  \n",
      " |  ----------------------------------------------------------------------\n",
      " |  Methods inherited from torch.nn.modules.module.Module:\n",
      " |  \n",
      " |  __call__(self, *input, **kwargs)\n",
      " |      Call self as a function.\n",
      " |  \n",
      " |  __delattr__(self, name)\n",
      " |      Implement delattr(self, name).\n",
      " |  \n",
      " |  __dir__(self)\n",
      " |      __dir__() -> list\n",
      " |      default dir() implementation\n",
      " |  \n",
      " |  __getattr__(self, name)\n",
      " |  \n",
      " |  __repr__(self)\n",
      " |      Return repr(self).\n",
      " |  \n",
      " |  __setattr__(self, name, value)\n",
      " |      Implement setattr(self, name, value).\n",
      " |  \n",
      " |  __setstate__(self, state)\n",
      " |  \n",
      " |  add_module(self, name, module)\n",
      " |      Adds a child module to the current module.\n",
      " |      \n",
      " |      The module can be accessed as an attribute using the given name.\n",
      " |      \n",
      " |      Args:\n",
      " |          name (string): name of the child module. The child module can be\n",
      " |              accessed from this module using the given name\n",
      " |          parameter (Module): child module to be added to the module.\n",
      " |  \n",
      " |  apply(self, fn)\n",
      " |      Applies ``fn`` recursively to every submodule (as returned by ``.children()``)\n",
      " |      as well as self. Typical use includes initializing the parameters of a model\n",
      " |      (see also :ref:`torch-nn-init`).\n",
      " |      \n",
      " |      Args:\n",
      " |          fn (:class:`Module` -> None): function to be applied to each submodule\n",
      " |      \n",
      " |      Returns:\n",
      " |          Module: self\n",
      " |      \n",
      " |      Example::\n",
      " |      \n",
      " |          >>> def init_weights(m):\n",
      " |                  print(m)\n",
      " |                  if type(m) == nn.Linear:\n",
      " |                      m.weight.data.fill_(1.0)\n",
      " |                      print(m.weight)\n",
      " |      \n",
      " |          >>> net = nn.Sequential(nn.Linear(2, 2), nn.Linear(2, 2))\n",
      " |          >>> net.apply(init_weights)\n",
      " |          Linear(in_features=2, out_features=2, bias=True)\n",
      " |          Parameter containing:\n",
      " |          tensor([[ 1.,  1.],\n",
      " |                  [ 1.,  1.]])\n",
      " |          Linear(in_features=2, out_features=2, bias=True)\n",
      " |          Parameter containing:\n",
      " |          tensor([[ 1.,  1.],\n",
      " |                  [ 1.,  1.]])\n",
      " |          Sequential(\n",
      " |            (0): Linear(in_features=2, out_features=2, bias=True)\n",
      " |            (1): Linear(in_features=2, out_features=2, bias=True)\n",
      " |          )\n",
      " |          Sequential(\n",
      " |            (0): Linear(in_features=2, out_features=2, bias=True)\n",
      " |            (1): Linear(in_features=2, out_features=2, bias=True)\n",
      " |          )\n",
      " |  \n",
      " |  buffers(self, recurse=True)\n",
      " |      Returns an iterator over module buffers.\n",
      " |      \n",
      " |      Args:\n",
      " |          recurse (bool): if True, then yields buffers of this module\n",
      " |              and all submodules. Otherwise, yields only buffers that\n",
      " |              are direct members of this module.\n",
      " |      \n",
      " |      Yields:\n",
      " |          torch.Tensor: module buffer\n",
      " |      \n",
      " |      Example::\n",
      " |      \n",
      " |          >>> for buf in model.buffers():\n",
      " |          >>>     print(type(buf.data), buf.size())\n",
      " |          <class 'torch.FloatTensor'> (20L,)\n",
      " |          <class 'torch.FloatTensor'> (20L, 1L, 5L, 5L)\n",
      " |  \n",
      " |  children(self)\n",
      " |      Returns an iterator over immediate children modules.\n",
      " |      \n",
      " |      Yields:\n",
      " |          Module: a child module\n",
      " |  \n",
      " |  cpu(self)\n",
      " |      Moves all model parameters and buffers to the CPU.\n",
      " |      \n",
      " |      Returns:\n",
      " |          Module: self\n",
      " |  \n",
      " |  cuda(self, device=None)\n",
      " |      Moves all model parameters and buffers to the GPU.\n",
      " |      \n",
      " |      This also makes associated parameters and buffers different objects. So\n",
      " |      it should be called before constructing optimizer if the module will\n",
      " |      live on GPU while being optimized.\n",
      " |      \n",
      " |      Arguments:\n",
      " |          device (int, optional): if specified, all parameters will be\n",
      " |              copied to that device\n",
      " |      \n",
      " |      Returns:\n",
      " |          Module: self\n",
      " |  \n",
      " |  double(self)\n",
      " |      Casts all floating point parameters and buffers to ``double`` datatype.\n",
      " |      \n",
      " |      Returns:\n",
      " |          Module: self\n",
      " |  \n",
      " |  eval(self)\n",
      " |      Sets the module in evaluation mode.\n",
      " |      \n",
      " |      This has any effect only on certain modules. See documentations of\n",
      " |      particular modules for details of their behaviors in training/evaluation\n",
      " |      mode, if they are affected, e.g. :class:`Dropout`, :class:`BatchNorm`,\n",
      " |      etc.\n",
      " |  \n",
      " |  extra_repr(self)\n",
      " |      Set the extra representation of the module\n",
      " |      \n",
      " |      To print customized extra information, you should reimplement\n",
      " |      this method in your own modules. Both single-line and multi-line\n",
      " |      strings are acceptable.\n",
      " |  \n",
      " |  float(self)\n",
      " |      Casts all floating point parameters and buffers to float datatype.\n",
      " |      \n",
      " |      Returns:\n",
      " |          Module: self\n",
      " |  \n",
      " |  forward(self, *input)\n",
      " |      Defines the computation performed at every call.\n",
      " |      \n",
      " |      Should be overridden by all subclasses.\n",
      " |      \n",
      " |      .. note::\n",
      " |          Although the recipe for forward pass needs to be defined within\n",
      " |          this function, one should call the :class:`Module` instance afterwards\n",
      " |          instead of this since the former takes care of running the\n",
      " |          registered hooks while the latter silently ignores them.\n",
      " |  \n",
      " |  half(self)\n",
      " |      Casts all floating point parameters and buffers to ``half`` datatype.\n",
      " |      \n",
      " |      Returns:\n",
      " |          Module: self\n",
      " |  \n",
      " |  load_state_dict(self, state_dict, strict=True)\n",
      " |      Copies parameters and buffers from :attr:`state_dict` into\n",
      " |      this module and its descendants. If :attr:`strict` is ``True``, then\n",
      " |      the keys of :attr:`state_dict` must exactly match the keys returned\n",
      " |      by this module's :meth:`~torch.nn.Module.state_dict` function.\n",
      " |      \n",
      " |      Arguments:\n",
      " |          state_dict (dict): a dict containing parameters and\n",
      " |              persistent buffers.\n",
      " |          strict (bool, optional): whether to strictly enforce that the keys\n",
      " |              in :attr:`state_dict` match the keys returned by this module's\n",
      " |              :meth:`~torch.nn.Module.state_dict` function. Default: ``True``\n",
      " |  \n",
      " |  modules(self)\n",
      " |      Returns an iterator over all modules in the network.\n",
      " |      \n",
      " |      Yields:\n",
      " |          Module: a module in the network\n",
      " |      \n",
      " |      Note:\n",
      " |          Duplicate modules are returned only once. In the following\n",
      " |          example, ``l`` will be returned only once.\n",
      " |      \n",
      " |      Example::\n",
      " |      \n",
      " |          >>> l = nn.Linear(2, 2)\n",
      " |          >>> net = nn.Sequential(l, l)\n",
      " |          >>> for idx, m in enumerate(net.modules()):\n",
      " |                  print(idx, '->', m)\n",
      " |      \n",
      " |          0 -> Sequential (\n",
      " |            (0): Linear (2 -> 2)\n",
      " |            (1): Linear (2 -> 2)\n",
      " |          )\n",
      " |          1 -> Linear (2 -> 2)\n",
      " |  \n",
      " |  named_buffers(self, prefix='', recurse=True)\n",
      " |      Returns an iterator over module buffers, yielding both the\n",
      " |      name of the buffer as well as the buffer itself.\n",
      " |      \n",
      " |      Args:\n",
      " |          prefix (str): prefix to prepend to all buffer names.\n",
      " |          recurse (bool): if True, then yields buffers of this module\n",
      " |              and all submodules. Otherwise, yields only buffers that\n",
      " |              are direct members of this module.\n",
      " |      \n",
      " |      Yields:\n",
      " |          (string, torch.Tensor): Tuple containing the name and buffer\n",
      " |      \n",
      " |      Example::\n",
      " |      \n",
      " |          >>> for name, buf in self.named_buffers():\n",
      " |          >>>    if name in ['running_var']:\n",
      " |          >>>        print(buf.size())\n",
      " |  \n",
      " |  named_children(self)\n",
      " |      Returns an iterator over immediate children modules, yielding both\n",
      " |      the name of the module as well as the module itself.\n",
      " |      \n",
      " |      Yields:\n",
      " |          (string, Module): Tuple containing a name and child module\n",
      " |      \n",
      " |      Example::\n",
      " |      \n",
      " |          >>> for name, module in model.named_children():\n",
      " |          >>>     if name in ['conv4', 'conv5']:\n",
      " |          >>>         print(module)\n",
      " |  \n",
      " |  named_modules(self, memo=None, prefix='')\n",
      " |      Returns an iterator over all modules in the network, yielding\n",
      " |      both the name of the module as well as the module itself.\n",
      " |      \n",
      " |      Yields:\n",
      " |          (string, Module): Tuple of name and module\n",
      " |      \n",
      " |      Note:\n",
      " |          Duplicate modules are returned only once. In the following\n",
      " |          example, ``l`` will be returned only once.\n",
      " |      \n",
      " |      Example::\n",
      " |      \n",
      " |          >>> l = nn.Linear(2, 2)\n",
      " |          >>> net = nn.Sequential(l, l)\n",
      " |          >>> for idx, m in enumerate(net.named_modules()):\n",
      " |                  print(idx, '->', m)\n",
      " |      \n",
      " |          0 -> ('', Sequential (\n",
      " |            (0): Linear (2 -> 2)\n",
      " |            (1): Linear (2 -> 2)\n",
      " |          ))\n",
      " |          1 -> ('0', Linear (2 -> 2))\n",
      " |  \n",
      " |  named_parameters(self, prefix='', recurse=True)\n",
      " |      Returns an iterator over module parameters, yielding both the\n",
      " |      name of the parameter as well as the parameter itself.\n",
      " |      \n",
      " |      Args:\n",
      " |          prefix (str): prefix to prepend to all parameter names.\n",
      " |          recurse (bool): if True, then yields parameters of this module\n",
      " |              and all submodules. Otherwise, yields only parameters that\n",
      " |              are direct members of this module.\n",
      " |      \n",
      " |      Yields:\n",
      " |          (string, Parameter): Tuple containing the name and parameter\n",
      " |      \n",
      " |      Example::\n",
      " |      \n",
      " |          >>> for name, param in self.named_parameters():\n",
      " |          >>>    if name in ['bias']:\n",
      " |          >>>        print(param.size())\n",
      " |  \n",
      " |  parameters(self, recurse=True)\n",
      " |      Returns an iterator over module parameters.\n",
      " |      \n",
      " |      This is typically passed to an optimizer.\n",
      " |      \n",
      " |      Args:\n",
      " |          recurse (bool): if True, then yields parameters of this module\n",
      " |              and all submodules. Otherwise, yields only parameters that\n",
      " |              are direct members of this module.\n",
      " |      \n",
      " |      Yields:\n",
      " |          Parameter: module parameter\n",
      " |      \n",
      " |      Example::\n",
      " |      \n",
      " |          >>> for param in model.parameters():\n",
      " |          >>>     print(type(param.data), param.size())\n",
      " |          <class 'torch.FloatTensor'> (20L,)\n",
      " |          <class 'torch.FloatTensor'> (20L, 1L, 5L, 5L)\n",
      " |  \n",
      " |  register_backward_hook(self, hook)\n",
      " |      Registers a backward hook on the module.\n",
      " |      \n",
      " |      The hook will be called every time the gradients with respect to module\n",
      " |      inputs are computed. The hook should have the following signature::\n",
      " |      \n",
      " |          hook(module, grad_input, grad_output) -> Tensor or None\n",
      " |      \n",
      " |      The :attr:`grad_input` and :attr:`grad_output` may be tuples if the\n",
      " |      module has multiple inputs or outputs. The hook should not modify its\n",
      " |      arguments, but it can optionally return a new gradient with respect to\n",
      " |      input that will be used in place of :attr:`grad_input` in subsequent\n",
      " |      computations.\n",
      " |      \n",
      " |      Returns:\n",
      " |          :class:`torch.utils.hooks.RemovableHandle`:\n",
      " |              a handle that can be used to remove the added hook by calling\n",
      " |              ``handle.remove()``\n",
      " |      \n",
      " |      .. warning ::\n",
      " |      \n",
      " |          The current implementation will not have the presented behavior\n",
      " |          for complex :class:`Module` that perform many operations.\n",
      " |          In some failure cases, :attr:`grad_input` and :attr:`grad_output` will only\n",
      " |          contain the gradients for a subset of the inputs and outputs.\n",
      " |          For such :class:`Module`, you should use :func:`torch.Tensor.register_hook`\n",
      " |          directly on a specific input or output to get the required gradients.\n",
      " |  \n",
      " |  register_buffer(self, name, tensor)\n",
      " |      Adds a persistent buffer to the module.\n",
      " |      \n",
      " |      This is typically used to register a buffer that should not to be\n",
      " |      considered a model parameter. For example, BatchNorm's ``running_mean``\n",
      " |      is not a parameter, but is part of the persistent state.\n",
      " |      \n",
      " |      Buffers can be accessed as attributes using given names.\n",
      " |      \n",
      " |      Args:\n",
      " |          name (string): name of the buffer. The buffer can be accessed\n",
      " |              from this module using the given name\n",
      " |          tensor (Tensor): buffer to be registered.\n",
      " |      \n",
      " |      Example::\n",
      " |      \n",
      " |          >>> self.register_buffer('running_mean', torch.zeros(num_features))\n",
      " |  \n",
      " |  register_forward_hook(self, hook)\n",
      " |      Registers a forward hook on the module.\n",
      " |      \n",
      " |      The hook will be called every time after :func:`forward` has computed an output.\n",
      " |      It should have the following signature::\n",
      " |      \n",
      " |          hook(module, input, output) -> None\n",
      " |      \n",
      " |      The hook should not modify the input or output.\n",
      " |      \n",
      " |      Returns:\n",
      " |          :class:`torch.utils.hooks.RemovableHandle`:\n",
      " |              a handle that can be used to remove the added hook by calling\n",
      " |              ``handle.remove()``\n",
      " |  \n",
      " |  register_forward_pre_hook(self, hook)\n",
      " |      Registers a forward pre-hook on the module.\n",
      " |      \n",
      " |      The hook will be called every time before :func:`forward` is invoked.\n",
      " |      It should have the following signature::\n",
      " |      \n",
      " |          hook(module, input) -> None\n",
      " |      \n",
      " |      The hook should not modify the input.\n",
      " |      \n",
      " |      Returns:\n",
      " |          :class:`torch.utils.hooks.RemovableHandle`:\n",
      " |              a handle that can be used to remove the added hook by calling\n",
      " |              ``handle.remove()``\n",
      " |  \n",
      " |  register_parameter(self, name, param)\n",
      " |      Adds a parameter to the module.\n",
      " |      \n",
      " |      The parameter can be accessed as an attribute using given name.\n",
      " |      \n",
      " |      Args:\n",
      " |          name (string): name of the parameter. The parameter can be accessed\n",
      " |              from this module using the given name\n",
      " |          parameter (Parameter): parameter to be added to the module.\n",
      " |  \n",
      " |  share_memory(self)\n",
      " |  \n",
      " |  state_dict(self, destination=None, prefix='', keep_vars=False)\n",
      " |      Returns a dictionary containing a whole state of the module.\n",
      " |      \n",
      " |      Both parameters and persistent buffers (e.g. running averages) are\n",
      " |      included. Keys are corresponding parameter and buffer names.\n",
      " |      \n",
      " |      Returns:\n",
      " |          dict:\n",
      " |              a dictionary containing a whole state of the module\n",
      " |      \n",
      " |      Example::\n",
      " |      \n",
      " |          >>> module.state_dict().keys()\n",
      " |          ['bias', 'weight']\n",
      " |  \n",
      " |  to(self, *args, **kwargs)\n",
      " |      Moves and/or casts the parameters and buffers.\n",
      " |      \n",
      " |      This can be called as\n",
      " |      \n",
      " |      .. function:: to(device=None, dtype=None, non_blocking=False)\n",
      " |      \n",
      " |      .. function:: to(dtype, non_blocking=False)\n",
      " |      \n",
      " |      .. function:: to(tensor, non_blocking=False)\n",
      " |      \n",
      " |      Its signature is similar to :meth:`torch.Tensor.to`, but only accepts\n",
      " |      floating point desired :attr:`dtype` s. In addition, this method will\n",
      " |      only cast the floating point parameters and buffers to :attr:`dtype`\n",
      " |      (if given). The integral parameters and buffers will be moved\n",
      " |      :attr:`device`, if that is given, but with dtypes unchanged. When\n",
      " |      :attr:`non_blocking` is set, it tries to convert/move asynchronously\n",
      " |      with respect to the host if possible, e.g., moving CPU Tensors with\n",
      " |      pinned memory to CUDA devices.\n",
      " |      \n",
      " |      See below for examples.\n",
      " |      \n",
      " |      .. note::\n",
      " |          This method modifies the module in-place.\n",
      " |      \n",
      " |      Args:\n",
      " |          device (:class:`torch.device`): the desired device of the parameters\n",
      " |              and buffers in this module\n",
      " |          dtype (:class:`torch.dtype`): the desired floating point type of\n",
      " |              the floating point parameters and buffers in this module\n",
      " |          tensor (torch.Tensor): Tensor whose dtype and device are the desired\n",
      " |              dtype and device for all parameters and buffers in this module\n",
      " |      \n",
      " |      Returns:\n",
      " |          Module: self\n",
      " |      \n",
      " |      Example::\n",
      " |      \n",
      " |          >>> linear = nn.Linear(2, 2)\n",
      " |          >>> linear.weight\n",
      " |          Parameter containing:\n",
      " |          tensor([[ 0.1913, -0.3420],\n",
      " |                  [-0.5113, -0.2325]])\n",
      " |          >>> linear.to(torch.double)\n",
      " |          Linear(in_features=2, out_features=2, bias=True)\n",
      " |          >>> linear.weight\n",
      " |          Parameter containing:\n",
      " |          tensor([[ 0.1913, -0.3420],\n",
      " |                  [-0.5113, -0.2325]], dtype=torch.float64)\n",
      " |          >>> gpu1 = torch.device(\"cuda:1\")\n",
      " |          >>> linear.to(gpu1, dtype=torch.half, non_blocking=True)\n",
      " |          Linear(in_features=2, out_features=2, bias=True)\n",
      " |          >>> linear.weight\n",
      " |          Parameter containing:\n",
      " |          tensor([[ 0.1914, -0.3420],\n",
      " |                  [-0.5112, -0.2324]], dtype=torch.float16, device='cuda:1')\n",
      " |          >>> cpu = torch.device(\"cpu\")\n",
      " |          >>> linear.to(cpu)\n",
      " |          Linear(in_features=2, out_features=2, bias=True)\n",
      " |          >>> linear.weight\n",
      " |          Parameter containing:\n",
      " |          tensor([[ 0.1914, -0.3420],\n",
      " |                  [-0.5112, -0.2324]], dtype=torch.float16)\n",
      " |  \n",
      " |  train(self, mode=True)\n",
      " |      Sets the module in training mode.\n",
      " |      \n",
      " |      This has any effect only on certain modules. See documentations of\n",
      " |      particular modules for details of their behaviors in training/evaluation\n",
      " |      mode, if they are affected, e.g. :class:`Dropout`, :class:`BatchNorm`,\n",
      " |      etc.\n",
      " |      \n",
      " |      Returns:\n",
      " |          Module: self\n",
      " |  \n",
      " |  type(self, dst_type)\n",
      " |      Casts all parameters and buffers to :attr:`dst_type`.\n",
      " |      \n",
      " |      Arguments:\n",
      " |          dst_type (type or string): the desired type\n",
      " |      \n",
      " |      Returns:\n",
      " |          Module: self\n",
      " |  \n",
      " |  zero_grad(self)\n",
      " |      Sets gradients of all model parameters to zero.\n",
      " |  \n",
      " |  ----------------------------------------------------------------------\n",
      " |  Data descriptors inherited from torch.nn.modules.module.Module:\n",
      " |  \n",
      " |  __dict__\n",
      " |      dictionary for instance variables (if defined)\n",
      " |  \n",
      " |  __weakref__\n",
      " |      list of weak references to the object (if defined)\n",
      " |  \n",
      " |  ----------------------------------------------------------------------\n",
      " |  Data and other attributes inherited from torch.nn.modules.module.Module:\n",
      " |  \n",
      " |  dump_patches = False\n",
      "\n"
     ]
    }
   ],
   "source": [
    "help(l)"
   ]
  },
  {
   "cell_type": "code",
   "execution_count": 125,
   "metadata": {
    "nbpresent": {
     "id": "5a2131d5-c032-438b-9ec0-2356e5f7d0df"
    }
   },
   "outputs": [],
   "source": [
    "choices = nn.ModuleDict([\n",
    "        ['conv', nn.Conv2d(10, 10, 3)],\n",
    "        ['pool', nn.MaxPool2d(3)]\n",
    "])"
   ]
  },
  {
   "cell_type": "code",
   "execution_count": 141,
   "metadata": {
    "nbpresent": {
     "id": "a99f95cc-c158-4701-98ea-7262c7a7550f"
    }
   },
   "outputs": [
    {
     "data": {
      "text/plain": [
       "torch.Size([2, 10, 14, 14])"
      ]
     },
     "execution_count": 141,
     "metadata": {},
     "output_type": "execute_result"
    }
   ],
   "source": [
    "l['conv'](torch.rand(2, 10, 16, 16)).shape"
   ]
  },
  {
   "cell_type": "code",
   "execution_count": 132,
   "metadata": {
    "nbpresent": {
     "id": "96317563-f465-44e0-b4f3-956bc0acd856"
    }
   },
   "outputs": [
    {
     "data": {
      "text/plain": [
       "torch.Size([1, 256, 56, 56])"
      ]
     },
     "execution_count": 132,
     "metadata": {},
     "output_type": "execute_result"
    }
   ],
   "source": [
    "db(x).shape"
   ]
  },
  {
   "cell_type": "code",
   "execution_count": 142,
   "metadata": {
    "nbpresent": {
     "id": "716eaddb-1015-4cc3-9af9-601169b3598e"
    }
   },
   "outputs": [
    {
     "name": "stdout",
     "output_type": "stream",
     "text": [
      "conv\n",
      "pool\n"
     ]
    }
   ],
   "source": [
    "for choice in choices:\n",
    "    print(choice)"
   ]
  },
  {
   "cell_type": "code",
   "execution_count": null,
   "metadata": {
    "nbpresent": {
     "id": "fc414a9e-190a-41e8-8567-ed16c4c300d9"
    }
   },
   "outputs": [],
   "source": []
  },
  {
   "cell_type": "code",
   "execution_count": 145,
   "metadata": {
    "nbpresent": {
     "id": "eb956d37-1bda-4b5d-8593-ccc8aec8ed8f"
    }
   },
   "outputs": [],
   "source": [
    "class DenseBlock_(nn.Module):\n",
    "    def __init__(\n",
    "            self,\n",
    "            num_layers,\n",
    "            num_input_features,\n",
    "            bn_size,\n",
    "            growth_rate,\n",
    "            drop_rate):\n",
    "        super(DenseBlock_, self).__init__()\n",
    "        self.denselayers = nn.ModuleDict()\n",
    "        for i in range(num_layers):\n",
    "            layer = _DenseLayer(\n",
    "                num_input_features +\n",
    "                i *\n",
    "                growth_rate,\n",
    "                growth_rate,\n",
    "                bn_size,\n",
    "                drop_rate)\n",
    "            self.denselayers.add_module('denselayer%d' % (i + 1), layer)\n",
    "    \n",
    "    def forward(self, x):\n",
    "        for layer in self.denselayers:\n",
    "            x = self.denselayers[layer](x)\n",
    "        return x"
   ]
  },
  {
   "cell_type": "code",
   "execution_count": 146,
   "metadata": {
    "nbpresent": {
     "id": "a68e9375-86a1-4449-9a27-6384df7a1094"
    }
   },
   "outputs": [],
   "source": [
    "db = DenseBlock_(6, 64, 4, 32, 0.1)"
   ]
  },
  {
   "cell_type": "code",
   "execution_count": 148,
   "metadata": {
    "nbpresent": {
     "id": "1f39ec9f-5f7d-4857-ba53-efed16bf3b17"
    }
   },
   "outputs": [
    {
     "data": {
      "text/plain": [
       "torch.Size([1, 256, 56, 56])"
      ]
     },
     "execution_count": 148,
     "metadata": {},
     "output_type": "execute_result"
    }
   ],
   "source": [
    "db(x).shape"
   ]
  },
  {
   "cell_type": "code",
   "execution_count": 151,
   "metadata": {
    "nbpresent": {
     "id": "9ccec3af-4dc1-48bf-843b-9f77e33f5e2f"
    }
   },
   "outputs": [],
   "source": [
    "from collections import OrderedDict\n",
    "num_init_features = 64\n",
    "features = nn.Sequential(OrderedDict([\n",
    "    ('conv0', nn.Conv2d(3, num_init_features, kernel_size=7, stride=2,\n",
    "                        padding=3, bias=False)),\n",
    "    ('norm0', nn.BatchNorm2d(num_init_features)),\n",
    "    ('relu0', nn.ReLU(inplace=True)),\n",
    "    ('pool0', nn.MaxPool2d(kernel_size=3, stride=2, padding=1)),\n",
    "]))"
   ]
  },
  {
   "cell_type": "code",
   "execution_count": 152,
   "metadata": {
    "nbpresent": {
     "id": "8e43fa06-c734-4b35-be9a-55ffa79d65e4"
    }
   },
   "outputs": [
    {
     "data": {
      "text/plain": [
       "Sequential(\n",
       "  (conv0): Conv2d(3, 64, kernel_size=(7, 7), stride=(2, 2), padding=(3, 3), bias=False)\n",
       "  (norm0): BatchNorm2d(64, eps=1e-05, momentum=0.1, affine=True, track_running_stats=True)\n",
       "  (relu0): ReLU(inplace)\n",
       "  (pool0): MaxPool2d(kernel_size=3, stride=2, padding=1, dilation=1, ceil_mode=False)\n",
       ")"
      ]
     },
     "execution_count": 152,
     "metadata": {},
     "output_type": "execute_result"
    }
   ],
   "source": [
    "features"
   ]
  },
  {
   "cell_type": "code",
   "execution_count": 160,
   "metadata": {
    "nbpresent": {
     "id": "c19328b2-e79c-4e1f-b9b1-78dfc6bd740a"
    }
   },
   "outputs": [
    {
     "data": {
      "text/plain": [
       "torch.Size([6, 64, 112, 112])"
      ]
     },
     "execution_count": 160,
     "metadata": {},
     "output_type": "execute_result"
    }
   ],
   "source": [
    "features.conv0(torch.rand(6, 3, 224, 224)).shape"
   ]
  },
  {
   "cell_type": "code",
   "execution_count": 163,
   "metadata": {
    "nbpresent": {
     "id": "dca7fd73-e491-4963-b192-d906099fe478"
    }
   },
   "outputs": [
    {
     "data": {
      "text/plain": [
       "torch.Size([6, 64, 56, 56])"
      ]
     },
     "execution_count": 163,
     "metadata": {},
     "output_type": "execute_result"
    }
   ],
   "source": [
    "features.pool0(torch.rand(6, 64, 112, 112)).shape"
   ]
  },
  {
   "cell_type": "code",
   "execution_count": 164,
   "metadata": {
    "nbpresent": {
     "id": "fcc0352a-86c5-41a9-a7a8-b6f408ab2137"
    }
   },
   "outputs": [],
   "source": [
    "class DenseBlock(nn.Module):\n",
    "    def __init__(\n",
    "            self,\n",
    "            num_layers,\n",
    "            num_input_features,\n",
    "            bn_size,\n",
    "            growth_rate,\n",
    "            drop_rate,\n",
    "            num_heads,\n",
    "            total_key_filters,\n",
    "            total_value_filters,\n",
    "            output_filters):\n",
    "        super(DenseBlock, self).__init__()\n",
    "        self.denselayers = nn.ModuleDict()\n",
    "        self.multi_attn = MultiHeadAttention(\n",
    "                    num_heads=num_heads,\n",
    "                    num_input_channels=num_input_features,\n",
    "                    total_key_filters=total_key_filters,\n",
    "                    total_value_filters=total_value_filters,\n",
    "                    output_filters=output_filters)\n",
    "\n",
    "        for i in range(num_layers):\n",
    "            layer = _DenseLayer(\n",
    "                num_input_features +\n",
    "                i *\n",
    "                growth_rate,\n",
    "                growth_rate,\n",
    "                bn_size,\n",
    "                drop_rate)\n",
    "            self.denselayers.add_module('denselayer%d' % (i + 1), layer)\n",
    "\n",
    "    def forward(self, x):\n",
    "        attn = self.multi_attn(x)\n",
    "        for layer in self.denselayers:\n",
    "            x = self.denselayers[layer](x)\n",
    "        return torch.cat([x, attn], 1)"
   ]
  },
  {
   "cell_type": "code",
   "execution_count": 214,
   "metadata": {
    "nbpresent": {
     "id": "03042e93-1915-4d67-989b-deb3b34da29b"
    }
   },
   "outputs": [],
   "source": [
    "db = DenseBlock(6, 1024, 4, 32, 0.1, 2, 4, 4, 4)"
   ]
  },
  {
   "cell_type": "code",
   "execution_count": 215,
   "metadata": {
    "nbpresent": {
     "id": "d19c5608-b48a-455d-8e62-20d2dbd7a4b7"
    }
   },
   "outputs": [
    {
     "data": {
      "text/plain": [
       "torch.Size([1, 64, 56, 56])"
      ]
     },
     "execution_count": 215,
     "metadata": {},
     "output_type": "execute_result"
    }
   ],
   "source": [
    "x.shape"
   ]
  },
  {
   "cell_type": "code",
   "execution_count": 216,
   "metadata": {
    "nbpresent": {
     "id": "746a71ff-3481-4724-982e-ba2773d2f521"
    }
   },
   "outputs": [],
   "source": [
    "x_ = torch.rand(1, 1024, 14, 14)"
   ]
  },
  {
   "cell_type": "code",
   "execution_count": 217,
   "metadata": {
    "nbpresent": {
     "id": "bb998cf6-7e35-4930-b45d-282390a793ba"
    }
   },
   "outputs": [
    {
     "name": "stdout",
     "output_type": "stream",
     "text": [
      "0.12513099999999966\n"
     ]
    }
   ],
   "source": [
    "st = time.clock()\n",
    "db(x_).shape\n",
    "en = time.clock()\n",
    "print(en-st)"
   ]
  },
  {
   "cell_type": "code",
   "execution_count": 190,
   "metadata": {
    "nbpresent": {
     "id": "c95ba90a-9429-45d0-bcee-b34ad7f9b65a"
    }
   },
   "outputs": [],
   "source": [
    "total_params = lambda model : sum(p.numel() for p in model.parameters())"
   ]
  },
  {
   "cell_type": "code",
   "execution_count": null,
   "metadata": {
    "nbpresent": {
     "id": "f81b4476-c48f-4fbb-99fd-fa7ba7b21366"
    }
   },
   "outputs": [],
   "source": [
    "db(x).shape"
   ]
  },
  {
   "cell_type": "code",
   "execution_count": 218,
   "metadata": {
    "nbpresent": {
     "id": "07daa283-860c-453e-8a7d-e115f3df1cb2"
    }
   },
   "outputs": [],
   "source": [
    "db_ = DenseBlock_(6, 1024, 4, 32, 0.1)"
   ]
  },
  {
   "cell_type": "code",
   "execution_count": 173,
   "metadata": {
    "nbpresent": {
     "id": "7f33ec0c-2877-423f-923f-3f2a9e8b5976"
    }
   },
   "outputs": [],
   "source": [
    "import time"
   ]
  },
  {
   "cell_type": "code",
   "execution_count": 219,
   "metadata": {
    "nbpresent": {
     "id": "ac91f59e-4ea1-4f2f-b7a0-7be19bd255e4"
    }
   },
   "outputs": [
    {
     "name": "stdout",
     "output_type": "stream",
     "text": [
      "0.06197699999999884\n"
     ]
    }
   ],
   "source": [
    "st = time.clock()\n",
    "db_(x_).shape\n",
    "en = time.clock()\n",
    "print(en-st)"
   ]
  },
  {
   "cell_type": "code",
   "execution_count": 193,
   "metadata": {
    "nbpresent": {
     "id": "4409c36e-d704-46ab-913f-15b8cbec535a"
    }
   },
   "outputs": [
    {
     "name": "stdout",
     "output_type": "stream",
     "text": [
      "335040\n",
      "342336\n"
     ]
    }
   ],
   "source": [
    "print(total_params(db_))\n",
    "print(total_params(db))"
   ]
  },
  {
   "cell_type": "code",
   "execution_count": 204,
   "metadata": {
    "nbpresent": {
     "id": "55ce9950-5dde-48c8-a413-c9d073c96f33"
    }
   },
   "outputs": [],
   "source": [
    "attn = MultiHeadAttention(2,64,4,4,4)"
   ]
  },
  {
   "cell_type": "code",
   "execution_count": 205,
   "metadata": {
    "nbpresent": {
     "id": "901f37fb-336c-4f89-bbeb-746e498e2d0f"
    }
   },
   "outputs": [
    {
     "data": {
      "text/plain": [
       "800"
      ]
     },
     "execution_count": 205,
     "metadata": {},
     "output_type": "execute_result"
    }
   ],
   "source": [
    "total_params(attn)"
   ]
  },
  {
   "cell_type": "code",
   "execution_count": 206,
   "metadata": {
    "nbpresent": {
     "id": "c8188902-b7fe-41a7-bbe0-e6b1bc6616ea"
    }
   },
   "outputs": [
    {
     "data": {
      "text/plain": [
       "[256, 4, 256, 4, 256, 4, 16, 4]"
      ]
     },
     "execution_count": 206,
     "metadata": {},
     "output_type": "execute_result"
    }
   ],
   "source": [
    "[p.numel() for p in attn.parameters()]"
   ]
  },
  {
   "cell_type": "code",
   "execution_count": 223,
   "metadata": {
    "nbpresent": {
     "id": "c7c49f02-7778-4e83-9917-c59c93b096af"
    }
   },
   "outputs": [
    {
     "ename": "ModuleNotFoundError",
     "evalue": "No module named 'utils.attn_densenet'",
     "output_type": "error",
     "traceback": [
      "\u001b[0;31m---------------------------------------------------------------------------\u001b[0m",
      "\u001b[0;31mModuleNotFoundError\u001b[0m                       Traceback (most recent call last)",
      "\u001b[0;32m<ipython-input-223-3717536083ad>\u001b[0m in \u001b[0;36m<module>\u001b[0;34m()\u001b[0m\n\u001b[0;32m----> 1\u001b[0;31m \u001b[0;32mfrom\u001b[0m \u001b[0mutils\u001b[0m\u001b[0;34m.\u001b[0m\u001b[0mattn_densenet\u001b[0m \u001b[0;32mimport\u001b[0m \u001b[0mAttnDensenet\u001b[0m\u001b[0;34m\u001b[0m\u001b[0;34m\u001b[0m\u001b[0m\n\u001b[0m",
      "\u001b[0;31mModuleNotFoundError\u001b[0m: No module named 'utils.attn_densenet'"
     ]
    }
   ],
   "source": []
  },
  {
   "cell_type": "code",
   "execution_count": 221,
   "metadata": {
    "nbpresent": {
     "id": "1c4fba0b-0325-4261-a502-eba79ea7411e"
    }
   },
   "outputs": [
    {
     "data": {
      "text/plain": [
       "'/Users/abkds/chexpert'"
      ]
     },
     "execution_count": 221,
     "metadata": {},
     "output_type": "execute_result"
    }
   ],
   "source": [
    "pwd"
   ]
  },
  {
   "cell_type": "code",
   "execution_count": 2,
   "metadata": {
    "nbpresent": {
     "id": "7afe865a-e44f-4222-a161-1afb077e5af7"
    }
   },
   "outputs": [
    {
     "name": "stdout",
     "output_type": "stream",
     "text": [
      "Help on function load in module torch.serialization:\n",
      "\n",
      "load(f, map_location=None, pickle_module=<module 'pickle' from '/Users/abkds/anaconda3/lib/python3.6/pickle.py'>)\n",
      "    Loads an object saved with :func:`torch.save` from a file.\n",
      "    \n",
      "    :meth:`torch.load` uses Python's unpickling facilities but treats storages,\n",
      "    which underlie tensors, specially. They are first deserialized on the\n",
      "    CPU and are then moved to the device they were saved from. If this fails\n",
      "    (e.g. because the run time system doesn't have certain devices), an exception\n",
      "    is raised. However, storages can be dynamically remapped to an alternative\n",
      "    set of devices using the `map_location` argument.\n",
      "    \n",
      "    If `map_location` is a callable, it will be called once for each serialized\n",
      "    storage with two arguments: storage and location. The storage argument\n",
      "    will be the initial deserialization of the storage, residing on the CPU.\n",
      "    Each serialized storage has a location tag associated with it which\n",
      "    identifies the device it was saved from, and this tag is the second\n",
      "    argument passed to map_location. The builtin location tags are `'cpu'` for\n",
      "    CPU tensors and `'cuda:device_id'` (e.g. `'cuda:2'`) for CUDA tensors.\n",
      "    `map_location` should return either None or a storage. If `map_location` returns\n",
      "    a storage, it will be used as the final deserialized object, already moved to\n",
      "    the right device. Otherwise, :math:`torch.load` will fall back to the default\n",
      "    behavior, as if `map_location` wasn't specified.\n",
      "    \n",
      "    If `map_location` is a string, it should be a device tag, where all tensors\n",
      "    should be loaded.\n",
      "    \n",
      "    Otherwise, if `map_location` is a dict, it will be used to remap location tags\n",
      "    appearing in the file (keys), to ones that specify where to put the\n",
      "    storages (values).\n",
      "    \n",
      "    User extensions can register their own location tags and tagging and\n",
      "    deserialization methods using `register_package`.\n",
      "    \n",
      "    Args:\n",
      "        f: a file-like object (has to implement read, readline, tell, and seek),\n",
      "            or a string containing a file name\n",
      "        map_location: a function, torch.device, string or a dict specifying how to remap storage\n",
      "            locations\n",
      "        pickle_module: module used for unpickling metadata and objects (has to\n",
      "            match the pickle_module used to serialize file)\n",
      "    \n",
      "    .. note::\n",
      "        When you call :meth:`torch.load()` on a file which contains GPU tensors, those tensors\n",
      "        will be loaded to GPU by default. You can call `torch.load(.., map_location='cpu')`\n",
      "        and then :meth:`load_state_dict` to avoid GPU RAM surge when loading a model checkpoint.\n",
      "    \n",
      "    Example:\n",
      "        >>> torch.load('tensors.pt')\n",
      "        # Load all tensors onto the CPU\n",
      "        >>> torch.load('tensors.pt', map_location=torch.device('cpu'))\n",
      "        # Load all tensors onto the CPU, using a function\n",
      "        >>> torch.load('tensors.pt', map_location=lambda storage, loc: storage)\n",
      "        # Load all tensors onto GPU 1\n",
      "        >>> torch.load('tensors.pt', map_location=lambda storage, loc: storage.cuda(1))\n",
      "        # Map tensors from GPU 1 to GPU 0\n",
      "        >>> torch.load('tensors.pt', map_location={'cuda:1':'cuda:0'})\n",
      "        # Load tensor from io.BytesIO object\n",
      "        >>> with open('tensor.pt') as f:\n",
      "                buffer = io.BytesIO(f.read())\n",
      "        >>> torch.load(buffer)\n",
      "\n"
     ]
    }
   ],
   "source": [
    "help(torch.load)"
   ]
  },
  {
   "cell_type": "code",
   "execution_count": 6,
   "metadata": {
    "nbpresent": {
     "id": "d093e0a8-66f7-422c-bae6-cc9e3fcb1be3"
    }
   },
   "outputs": [],
   "source": [
    "import pandas as pd\n",
    "import os"
   ]
  },
  {
   "cell_type": "code",
   "execution_count": 9,
   "metadata": {
    "nbpresent": {
     "id": "727eed3d-2fb9-45eb-9c9d-cea884da0e1b"
    }
   },
   "outputs": [],
   "source": [
    "metadata = pd.read_csv(os.path.join(os.getcwd() + '/data/CheXpert-v1.0-small/train.csv'))"
   ]
  },
  {
   "cell_type": "code",
   "execution_count": 14,
   "metadata": {
    "nbpresent": {
     "id": "e6b16063-1dfe-4a3a-98e4-34b8a946ddc6"
    }
   },
   "outputs": [
    {
     "data": {
      "text/plain": [
       "Index(['Path', 'Sex', 'Age', 'Frontal/Lateral', 'AP/PA', 'No Finding',\n",
       "       'Enlarged Cardiomediastinum', 'Cardiomegaly', 'Lung Opacity',\n",
       "       'Lung Lesion', 'Edema', 'Consolidation', 'Pneumonia', 'Atelectasis',\n",
       "       'Pneumothorax', 'Pleural Effusion', 'Pleural Other', 'Fracture',\n",
       "       'Support Devices'],\n",
       "      dtype='object')"
      ]
     },
     "execution_count": 14,
     "metadata": {},
     "output_type": "execute_result"
    }
   ],
   "source": [
    "metadata.columns"
   ]
  },
  {
   "cell_type": "code",
   "execution_count": 17,
   "metadata": {
    "nbpresent": {
     "id": "dc2870fe-e6b4-485a-bdaf-fb2af1a52487"
    }
   },
   "outputs": [
    {
     "data": {
      "text/html": [
       "<div>\n",
       "<style scoped>\n",
       "    .dataframe tbody tr th:only-of-type {\n",
       "        vertical-align: middle;\n",
       "    }\n",
       "\n",
       "    .dataframe tbody tr th {\n",
       "        vertical-align: top;\n",
       "    }\n",
       "\n",
       "    .dataframe thead th {\n",
       "        text-align: right;\n",
       "    }\n",
       "</style>\n",
       "<table border=\"1\" class=\"dataframe\">\n",
       "  <thead>\n",
       "    <tr style=\"text-align: right;\">\n",
       "      <th></th>\n",
       "      <th>Path</th>\n",
       "      <th>Sex</th>\n",
       "      <th>Age</th>\n",
       "      <th>Frontal/Lateral</th>\n",
       "      <th>AP/PA</th>\n",
       "      <th>No Finding</th>\n",
       "      <th>Enlarged Cardiomediastinum</th>\n",
       "      <th>Cardiomegaly</th>\n",
       "      <th>Lung Opacity</th>\n",
       "      <th>Lung Lesion</th>\n",
       "      <th>Edema</th>\n",
       "      <th>Consolidation</th>\n",
       "      <th>Pneumonia</th>\n",
       "      <th>Atelectasis</th>\n",
       "      <th>Pneumothorax</th>\n",
       "      <th>Pleural Effusion</th>\n",
       "      <th>Pleural Other</th>\n",
       "      <th>Fracture</th>\n",
       "      <th>Support Devices</th>\n",
       "    </tr>\n",
       "  </thead>\n",
       "  <tbody>\n",
       "    <tr>\n",
       "      <th>0</th>\n",
       "      <td>CheXpert-v1.0-small/train/patient00001/study1/...</td>\n",
       "      <td>Female</td>\n",
       "      <td>68</td>\n",
       "      <td>Frontal</td>\n",
       "      <td>AP</td>\n",
       "      <td>1.0</td>\n",
       "      <td>NaN</td>\n",
       "      <td>NaN</td>\n",
       "      <td>NaN</td>\n",
       "      <td>NaN</td>\n",
       "      <td>NaN</td>\n",
       "      <td>NaN</td>\n",
       "      <td>NaN</td>\n",
       "      <td>NaN</td>\n",
       "      <td>0.0</td>\n",
       "      <td>NaN</td>\n",
       "      <td>NaN</td>\n",
       "      <td>NaN</td>\n",
       "      <td>1.0</td>\n",
       "    </tr>\n",
       "    <tr>\n",
       "      <th>1</th>\n",
       "      <td>CheXpert-v1.0-small/train/patient00002/study2/...</td>\n",
       "      <td>Female</td>\n",
       "      <td>87</td>\n",
       "      <td>Frontal</td>\n",
       "      <td>AP</td>\n",
       "      <td>NaN</td>\n",
       "      <td>NaN</td>\n",
       "      <td>-1.0</td>\n",
       "      <td>1.0</td>\n",
       "      <td>NaN</td>\n",
       "      <td>-1.0</td>\n",
       "      <td>-1.0</td>\n",
       "      <td>NaN</td>\n",
       "      <td>-1.0</td>\n",
       "      <td>NaN</td>\n",
       "      <td>-1.0</td>\n",
       "      <td>NaN</td>\n",
       "      <td>1.0</td>\n",
       "      <td>NaN</td>\n",
       "    </tr>\n",
       "    <tr>\n",
       "      <th>2</th>\n",
       "      <td>CheXpert-v1.0-small/train/patient00002/study1/...</td>\n",
       "      <td>Female</td>\n",
       "      <td>83</td>\n",
       "      <td>Frontal</td>\n",
       "      <td>AP</td>\n",
       "      <td>NaN</td>\n",
       "      <td>NaN</td>\n",
       "      <td>NaN</td>\n",
       "      <td>1.0</td>\n",
       "      <td>NaN</td>\n",
       "      <td>NaN</td>\n",
       "      <td>-1.0</td>\n",
       "      <td>NaN</td>\n",
       "      <td>NaN</td>\n",
       "      <td>NaN</td>\n",
       "      <td>NaN</td>\n",
       "      <td>NaN</td>\n",
       "      <td>1.0</td>\n",
       "      <td>NaN</td>\n",
       "    </tr>\n",
       "    <tr>\n",
       "      <th>3</th>\n",
       "      <td>CheXpert-v1.0-small/train/patient00002/study1/...</td>\n",
       "      <td>Female</td>\n",
       "      <td>83</td>\n",
       "      <td>Lateral</td>\n",
       "      <td>NaN</td>\n",
       "      <td>NaN</td>\n",
       "      <td>NaN</td>\n",
       "      <td>NaN</td>\n",
       "      <td>1.0</td>\n",
       "      <td>NaN</td>\n",
       "      <td>NaN</td>\n",
       "      <td>-1.0</td>\n",
       "      <td>NaN</td>\n",
       "      <td>NaN</td>\n",
       "      <td>NaN</td>\n",
       "      <td>NaN</td>\n",
       "      <td>NaN</td>\n",
       "      <td>1.0</td>\n",
       "      <td>NaN</td>\n",
       "    </tr>\n",
       "    <tr>\n",
       "      <th>4</th>\n",
       "      <td>CheXpert-v1.0-small/train/patient00003/study1/...</td>\n",
       "      <td>Male</td>\n",
       "      <td>41</td>\n",
       "      <td>Frontal</td>\n",
       "      <td>AP</td>\n",
       "      <td>NaN</td>\n",
       "      <td>NaN</td>\n",
       "      <td>NaN</td>\n",
       "      <td>NaN</td>\n",
       "      <td>NaN</td>\n",
       "      <td>1.0</td>\n",
       "      <td>NaN</td>\n",
       "      <td>NaN</td>\n",
       "      <td>NaN</td>\n",
       "      <td>0.0</td>\n",
       "      <td>NaN</td>\n",
       "      <td>NaN</td>\n",
       "      <td>NaN</td>\n",
       "      <td>NaN</td>\n",
       "    </tr>\n",
       "    <tr>\n",
       "      <th>5</th>\n",
       "      <td>CheXpert-v1.0-small/train/patient00004/study1/...</td>\n",
       "      <td>Female</td>\n",
       "      <td>20</td>\n",
       "      <td>Frontal</td>\n",
       "      <td>PA</td>\n",
       "      <td>1.0</td>\n",
       "      <td>0.0</td>\n",
       "      <td>NaN</td>\n",
       "      <td>NaN</td>\n",
       "      <td>NaN</td>\n",
       "      <td>NaN</td>\n",
       "      <td>0.0</td>\n",
       "      <td>NaN</td>\n",
       "      <td>NaN</td>\n",
       "      <td>NaN</td>\n",
       "      <td>0.0</td>\n",
       "      <td>NaN</td>\n",
       "      <td>NaN</td>\n",
       "      <td>NaN</td>\n",
       "    </tr>\n",
       "    <tr>\n",
       "      <th>6</th>\n",
       "      <td>CheXpert-v1.0-small/train/patient00004/study1/...</td>\n",
       "      <td>Female</td>\n",
       "      <td>20</td>\n",
       "      <td>Lateral</td>\n",
       "      <td>NaN</td>\n",
       "      <td>1.0</td>\n",
       "      <td>0.0</td>\n",
       "      <td>NaN</td>\n",
       "      <td>NaN</td>\n",
       "      <td>NaN</td>\n",
       "      <td>NaN</td>\n",
       "      <td>0.0</td>\n",
       "      <td>NaN</td>\n",
       "      <td>NaN</td>\n",
       "      <td>NaN</td>\n",
       "      <td>0.0</td>\n",
       "      <td>NaN</td>\n",
       "      <td>NaN</td>\n",
       "      <td>NaN</td>\n",
       "    </tr>\n",
       "    <tr>\n",
       "      <th>7</th>\n",
       "      <td>CheXpert-v1.0-small/train/patient00005/study1/...</td>\n",
       "      <td>Male</td>\n",
       "      <td>33</td>\n",
       "      <td>Frontal</td>\n",
       "      <td>PA</td>\n",
       "      <td>1.0</td>\n",
       "      <td>NaN</td>\n",
       "      <td>0.0</td>\n",
       "      <td>NaN</td>\n",
       "      <td>NaN</td>\n",
       "      <td>NaN</td>\n",
       "      <td>0.0</td>\n",
       "      <td>NaN</td>\n",
       "      <td>NaN</td>\n",
       "      <td>NaN</td>\n",
       "      <td>0.0</td>\n",
       "      <td>NaN</td>\n",
       "      <td>NaN</td>\n",
       "      <td>1.0</td>\n",
       "    </tr>\n",
       "    <tr>\n",
       "      <th>8</th>\n",
       "      <td>CheXpert-v1.0-small/train/patient00005/study1/...</td>\n",
       "      <td>Male</td>\n",
       "      <td>33</td>\n",
       "      <td>Lateral</td>\n",
       "      <td>NaN</td>\n",
       "      <td>1.0</td>\n",
       "      <td>NaN</td>\n",
       "      <td>0.0</td>\n",
       "      <td>NaN</td>\n",
       "      <td>NaN</td>\n",
       "      <td>NaN</td>\n",
       "      <td>0.0</td>\n",
       "      <td>NaN</td>\n",
       "      <td>NaN</td>\n",
       "      <td>NaN</td>\n",
       "      <td>0.0</td>\n",
       "      <td>NaN</td>\n",
       "      <td>NaN</td>\n",
       "      <td>1.0</td>\n",
       "    </tr>\n",
       "    <tr>\n",
       "      <th>9</th>\n",
       "      <td>CheXpert-v1.0-small/train/patient00005/study2/...</td>\n",
       "      <td>Male</td>\n",
       "      <td>33</td>\n",
       "      <td>Frontal</td>\n",
       "      <td>AP</td>\n",
       "      <td>NaN</td>\n",
       "      <td>NaN</td>\n",
       "      <td>NaN</td>\n",
       "      <td>NaN</td>\n",
       "      <td>NaN</td>\n",
       "      <td>NaN</td>\n",
       "      <td>NaN</td>\n",
       "      <td>NaN</td>\n",
       "      <td>NaN</td>\n",
       "      <td>1.0</td>\n",
       "      <td>NaN</td>\n",
       "      <td>NaN</td>\n",
       "      <td>NaN</td>\n",
       "      <td>NaN</td>\n",
       "    </tr>\n",
       "    <tr>\n",
       "      <th>10</th>\n",
       "      <td>CheXpert-v1.0-small/train/patient00005/study2/...</td>\n",
       "      <td>Male</td>\n",
       "      <td>33</td>\n",
       "      <td>Frontal</td>\n",
       "      <td>AP</td>\n",
       "      <td>NaN</td>\n",
       "      <td>NaN</td>\n",
       "      <td>NaN</td>\n",
       "      <td>NaN</td>\n",
       "      <td>NaN</td>\n",
       "      <td>NaN</td>\n",
       "      <td>NaN</td>\n",
       "      <td>NaN</td>\n",
       "      <td>NaN</td>\n",
       "      <td>1.0</td>\n",
       "      <td>NaN</td>\n",
       "      <td>NaN</td>\n",
       "      <td>NaN</td>\n",
       "      <td>NaN</td>\n",
       "    </tr>\n",
       "    <tr>\n",
       "      <th>11</th>\n",
       "      <td>CheXpert-v1.0-small/train/patient00006/study1/...</td>\n",
       "      <td>Female</td>\n",
       "      <td>42</td>\n",
       "      <td>Frontal</td>\n",
       "      <td>AP</td>\n",
       "      <td>1.0</td>\n",
       "      <td>0.0</td>\n",
       "      <td>NaN</td>\n",
       "      <td>NaN</td>\n",
       "      <td>NaN</td>\n",
       "      <td>NaN</td>\n",
       "      <td>NaN</td>\n",
       "      <td>NaN</td>\n",
       "      <td>NaN</td>\n",
       "      <td>NaN</td>\n",
       "      <td>0.0</td>\n",
       "      <td>NaN</td>\n",
       "      <td>NaN</td>\n",
       "      <td>NaN</td>\n",
       "    </tr>\n",
       "    <tr>\n",
       "      <th>12</th>\n",
       "      <td>CheXpert-v1.0-small/train/patient00007/study1/...</td>\n",
       "      <td>Male</td>\n",
       "      <td>69</td>\n",
       "      <td>Frontal</td>\n",
       "      <td>AP</td>\n",
       "      <td>NaN</td>\n",
       "      <td>NaN</td>\n",
       "      <td>1.0</td>\n",
       "      <td>1.0</td>\n",
       "      <td>NaN</td>\n",
       "      <td>NaN</td>\n",
       "      <td>NaN</td>\n",
       "      <td>NaN</td>\n",
       "      <td>1.0</td>\n",
       "      <td>1.0</td>\n",
       "      <td>0.0</td>\n",
       "      <td>NaN</td>\n",
       "      <td>0.0</td>\n",
       "      <td>1.0</td>\n",
       "    </tr>\n",
       "    <tr>\n",
       "      <th>13</th>\n",
       "      <td>CheXpert-v1.0-small/train/patient00007/study2/...</td>\n",
       "      <td>Male</td>\n",
       "      <td>69</td>\n",
       "      <td>Frontal</td>\n",
       "      <td>AP</td>\n",
       "      <td>NaN</td>\n",
       "      <td>1.0</td>\n",
       "      <td>NaN</td>\n",
       "      <td>1.0</td>\n",
       "      <td>NaN</td>\n",
       "      <td>NaN</td>\n",
       "      <td>NaN</td>\n",
       "      <td>NaN</td>\n",
       "      <td>1.0</td>\n",
       "      <td>0.0</td>\n",
       "      <td>0.0</td>\n",
       "      <td>NaN</td>\n",
       "      <td>0.0</td>\n",
       "      <td>1.0</td>\n",
       "    </tr>\n",
       "    <tr>\n",
       "      <th>14</th>\n",
       "      <td>CheXpert-v1.0-small/train/patient00008/study1/...</td>\n",
       "      <td>Male</td>\n",
       "      <td>81</td>\n",
       "      <td>Frontal</td>\n",
       "      <td>AP</td>\n",
       "      <td>NaN</td>\n",
       "      <td>NaN</td>\n",
       "      <td>NaN</td>\n",
       "      <td>1.0</td>\n",
       "      <td>NaN</td>\n",
       "      <td>NaN</td>\n",
       "      <td>NaN</td>\n",
       "      <td>NaN</td>\n",
       "      <td>NaN</td>\n",
       "      <td>NaN</td>\n",
       "      <td>1.0</td>\n",
       "      <td>NaN</td>\n",
       "      <td>NaN</td>\n",
       "      <td>1.0</td>\n",
       "    </tr>\n",
       "    <tr>\n",
       "      <th>15</th>\n",
       "      <td>CheXpert-v1.0-small/train/patient00008/study2/...</td>\n",
       "      <td>Male</td>\n",
       "      <td>81</td>\n",
       "      <td>Frontal</td>\n",
       "      <td>AP</td>\n",
       "      <td>NaN</td>\n",
       "      <td>NaN</td>\n",
       "      <td>NaN</td>\n",
       "      <td>1.0</td>\n",
       "      <td>NaN</td>\n",
       "      <td>NaN</td>\n",
       "      <td>NaN</td>\n",
       "      <td>NaN</td>\n",
       "      <td>NaN</td>\n",
       "      <td>0.0</td>\n",
       "      <td>1.0</td>\n",
       "      <td>NaN</td>\n",
       "      <td>NaN</td>\n",
       "      <td>1.0</td>\n",
       "    </tr>\n",
       "    <tr>\n",
       "      <th>16</th>\n",
       "      <td>CheXpert-v1.0-small/train/patient00009/study1/...</td>\n",
       "      <td>Male</td>\n",
       "      <td>76</td>\n",
       "      <td>Frontal</td>\n",
       "      <td>PA</td>\n",
       "      <td>NaN</td>\n",
       "      <td>NaN</td>\n",
       "      <td>1.0</td>\n",
       "      <td>NaN</td>\n",
       "      <td>NaN</td>\n",
       "      <td>0.0</td>\n",
       "      <td>NaN</td>\n",
       "      <td>NaN</td>\n",
       "      <td>1.0</td>\n",
       "      <td>NaN</td>\n",
       "      <td>NaN</td>\n",
       "      <td>NaN</td>\n",
       "      <td>NaN</td>\n",
       "      <td>NaN</td>\n",
       "    </tr>\n",
       "    <tr>\n",
       "      <th>17</th>\n",
       "      <td>CheXpert-v1.0-small/train/patient00009/study1/...</td>\n",
       "      <td>Male</td>\n",
       "      <td>76</td>\n",
       "      <td>Lateral</td>\n",
       "      <td>NaN</td>\n",
       "      <td>NaN</td>\n",
       "      <td>NaN</td>\n",
       "      <td>1.0</td>\n",
       "      <td>NaN</td>\n",
       "      <td>NaN</td>\n",
       "      <td>0.0</td>\n",
       "      <td>NaN</td>\n",
       "      <td>NaN</td>\n",
       "      <td>1.0</td>\n",
       "      <td>NaN</td>\n",
       "      <td>NaN</td>\n",
       "      <td>NaN</td>\n",
       "      <td>NaN</td>\n",
       "      <td>NaN</td>\n",
       "    </tr>\n",
       "    <tr>\n",
       "      <th>18</th>\n",
       "      <td>CheXpert-v1.0-small/train/patient00010/study1/...</td>\n",
       "      <td>Female</td>\n",
       "      <td>50</td>\n",
       "      <td>Frontal</td>\n",
       "      <td>PA</td>\n",
       "      <td>1.0</td>\n",
       "      <td>0.0</td>\n",
       "      <td>NaN</td>\n",
       "      <td>0.0</td>\n",
       "      <td>NaN</td>\n",
       "      <td>NaN</td>\n",
       "      <td>NaN</td>\n",
       "      <td>NaN</td>\n",
       "      <td>NaN</td>\n",
       "      <td>NaN</td>\n",
       "      <td>0.0</td>\n",
       "      <td>NaN</td>\n",
       "      <td>NaN</td>\n",
       "      <td>NaN</td>\n",
       "    </tr>\n",
       "    <tr>\n",
       "      <th>19</th>\n",
       "      <td>CheXpert-v1.0-small/train/patient00010/study1/...</td>\n",
       "      <td>Female</td>\n",
       "      <td>50</td>\n",
       "      <td>Lateral</td>\n",
       "      <td>NaN</td>\n",
       "      <td>1.0</td>\n",
       "      <td>0.0</td>\n",
       "      <td>NaN</td>\n",
       "      <td>0.0</td>\n",
       "      <td>NaN</td>\n",
       "      <td>NaN</td>\n",
       "      <td>NaN</td>\n",
       "      <td>NaN</td>\n",
       "      <td>NaN</td>\n",
       "      <td>NaN</td>\n",
       "      <td>0.0</td>\n",
       "      <td>NaN</td>\n",
       "      <td>NaN</td>\n",
       "      <td>NaN</td>\n",
       "    </tr>\n",
       "    <tr>\n",
       "      <th>20</th>\n",
       "      <td>CheXpert-v1.0-small/train/patient00011/study13...</td>\n",
       "      <td>Female</td>\n",
       "      <td>22</td>\n",
       "      <td>Frontal</td>\n",
       "      <td>PA</td>\n",
       "      <td>NaN</td>\n",
       "      <td>0.0</td>\n",
       "      <td>NaN</td>\n",
       "      <td>NaN</td>\n",
       "      <td>NaN</td>\n",
       "      <td>NaN</td>\n",
       "      <td>0.0</td>\n",
       "      <td>NaN</td>\n",
       "      <td>0.0</td>\n",
       "      <td>0.0</td>\n",
       "      <td>0.0</td>\n",
       "      <td>NaN</td>\n",
       "      <td>NaN</td>\n",
       "      <td>NaN</td>\n",
       "    </tr>\n",
       "    <tr>\n",
       "      <th>21</th>\n",
       "      <td>CheXpert-v1.0-small/train/patient00011/study13...</td>\n",
       "      <td>Female</td>\n",
       "      <td>22</td>\n",
       "      <td>Lateral</td>\n",
       "      <td>NaN</td>\n",
       "      <td>NaN</td>\n",
       "      <td>0.0</td>\n",
       "      <td>NaN</td>\n",
       "      <td>NaN</td>\n",
       "      <td>NaN</td>\n",
       "      <td>NaN</td>\n",
       "      <td>0.0</td>\n",
       "      <td>NaN</td>\n",
       "      <td>0.0</td>\n",
       "      <td>0.0</td>\n",
       "      <td>0.0</td>\n",
       "      <td>NaN</td>\n",
       "      <td>NaN</td>\n",
       "      <td>NaN</td>\n",
       "    </tr>\n",
       "    <tr>\n",
       "      <th>22</th>\n",
       "      <td>CheXpert-v1.0-small/train/patient00011/study1/...</td>\n",
       "      <td>Female</td>\n",
       "      <td>19</td>\n",
       "      <td>Frontal</td>\n",
       "      <td>AP</td>\n",
       "      <td>NaN</td>\n",
       "      <td>NaN</td>\n",
       "      <td>NaN</td>\n",
       "      <td>1.0</td>\n",
       "      <td>NaN</td>\n",
       "      <td>NaN</td>\n",
       "      <td>-1.0</td>\n",
       "      <td>NaN</td>\n",
       "      <td>NaN</td>\n",
       "      <td>-1.0</td>\n",
       "      <td>-1.0</td>\n",
       "      <td>NaN</td>\n",
       "      <td>NaN</td>\n",
       "      <td>1.0</td>\n",
       "    </tr>\n",
       "    <tr>\n",
       "      <th>23</th>\n",
       "      <td>CheXpert-v1.0-small/train/patient00011/study5/...</td>\n",
       "      <td>Female</td>\n",
       "      <td>19</td>\n",
       "      <td>Frontal</td>\n",
       "      <td>AP</td>\n",
       "      <td>NaN</td>\n",
       "      <td>NaN</td>\n",
       "      <td>NaN</td>\n",
       "      <td>1.0</td>\n",
       "      <td>NaN</td>\n",
       "      <td>NaN</td>\n",
       "      <td>NaN</td>\n",
       "      <td>NaN</td>\n",
       "      <td>NaN</td>\n",
       "      <td>1.0</td>\n",
       "      <td>NaN</td>\n",
       "      <td>NaN</td>\n",
       "      <td>NaN</td>\n",
       "      <td>NaN</td>\n",
       "    </tr>\n",
       "    <tr>\n",
       "      <th>24</th>\n",
       "      <td>CheXpert-v1.0-small/train/patient00011/study7/...</td>\n",
       "      <td>Female</td>\n",
       "      <td>19</td>\n",
       "      <td>Frontal</td>\n",
       "      <td>AP</td>\n",
       "      <td>NaN</td>\n",
       "      <td>NaN</td>\n",
       "      <td>NaN</td>\n",
       "      <td>1.0</td>\n",
       "      <td>NaN</td>\n",
       "      <td>0.0</td>\n",
       "      <td>NaN</td>\n",
       "      <td>NaN</td>\n",
       "      <td>NaN</td>\n",
       "      <td>NaN</td>\n",
       "      <td>NaN</td>\n",
       "      <td>NaN</td>\n",
       "      <td>NaN</td>\n",
       "      <td>1.0</td>\n",
       "    </tr>\n",
       "    <tr>\n",
       "      <th>25</th>\n",
       "      <td>CheXpert-v1.0-small/train/patient00011/study4/...</td>\n",
       "      <td>Female</td>\n",
       "      <td>19</td>\n",
       "      <td>Frontal</td>\n",
       "      <td>AP</td>\n",
       "      <td>NaN</td>\n",
       "      <td>NaN</td>\n",
       "      <td>NaN</td>\n",
       "      <td>1.0</td>\n",
       "      <td>NaN</td>\n",
       "      <td>NaN</td>\n",
       "      <td>NaN</td>\n",
       "      <td>NaN</td>\n",
       "      <td>-1.0</td>\n",
       "      <td>1.0</td>\n",
       "      <td>-1.0</td>\n",
       "      <td>NaN</td>\n",
       "      <td>NaN</td>\n",
       "      <td>1.0</td>\n",
       "    </tr>\n",
       "    <tr>\n",
       "      <th>26</th>\n",
       "      <td>CheXpert-v1.0-small/train/patient00011/study2/...</td>\n",
       "      <td>Female</td>\n",
       "      <td>19</td>\n",
       "      <td>Frontal</td>\n",
       "      <td>AP</td>\n",
       "      <td>NaN</td>\n",
       "      <td>NaN</td>\n",
       "      <td>NaN</td>\n",
       "      <td>1.0</td>\n",
       "      <td>NaN</td>\n",
       "      <td>NaN</td>\n",
       "      <td>1.0</td>\n",
       "      <td>NaN</td>\n",
       "      <td>NaN</td>\n",
       "      <td>NaN</td>\n",
       "      <td>1.0</td>\n",
       "      <td>NaN</td>\n",
       "      <td>NaN</td>\n",
       "      <td>1.0</td>\n",
       "    </tr>\n",
       "    <tr>\n",
       "      <th>27</th>\n",
       "      <td>CheXpert-v1.0-small/train/patient00011/study10...</td>\n",
       "      <td>Female</td>\n",
       "      <td>19</td>\n",
       "      <td>Frontal</td>\n",
       "      <td>AP</td>\n",
       "      <td>NaN</td>\n",
       "      <td>NaN</td>\n",
       "      <td>NaN</td>\n",
       "      <td>1.0</td>\n",
       "      <td>NaN</td>\n",
       "      <td>1.0</td>\n",
       "      <td>NaN</td>\n",
       "      <td>NaN</td>\n",
       "      <td>NaN</td>\n",
       "      <td>NaN</td>\n",
       "      <td>1.0</td>\n",
       "      <td>NaN</td>\n",
       "      <td>NaN</td>\n",
       "      <td>1.0</td>\n",
       "    </tr>\n",
       "    <tr>\n",
       "      <th>28</th>\n",
       "      <td>CheXpert-v1.0-small/train/patient00011/study9/...</td>\n",
       "      <td>Female</td>\n",
       "      <td>19</td>\n",
       "      <td>Frontal</td>\n",
       "      <td>AP</td>\n",
       "      <td>NaN</td>\n",
       "      <td>1.0</td>\n",
       "      <td>NaN</td>\n",
       "      <td>-1.0</td>\n",
       "      <td>NaN</td>\n",
       "      <td>NaN</td>\n",
       "      <td>NaN</td>\n",
       "      <td>NaN</td>\n",
       "      <td>NaN</td>\n",
       "      <td>NaN</td>\n",
       "      <td>1.0</td>\n",
       "      <td>NaN</td>\n",
       "      <td>NaN</td>\n",
       "      <td>1.0</td>\n",
       "    </tr>\n",
       "    <tr>\n",
       "      <th>29</th>\n",
       "      <td>CheXpert-v1.0-small/train/patient00011/study11...</td>\n",
       "      <td>Female</td>\n",
       "      <td>19</td>\n",
       "      <td>Frontal</td>\n",
       "      <td>AP</td>\n",
       "      <td>NaN</td>\n",
       "      <td>NaN</td>\n",
       "      <td>NaN</td>\n",
       "      <td>1.0</td>\n",
       "      <td>NaN</td>\n",
       "      <td>1.0</td>\n",
       "      <td>NaN</td>\n",
       "      <td>NaN</td>\n",
       "      <td>NaN</td>\n",
       "      <td>NaN</td>\n",
       "      <td>1.0</td>\n",
       "      <td>NaN</td>\n",
       "      <td>NaN</td>\n",
       "      <td>1.0</td>\n",
       "    </tr>\n",
       "    <tr>\n",
       "      <th>...</th>\n",
       "      <td>...</td>\n",
       "      <td>...</td>\n",
       "      <td>...</td>\n",
       "      <td>...</td>\n",
       "      <td>...</td>\n",
       "      <td>...</td>\n",
       "      <td>...</td>\n",
       "      <td>...</td>\n",
       "      <td>...</td>\n",
       "      <td>...</td>\n",
       "      <td>...</td>\n",
       "      <td>...</td>\n",
       "      <td>...</td>\n",
       "      <td>...</td>\n",
       "      <td>...</td>\n",
       "      <td>...</td>\n",
       "      <td>...</td>\n",
       "      <td>...</td>\n",
       "      <td>...</td>\n",
       "    </tr>\n",
       "    <tr>\n",
       "      <th>223384</th>\n",
       "      <td>CheXpert-v1.0-small/train/patient64515/study1/...</td>\n",
       "      <td>Male</td>\n",
       "      <td>25</td>\n",
       "      <td>Frontal</td>\n",
       "      <td>AP</td>\n",
       "      <td>1.0</td>\n",
       "      <td>NaN</td>\n",
       "      <td>NaN</td>\n",
       "      <td>NaN</td>\n",
       "      <td>NaN</td>\n",
       "      <td>NaN</td>\n",
       "      <td>NaN</td>\n",
       "      <td>NaN</td>\n",
       "      <td>NaN</td>\n",
       "      <td>0.0</td>\n",
       "      <td>NaN</td>\n",
       "      <td>NaN</td>\n",
       "      <td>NaN</td>\n",
       "      <td>NaN</td>\n",
       "    </tr>\n",
       "    <tr>\n",
       "      <th>223385</th>\n",
       "      <td>CheXpert-v1.0-small/train/patient64516/study1/...</td>\n",
       "      <td>Female</td>\n",
       "      <td>75</td>\n",
       "      <td>Frontal</td>\n",
       "      <td>AP</td>\n",
       "      <td>1.0</td>\n",
       "      <td>NaN</td>\n",
       "      <td>NaN</td>\n",
       "      <td>NaN</td>\n",
       "      <td>NaN</td>\n",
       "      <td>NaN</td>\n",
       "      <td>NaN</td>\n",
       "      <td>NaN</td>\n",
       "      <td>NaN</td>\n",
       "      <td>0.0</td>\n",
       "      <td>NaN</td>\n",
       "      <td>NaN</td>\n",
       "      <td>NaN</td>\n",
       "      <td>NaN</td>\n",
       "    </tr>\n",
       "    <tr>\n",
       "      <th>223386</th>\n",
       "      <td>CheXpert-v1.0-small/train/patient64517/study1/...</td>\n",
       "      <td>Male</td>\n",
       "      <td>21</td>\n",
       "      <td>Frontal</td>\n",
       "      <td>AP</td>\n",
       "      <td>1.0</td>\n",
       "      <td>0.0</td>\n",
       "      <td>NaN</td>\n",
       "      <td>NaN</td>\n",
       "      <td>NaN</td>\n",
       "      <td>NaN</td>\n",
       "      <td>NaN</td>\n",
       "      <td>NaN</td>\n",
       "      <td>NaN</td>\n",
       "      <td>0.0</td>\n",
       "      <td>NaN</td>\n",
       "      <td>NaN</td>\n",
       "      <td>NaN</td>\n",
       "      <td>1.0</td>\n",
       "    </tr>\n",
       "    <tr>\n",
       "      <th>223387</th>\n",
       "      <td>CheXpert-v1.0-small/train/patient64518/study1/...</td>\n",
       "      <td>Male</td>\n",
       "      <td>68</td>\n",
       "      <td>Frontal</td>\n",
       "      <td>AP</td>\n",
       "      <td>NaN</td>\n",
       "      <td>NaN</td>\n",
       "      <td>NaN</td>\n",
       "      <td>1.0</td>\n",
       "      <td>NaN</td>\n",
       "      <td>1.0</td>\n",
       "      <td>NaN</td>\n",
       "      <td>NaN</td>\n",
       "      <td>NaN</td>\n",
       "      <td>NaN</td>\n",
       "      <td>NaN</td>\n",
       "      <td>NaN</td>\n",
       "      <td>NaN</td>\n",
       "      <td>NaN</td>\n",
       "    </tr>\n",
       "    <tr>\n",
       "      <th>223388</th>\n",
       "      <td>CheXpert-v1.0-small/train/patient64519/study1/...</td>\n",
       "      <td>Female</td>\n",
       "      <td>33</td>\n",
       "      <td>Frontal</td>\n",
       "      <td>AP</td>\n",
       "      <td>1.0</td>\n",
       "      <td>NaN</td>\n",
       "      <td>NaN</td>\n",
       "      <td>NaN</td>\n",
       "      <td>NaN</td>\n",
       "      <td>NaN</td>\n",
       "      <td>0.0</td>\n",
       "      <td>NaN</td>\n",
       "      <td>NaN</td>\n",
       "      <td>NaN</td>\n",
       "      <td>0.0</td>\n",
       "      <td>NaN</td>\n",
       "      <td>NaN</td>\n",
       "      <td>1.0</td>\n",
       "    </tr>\n",
       "    <tr>\n",
       "      <th>223389</th>\n",
       "      <td>CheXpert-v1.0-small/train/patient64520/study1/...</td>\n",
       "      <td>Female</td>\n",
       "      <td>65</td>\n",
       "      <td>Frontal</td>\n",
       "      <td>AP</td>\n",
       "      <td>1.0</td>\n",
       "      <td>NaN</td>\n",
       "      <td>NaN</td>\n",
       "      <td>NaN</td>\n",
       "      <td>NaN</td>\n",
       "      <td>NaN</td>\n",
       "      <td>0.0</td>\n",
       "      <td>NaN</td>\n",
       "      <td>NaN</td>\n",
       "      <td>NaN</td>\n",
       "      <td>NaN</td>\n",
       "      <td>NaN</td>\n",
       "      <td>NaN</td>\n",
       "      <td>NaN</td>\n",
       "    </tr>\n",
       "    <tr>\n",
       "      <th>223390</th>\n",
       "      <td>CheXpert-v1.0-small/train/patient64521/study1/...</td>\n",
       "      <td>Female</td>\n",
       "      <td>63</td>\n",
       "      <td>Frontal</td>\n",
       "      <td>AP</td>\n",
       "      <td>NaN</td>\n",
       "      <td>NaN</td>\n",
       "      <td>NaN</td>\n",
       "      <td>1.0</td>\n",
       "      <td>NaN</td>\n",
       "      <td>NaN</td>\n",
       "      <td>0.0</td>\n",
       "      <td>NaN</td>\n",
       "      <td>NaN</td>\n",
       "      <td>NaN</td>\n",
       "      <td>NaN</td>\n",
       "      <td>NaN</td>\n",
       "      <td>1.0</td>\n",
       "      <td>NaN</td>\n",
       "    </tr>\n",
       "    <tr>\n",
       "      <th>223391</th>\n",
       "      <td>CheXpert-v1.0-small/train/patient64522/study1/...</td>\n",
       "      <td>Female</td>\n",
       "      <td>21</td>\n",
       "      <td>Frontal</td>\n",
       "      <td>AP</td>\n",
       "      <td>1.0</td>\n",
       "      <td>NaN</td>\n",
       "      <td>0.0</td>\n",
       "      <td>0.0</td>\n",
       "      <td>NaN</td>\n",
       "      <td>NaN</td>\n",
       "      <td>NaN</td>\n",
       "      <td>NaN</td>\n",
       "      <td>NaN</td>\n",
       "      <td>0.0</td>\n",
       "      <td>0.0</td>\n",
       "      <td>NaN</td>\n",
       "      <td>NaN</td>\n",
       "      <td>0.0</td>\n",
       "    </tr>\n",
       "    <tr>\n",
       "      <th>223392</th>\n",
       "      <td>CheXpert-v1.0-small/train/patient64523/study1/...</td>\n",
       "      <td>Female</td>\n",
       "      <td>90</td>\n",
       "      <td>Frontal</td>\n",
       "      <td>AP</td>\n",
       "      <td>NaN</td>\n",
       "      <td>NaN</td>\n",
       "      <td>NaN</td>\n",
       "      <td>0.0</td>\n",
       "      <td>NaN</td>\n",
       "      <td>0.0</td>\n",
       "      <td>-1.0</td>\n",
       "      <td>NaN</td>\n",
       "      <td>NaN</td>\n",
       "      <td>NaN</td>\n",
       "      <td>NaN</td>\n",
       "      <td>NaN</td>\n",
       "      <td>NaN</td>\n",
       "      <td>NaN</td>\n",
       "    </tr>\n",
       "    <tr>\n",
       "      <th>223393</th>\n",
       "      <td>CheXpert-v1.0-small/train/patient64524/study1/...</td>\n",
       "      <td>Female</td>\n",
       "      <td>61</td>\n",
       "      <td>Frontal</td>\n",
       "      <td>AP</td>\n",
       "      <td>NaN</td>\n",
       "      <td>NaN</td>\n",
       "      <td>NaN</td>\n",
       "      <td>NaN</td>\n",
       "      <td>NaN</td>\n",
       "      <td>NaN</td>\n",
       "      <td>NaN</td>\n",
       "      <td>NaN</td>\n",
       "      <td>1.0</td>\n",
       "      <td>0.0</td>\n",
       "      <td>NaN</td>\n",
       "      <td>NaN</td>\n",
       "      <td>NaN</td>\n",
       "      <td>1.0</td>\n",
       "    </tr>\n",
       "    <tr>\n",
       "      <th>223394</th>\n",
       "      <td>CheXpert-v1.0-small/train/patient64525/study1/...</td>\n",
       "      <td>Male</td>\n",
       "      <td>87</td>\n",
       "      <td>Frontal</td>\n",
       "      <td>AP</td>\n",
       "      <td>NaN</td>\n",
       "      <td>NaN</td>\n",
       "      <td>NaN</td>\n",
       "      <td>1.0</td>\n",
       "      <td>NaN</td>\n",
       "      <td>NaN</td>\n",
       "      <td>NaN</td>\n",
       "      <td>NaN</td>\n",
       "      <td>NaN</td>\n",
       "      <td>NaN</td>\n",
       "      <td>-1.0</td>\n",
       "      <td>NaN</td>\n",
       "      <td>NaN</td>\n",
       "      <td>NaN</td>\n",
       "    </tr>\n",
       "    <tr>\n",
       "      <th>223395</th>\n",
       "      <td>CheXpert-v1.0-small/train/patient64526/study1/...</td>\n",
       "      <td>Male</td>\n",
       "      <td>55</td>\n",
       "      <td>Frontal</td>\n",
       "      <td>AP</td>\n",
       "      <td>NaN</td>\n",
       "      <td>NaN</td>\n",
       "      <td>NaN</td>\n",
       "      <td>1.0</td>\n",
       "      <td>NaN</td>\n",
       "      <td>NaN</td>\n",
       "      <td>NaN</td>\n",
       "      <td>-1.0</td>\n",
       "      <td>-1.0</td>\n",
       "      <td>0.0</td>\n",
       "      <td>1.0</td>\n",
       "      <td>NaN</td>\n",
       "      <td>1.0</td>\n",
       "      <td>NaN</td>\n",
       "    </tr>\n",
       "    <tr>\n",
       "      <th>223396</th>\n",
       "      <td>CheXpert-v1.0-small/train/patient64527/study2/...</td>\n",
       "      <td>Male</td>\n",
       "      <td>85</td>\n",
       "      <td>Frontal</td>\n",
       "      <td>AP</td>\n",
       "      <td>NaN</td>\n",
       "      <td>NaN</td>\n",
       "      <td>1.0</td>\n",
       "      <td>NaN</td>\n",
       "      <td>NaN</td>\n",
       "      <td>1.0</td>\n",
       "      <td>NaN</td>\n",
       "      <td>NaN</td>\n",
       "      <td>NaN</td>\n",
       "      <td>NaN</td>\n",
       "      <td>1.0</td>\n",
       "      <td>NaN</td>\n",
       "      <td>NaN</td>\n",
       "      <td>1.0</td>\n",
       "    </tr>\n",
       "    <tr>\n",
       "      <th>223397</th>\n",
       "      <td>CheXpert-v1.0-small/train/patient64527/study1/...</td>\n",
       "      <td>Male</td>\n",
       "      <td>85</td>\n",
       "      <td>Frontal</td>\n",
       "      <td>AP</td>\n",
       "      <td>NaN</td>\n",
       "      <td>NaN</td>\n",
       "      <td>-1.0</td>\n",
       "      <td>NaN</td>\n",
       "      <td>NaN</td>\n",
       "      <td>1.0</td>\n",
       "      <td>NaN</td>\n",
       "      <td>NaN</td>\n",
       "      <td>1.0</td>\n",
       "      <td>NaN</td>\n",
       "      <td>1.0</td>\n",
       "      <td>NaN</td>\n",
       "      <td>NaN</td>\n",
       "      <td>1.0</td>\n",
       "    </tr>\n",
       "    <tr>\n",
       "      <th>223398</th>\n",
       "      <td>CheXpert-v1.0-small/train/patient64528/study1/...</td>\n",
       "      <td>Male</td>\n",
       "      <td>77</td>\n",
       "      <td>Frontal</td>\n",
       "      <td>AP</td>\n",
       "      <td>NaN</td>\n",
       "      <td>1.0</td>\n",
       "      <td>NaN</td>\n",
       "      <td>NaN</td>\n",
       "      <td>NaN</td>\n",
       "      <td>NaN</td>\n",
       "      <td>NaN</td>\n",
       "      <td>NaN</td>\n",
       "      <td>NaN</td>\n",
       "      <td>NaN</td>\n",
       "      <td>-1.0</td>\n",
       "      <td>NaN</td>\n",
       "      <td>NaN</td>\n",
       "      <td>NaN</td>\n",
       "    </tr>\n",
       "    <tr>\n",
       "      <th>223399</th>\n",
       "      <td>CheXpert-v1.0-small/train/patient64529/study1/...</td>\n",
       "      <td>Male</td>\n",
       "      <td>81</td>\n",
       "      <td>Frontal</td>\n",
       "      <td>AP</td>\n",
       "      <td>NaN</td>\n",
       "      <td>NaN</td>\n",
       "      <td>NaN</td>\n",
       "      <td>1.0</td>\n",
       "      <td>NaN</td>\n",
       "      <td>NaN</td>\n",
       "      <td>NaN</td>\n",
       "      <td>NaN</td>\n",
       "      <td>NaN</td>\n",
       "      <td>0.0</td>\n",
       "      <td>NaN</td>\n",
       "      <td>NaN</td>\n",
       "      <td>NaN</td>\n",
       "      <td>NaN</td>\n",
       "    </tr>\n",
       "    <tr>\n",
       "      <th>223400</th>\n",
       "      <td>CheXpert-v1.0-small/train/patient64530/study1/...</td>\n",
       "      <td>Male</td>\n",
       "      <td>65</td>\n",
       "      <td>Frontal</td>\n",
       "      <td>AP</td>\n",
       "      <td>NaN</td>\n",
       "      <td>NaN</td>\n",
       "      <td>NaN</td>\n",
       "      <td>NaN</td>\n",
       "      <td>NaN</td>\n",
       "      <td>1.0</td>\n",
       "      <td>NaN</td>\n",
       "      <td>NaN</td>\n",
       "      <td>NaN</td>\n",
       "      <td>NaN</td>\n",
       "      <td>NaN</td>\n",
       "      <td>NaN</td>\n",
       "      <td>NaN</td>\n",
       "      <td>1.0</td>\n",
       "    </tr>\n",
       "    <tr>\n",
       "      <th>223401</th>\n",
       "      <td>CheXpert-v1.0-small/train/patient64531/study1/...</td>\n",
       "      <td>Female</td>\n",
       "      <td>57</td>\n",
       "      <td>Frontal</td>\n",
       "      <td>AP</td>\n",
       "      <td>NaN</td>\n",
       "      <td>NaN</td>\n",
       "      <td>NaN</td>\n",
       "      <td>1.0</td>\n",
       "      <td>1.0</td>\n",
       "      <td>NaN</td>\n",
       "      <td>NaN</td>\n",
       "      <td>NaN</td>\n",
       "      <td>-1.0</td>\n",
       "      <td>1.0</td>\n",
       "      <td>1.0</td>\n",
       "      <td>NaN</td>\n",
       "      <td>NaN</td>\n",
       "      <td>1.0</td>\n",
       "    </tr>\n",
       "    <tr>\n",
       "      <th>223402</th>\n",
       "      <td>CheXpert-v1.0-small/train/patient64532/study1/...</td>\n",
       "      <td>Female</td>\n",
       "      <td>52</td>\n",
       "      <td>Frontal</td>\n",
       "      <td>AP</td>\n",
       "      <td>1.0</td>\n",
       "      <td>NaN</td>\n",
       "      <td>NaN</td>\n",
       "      <td>NaN</td>\n",
       "      <td>NaN</td>\n",
       "      <td>0.0</td>\n",
       "      <td>0.0</td>\n",
       "      <td>NaN</td>\n",
       "      <td>NaN</td>\n",
       "      <td>NaN</td>\n",
       "      <td>0.0</td>\n",
       "      <td>NaN</td>\n",
       "      <td>NaN</td>\n",
       "      <td>1.0</td>\n",
       "    </tr>\n",
       "    <tr>\n",
       "      <th>223403</th>\n",
       "      <td>CheXpert-v1.0-small/train/patient64533/study1/...</td>\n",
       "      <td>Male</td>\n",
       "      <td>75</td>\n",
       "      <td>Frontal</td>\n",
       "      <td>AP</td>\n",
       "      <td>NaN</td>\n",
       "      <td>NaN</td>\n",
       "      <td>1.0</td>\n",
       "      <td>NaN</td>\n",
       "      <td>NaN</td>\n",
       "      <td>1.0</td>\n",
       "      <td>NaN</td>\n",
       "      <td>NaN</td>\n",
       "      <td>NaN</td>\n",
       "      <td>NaN</td>\n",
       "      <td>1.0</td>\n",
       "      <td>NaN</td>\n",
       "      <td>NaN</td>\n",
       "      <td>1.0</td>\n",
       "    </tr>\n",
       "    <tr>\n",
       "      <th>223404</th>\n",
       "      <td>CheXpert-v1.0-small/train/patient64533/study2/...</td>\n",
       "      <td>Male</td>\n",
       "      <td>75</td>\n",
       "      <td>Frontal</td>\n",
       "      <td>AP</td>\n",
       "      <td>NaN</td>\n",
       "      <td>NaN</td>\n",
       "      <td>NaN</td>\n",
       "      <td>NaN</td>\n",
       "      <td>NaN</td>\n",
       "      <td>NaN</td>\n",
       "      <td>-1.0</td>\n",
       "      <td>NaN</td>\n",
       "      <td>-1.0</td>\n",
       "      <td>NaN</td>\n",
       "      <td>NaN</td>\n",
       "      <td>NaN</td>\n",
       "      <td>NaN</td>\n",
       "      <td>NaN</td>\n",
       "    </tr>\n",
       "    <tr>\n",
       "      <th>223405</th>\n",
       "      <td>CheXpert-v1.0-small/train/patient64534/study1/...</td>\n",
       "      <td>Male</td>\n",
       "      <td>63</td>\n",
       "      <td>Frontal</td>\n",
       "      <td>AP</td>\n",
       "      <td>NaN</td>\n",
       "      <td>NaN</td>\n",
       "      <td>NaN</td>\n",
       "      <td>1.0</td>\n",
       "      <td>NaN</td>\n",
       "      <td>NaN</td>\n",
       "      <td>NaN</td>\n",
       "      <td>NaN</td>\n",
       "      <td>-1.0</td>\n",
       "      <td>0.0</td>\n",
       "      <td>0.0</td>\n",
       "      <td>NaN</td>\n",
       "      <td>NaN</td>\n",
       "      <td>NaN</td>\n",
       "    </tr>\n",
       "    <tr>\n",
       "      <th>223406</th>\n",
       "      <td>CheXpert-v1.0-small/train/patient64535/study1/...</td>\n",
       "      <td>Male</td>\n",
       "      <td>60</td>\n",
       "      <td>Frontal</td>\n",
       "      <td>AP</td>\n",
       "      <td>NaN</td>\n",
       "      <td>NaN</td>\n",
       "      <td>NaN</td>\n",
       "      <td>1.0</td>\n",
       "      <td>NaN</td>\n",
       "      <td>NaN</td>\n",
       "      <td>-1.0</td>\n",
       "      <td>NaN</td>\n",
       "      <td>-1.0</td>\n",
       "      <td>NaN</td>\n",
       "      <td>NaN</td>\n",
       "      <td>NaN</td>\n",
       "      <td>NaN</td>\n",
       "      <td>NaN</td>\n",
       "    </tr>\n",
       "    <tr>\n",
       "      <th>223407</th>\n",
       "      <td>CheXpert-v1.0-small/train/patient64536/study2/...</td>\n",
       "      <td>Female</td>\n",
       "      <td>61</td>\n",
       "      <td>Frontal</td>\n",
       "      <td>AP</td>\n",
       "      <td>NaN</td>\n",
       "      <td>NaN</td>\n",
       "      <td>NaN</td>\n",
       "      <td>NaN</td>\n",
       "      <td>NaN</td>\n",
       "      <td>1.0</td>\n",
       "      <td>NaN</td>\n",
       "      <td>NaN</td>\n",
       "      <td>NaN</td>\n",
       "      <td>NaN</td>\n",
       "      <td>1.0</td>\n",
       "      <td>NaN</td>\n",
       "      <td>NaN</td>\n",
       "      <td>NaN</td>\n",
       "    </tr>\n",
       "    <tr>\n",
       "      <th>223408</th>\n",
       "      <td>CheXpert-v1.0-small/train/patient64536/study1/...</td>\n",
       "      <td>Female</td>\n",
       "      <td>61</td>\n",
       "      <td>Frontal</td>\n",
       "      <td>AP</td>\n",
       "      <td>NaN</td>\n",
       "      <td>NaN</td>\n",
       "      <td>NaN</td>\n",
       "      <td>NaN</td>\n",
       "      <td>NaN</td>\n",
       "      <td>1.0</td>\n",
       "      <td>NaN</td>\n",
       "      <td>NaN</td>\n",
       "      <td>1.0</td>\n",
       "      <td>NaN</td>\n",
       "      <td>NaN</td>\n",
       "      <td>NaN</td>\n",
       "      <td>NaN</td>\n",
       "      <td>1.0</td>\n",
       "    </tr>\n",
       "    <tr>\n",
       "      <th>223409</th>\n",
       "      <td>CheXpert-v1.0-small/train/patient64537/study2/...</td>\n",
       "      <td>Male</td>\n",
       "      <td>59</td>\n",
       "      <td>Frontal</td>\n",
       "      <td>AP</td>\n",
       "      <td>NaN</td>\n",
       "      <td>NaN</td>\n",
       "      <td>NaN</td>\n",
       "      <td>-1.0</td>\n",
       "      <td>NaN</td>\n",
       "      <td>NaN</td>\n",
       "      <td>NaN</td>\n",
       "      <td>NaN</td>\n",
       "      <td>-1.0</td>\n",
       "      <td>0.0</td>\n",
       "      <td>1.0</td>\n",
       "      <td>NaN</td>\n",
       "      <td>NaN</td>\n",
       "      <td>NaN</td>\n",
       "    </tr>\n",
       "    <tr>\n",
       "      <th>223410</th>\n",
       "      <td>CheXpert-v1.0-small/train/patient64537/study1/...</td>\n",
       "      <td>Male</td>\n",
       "      <td>59</td>\n",
       "      <td>Frontal</td>\n",
       "      <td>AP</td>\n",
       "      <td>NaN</td>\n",
       "      <td>NaN</td>\n",
       "      <td>NaN</td>\n",
       "      <td>-1.0</td>\n",
       "      <td>NaN</td>\n",
       "      <td>NaN</td>\n",
       "      <td>NaN</td>\n",
       "      <td>0.0</td>\n",
       "      <td>-1.0</td>\n",
       "      <td>NaN</td>\n",
       "      <td>-1.0</td>\n",
       "      <td>NaN</td>\n",
       "      <td>NaN</td>\n",
       "      <td>NaN</td>\n",
       "    </tr>\n",
       "    <tr>\n",
       "      <th>223411</th>\n",
       "      <td>CheXpert-v1.0-small/train/patient64538/study1/...</td>\n",
       "      <td>Female</td>\n",
       "      <td>0</td>\n",
       "      <td>Frontal</td>\n",
       "      <td>AP</td>\n",
       "      <td>NaN</td>\n",
       "      <td>NaN</td>\n",
       "      <td>NaN</td>\n",
       "      <td>NaN</td>\n",
       "      <td>NaN</td>\n",
       "      <td>-1.0</td>\n",
       "      <td>NaN</td>\n",
       "      <td>NaN</td>\n",
       "      <td>NaN</td>\n",
       "      <td>NaN</td>\n",
       "      <td>NaN</td>\n",
       "      <td>NaN</td>\n",
       "      <td>NaN</td>\n",
       "      <td>NaN</td>\n",
       "    </tr>\n",
       "    <tr>\n",
       "      <th>223412</th>\n",
       "      <td>CheXpert-v1.0-small/train/patient64539/study1/...</td>\n",
       "      <td>Female</td>\n",
       "      <td>0</td>\n",
       "      <td>Frontal</td>\n",
       "      <td>AP</td>\n",
       "      <td>NaN</td>\n",
       "      <td>NaN</td>\n",
       "      <td>1.0</td>\n",
       "      <td>1.0</td>\n",
       "      <td>NaN</td>\n",
       "      <td>NaN</td>\n",
       "      <td>NaN</td>\n",
       "      <td>-1.0</td>\n",
       "      <td>1.0</td>\n",
       "      <td>0.0</td>\n",
       "      <td>NaN</td>\n",
       "      <td>NaN</td>\n",
       "      <td>NaN</td>\n",
       "      <td>0.0</td>\n",
       "    </tr>\n",
       "    <tr>\n",
       "      <th>223413</th>\n",
       "      <td>CheXpert-v1.0-small/train/patient64540/study1/...</td>\n",
       "      <td>Female</td>\n",
       "      <td>0</td>\n",
       "      <td>Frontal</td>\n",
       "      <td>AP</td>\n",
       "      <td>1.0</td>\n",
       "      <td>NaN</td>\n",
       "      <td>NaN</td>\n",
       "      <td>NaN</td>\n",
       "      <td>NaN</td>\n",
       "      <td>NaN</td>\n",
       "      <td>NaN</td>\n",
       "      <td>NaN</td>\n",
       "      <td>NaN</td>\n",
       "      <td>0.0</td>\n",
       "      <td>NaN</td>\n",
       "      <td>NaN</td>\n",
       "      <td>NaN</td>\n",
       "      <td>NaN</td>\n",
       "    </tr>\n",
       "  </tbody>\n",
       "</table>\n",
       "<p>223414 rows × 19 columns</p>\n",
       "</div>"
      ],
      "text/plain": [
       "                                                     Path     Sex  Age  \\\n",
       "0       CheXpert-v1.0-small/train/patient00001/study1/...  Female   68   \n",
       "1       CheXpert-v1.0-small/train/patient00002/study2/...  Female   87   \n",
       "2       CheXpert-v1.0-small/train/patient00002/study1/...  Female   83   \n",
       "3       CheXpert-v1.0-small/train/patient00002/study1/...  Female   83   \n",
       "4       CheXpert-v1.0-small/train/patient00003/study1/...    Male   41   \n",
       "5       CheXpert-v1.0-small/train/patient00004/study1/...  Female   20   \n",
       "6       CheXpert-v1.0-small/train/patient00004/study1/...  Female   20   \n",
       "7       CheXpert-v1.0-small/train/patient00005/study1/...    Male   33   \n",
       "8       CheXpert-v1.0-small/train/patient00005/study1/...    Male   33   \n",
       "9       CheXpert-v1.0-small/train/patient00005/study2/...    Male   33   \n",
       "10      CheXpert-v1.0-small/train/patient00005/study2/...    Male   33   \n",
       "11      CheXpert-v1.0-small/train/patient00006/study1/...  Female   42   \n",
       "12      CheXpert-v1.0-small/train/patient00007/study1/...    Male   69   \n",
       "13      CheXpert-v1.0-small/train/patient00007/study2/...    Male   69   \n",
       "14      CheXpert-v1.0-small/train/patient00008/study1/...    Male   81   \n",
       "15      CheXpert-v1.0-small/train/patient00008/study2/...    Male   81   \n",
       "16      CheXpert-v1.0-small/train/patient00009/study1/...    Male   76   \n",
       "17      CheXpert-v1.0-small/train/patient00009/study1/...    Male   76   \n",
       "18      CheXpert-v1.0-small/train/patient00010/study1/...  Female   50   \n",
       "19      CheXpert-v1.0-small/train/patient00010/study1/...  Female   50   \n",
       "20      CheXpert-v1.0-small/train/patient00011/study13...  Female   22   \n",
       "21      CheXpert-v1.0-small/train/patient00011/study13...  Female   22   \n",
       "22      CheXpert-v1.0-small/train/patient00011/study1/...  Female   19   \n",
       "23      CheXpert-v1.0-small/train/patient00011/study5/...  Female   19   \n",
       "24      CheXpert-v1.0-small/train/patient00011/study7/...  Female   19   \n",
       "25      CheXpert-v1.0-small/train/patient00011/study4/...  Female   19   \n",
       "26      CheXpert-v1.0-small/train/patient00011/study2/...  Female   19   \n",
       "27      CheXpert-v1.0-small/train/patient00011/study10...  Female   19   \n",
       "28      CheXpert-v1.0-small/train/patient00011/study9/...  Female   19   \n",
       "29      CheXpert-v1.0-small/train/patient00011/study11...  Female   19   \n",
       "...                                                   ...     ...  ...   \n",
       "223384  CheXpert-v1.0-small/train/patient64515/study1/...    Male   25   \n",
       "223385  CheXpert-v1.0-small/train/patient64516/study1/...  Female   75   \n",
       "223386  CheXpert-v1.0-small/train/patient64517/study1/...    Male   21   \n",
       "223387  CheXpert-v1.0-small/train/patient64518/study1/...    Male   68   \n",
       "223388  CheXpert-v1.0-small/train/patient64519/study1/...  Female   33   \n",
       "223389  CheXpert-v1.0-small/train/patient64520/study1/...  Female   65   \n",
       "223390  CheXpert-v1.0-small/train/patient64521/study1/...  Female   63   \n",
       "223391  CheXpert-v1.0-small/train/patient64522/study1/...  Female   21   \n",
       "223392  CheXpert-v1.0-small/train/patient64523/study1/...  Female   90   \n",
       "223393  CheXpert-v1.0-small/train/patient64524/study1/...  Female   61   \n",
       "223394  CheXpert-v1.0-small/train/patient64525/study1/...    Male   87   \n",
       "223395  CheXpert-v1.0-small/train/patient64526/study1/...    Male   55   \n",
       "223396  CheXpert-v1.0-small/train/patient64527/study2/...    Male   85   \n",
       "223397  CheXpert-v1.0-small/train/patient64527/study1/...    Male   85   \n",
       "223398  CheXpert-v1.0-small/train/patient64528/study1/...    Male   77   \n",
       "223399  CheXpert-v1.0-small/train/patient64529/study1/...    Male   81   \n",
       "223400  CheXpert-v1.0-small/train/patient64530/study1/...    Male   65   \n",
       "223401  CheXpert-v1.0-small/train/patient64531/study1/...  Female   57   \n",
       "223402  CheXpert-v1.0-small/train/patient64532/study1/...  Female   52   \n",
       "223403  CheXpert-v1.0-small/train/patient64533/study1/...    Male   75   \n",
       "223404  CheXpert-v1.0-small/train/patient64533/study2/...    Male   75   \n",
       "223405  CheXpert-v1.0-small/train/patient64534/study1/...    Male   63   \n",
       "223406  CheXpert-v1.0-small/train/patient64535/study1/...    Male   60   \n",
       "223407  CheXpert-v1.0-small/train/patient64536/study2/...  Female   61   \n",
       "223408  CheXpert-v1.0-small/train/patient64536/study1/...  Female   61   \n",
       "223409  CheXpert-v1.0-small/train/patient64537/study2/...    Male   59   \n",
       "223410  CheXpert-v1.0-small/train/patient64537/study1/...    Male   59   \n",
       "223411  CheXpert-v1.0-small/train/patient64538/study1/...  Female    0   \n",
       "223412  CheXpert-v1.0-small/train/patient64539/study1/...  Female    0   \n",
       "223413  CheXpert-v1.0-small/train/patient64540/study1/...  Female    0   \n",
       "\n",
       "       Frontal/Lateral AP/PA  No Finding  Enlarged Cardiomediastinum  \\\n",
       "0              Frontal    AP         1.0                         NaN   \n",
       "1              Frontal    AP         NaN                         NaN   \n",
       "2              Frontal    AP         NaN                         NaN   \n",
       "3              Lateral   NaN         NaN                         NaN   \n",
       "4              Frontal    AP         NaN                         NaN   \n",
       "5              Frontal    PA         1.0                         0.0   \n",
       "6              Lateral   NaN         1.0                         0.0   \n",
       "7              Frontal    PA         1.0                         NaN   \n",
       "8              Lateral   NaN         1.0                         NaN   \n",
       "9              Frontal    AP         NaN                         NaN   \n",
       "10             Frontal    AP         NaN                         NaN   \n",
       "11             Frontal    AP         1.0                         0.0   \n",
       "12             Frontal    AP         NaN                         NaN   \n",
       "13             Frontal    AP         NaN                         1.0   \n",
       "14             Frontal    AP         NaN                         NaN   \n",
       "15             Frontal    AP         NaN                         NaN   \n",
       "16             Frontal    PA         NaN                         NaN   \n",
       "17             Lateral   NaN         NaN                         NaN   \n",
       "18             Frontal    PA         1.0                         0.0   \n",
       "19             Lateral   NaN         1.0                         0.0   \n",
       "20             Frontal    PA         NaN                         0.0   \n",
       "21             Lateral   NaN         NaN                         0.0   \n",
       "22             Frontal    AP         NaN                         NaN   \n",
       "23             Frontal    AP         NaN                         NaN   \n",
       "24             Frontal    AP         NaN                         NaN   \n",
       "25             Frontal    AP         NaN                         NaN   \n",
       "26             Frontal    AP         NaN                         NaN   \n",
       "27             Frontal    AP         NaN                         NaN   \n",
       "28             Frontal    AP         NaN                         1.0   \n",
       "29             Frontal    AP         NaN                         NaN   \n",
       "...                ...   ...         ...                         ...   \n",
       "223384         Frontal    AP         1.0                         NaN   \n",
       "223385         Frontal    AP         1.0                         NaN   \n",
       "223386         Frontal    AP         1.0                         0.0   \n",
       "223387         Frontal    AP         NaN                         NaN   \n",
       "223388         Frontal    AP         1.0                         NaN   \n",
       "223389         Frontal    AP         1.0                         NaN   \n",
       "223390         Frontal    AP         NaN                         NaN   \n",
       "223391         Frontal    AP         1.0                         NaN   \n",
       "223392         Frontal    AP         NaN                         NaN   \n",
       "223393         Frontal    AP         NaN                         NaN   \n",
       "223394         Frontal    AP         NaN                         NaN   \n",
       "223395         Frontal    AP         NaN                         NaN   \n",
       "223396         Frontal    AP         NaN                         NaN   \n",
       "223397         Frontal    AP         NaN                         NaN   \n",
       "223398         Frontal    AP         NaN                         1.0   \n",
       "223399         Frontal    AP         NaN                         NaN   \n",
       "223400         Frontal    AP         NaN                         NaN   \n",
       "223401         Frontal    AP         NaN                         NaN   \n",
       "223402         Frontal    AP         1.0                         NaN   \n",
       "223403         Frontal    AP         NaN                         NaN   \n",
       "223404         Frontal    AP         NaN                         NaN   \n",
       "223405         Frontal    AP         NaN                         NaN   \n",
       "223406         Frontal    AP         NaN                         NaN   \n",
       "223407         Frontal    AP         NaN                         NaN   \n",
       "223408         Frontal    AP         NaN                         NaN   \n",
       "223409         Frontal    AP         NaN                         NaN   \n",
       "223410         Frontal    AP         NaN                         NaN   \n",
       "223411         Frontal    AP         NaN                         NaN   \n",
       "223412         Frontal    AP         NaN                         NaN   \n",
       "223413         Frontal    AP         1.0                         NaN   \n",
       "\n",
       "        Cardiomegaly  Lung Opacity  Lung Lesion  Edema  Consolidation  \\\n",
       "0                NaN           NaN          NaN    NaN            NaN   \n",
       "1               -1.0           1.0          NaN   -1.0           -1.0   \n",
       "2                NaN           1.0          NaN    NaN           -1.0   \n",
       "3                NaN           1.0          NaN    NaN           -1.0   \n",
       "4                NaN           NaN          NaN    1.0            NaN   \n",
       "5                NaN           NaN          NaN    NaN            0.0   \n",
       "6                NaN           NaN          NaN    NaN            0.0   \n",
       "7                0.0           NaN          NaN    NaN            0.0   \n",
       "8                0.0           NaN          NaN    NaN            0.0   \n",
       "9                NaN           NaN          NaN    NaN            NaN   \n",
       "10               NaN           NaN          NaN    NaN            NaN   \n",
       "11               NaN           NaN          NaN    NaN            NaN   \n",
       "12               1.0           1.0          NaN    NaN            NaN   \n",
       "13               NaN           1.0          NaN    NaN            NaN   \n",
       "14               NaN           1.0          NaN    NaN            NaN   \n",
       "15               NaN           1.0          NaN    NaN            NaN   \n",
       "16               1.0           NaN          NaN    0.0            NaN   \n",
       "17               1.0           NaN          NaN    0.0            NaN   \n",
       "18               NaN           0.0          NaN    NaN            NaN   \n",
       "19               NaN           0.0          NaN    NaN            NaN   \n",
       "20               NaN           NaN          NaN    NaN            0.0   \n",
       "21               NaN           NaN          NaN    NaN            0.0   \n",
       "22               NaN           1.0          NaN    NaN           -1.0   \n",
       "23               NaN           1.0          NaN    NaN            NaN   \n",
       "24               NaN           1.0          NaN    0.0            NaN   \n",
       "25               NaN           1.0          NaN    NaN            NaN   \n",
       "26               NaN           1.0          NaN    NaN            1.0   \n",
       "27               NaN           1.0          NaN    1.0            NaN   \n",
       "28               NaN          -1.0          NaN    NaN            NaN   \n",
       "29               NaN           1.0          NaN    1.0            NaN   \n",
       "...              ...           ...          ...    ...            ...   \n",
       "223384           NaN           NaN          NaN    NaN            NaN   \n",
       "223385           NaN           NaN          NaN    NaN            NaN   \n",
       "223386           NaN           NaN          NaN    NaN            NaN   \n",
       "223387           NaN           1.0          NaN    1.0            NaN   \n",
       "223388           NaN           NaN          NaN    NaN            0.0   \n",
       "223389           NaN           NaN          NaN    NaN            0.0   \n",
       "223390           NaN           1.0          NaN    NaN            0.0   \n",
       "223391           0.0           0.0          NaN    NaN            NaN   \n",
       "223392           NaN           0.0          NaN    0.0           -1.0   \n",
       "223393           NaN           NaN          NaN    NaN            NaN   \n",
       "223394           NaN           1.0          NaN    NaN            NaN   \n",
       "223395           NaN           1.0          NaN    NaN            NaN   \n",
       "223396           1.0           NaN          NaN    1.0            NaN   \n",
       "223397          -1.0           NaN          NaN    1.0            NaN   \n",
       "223398           NaN           NaN          NaN    NaN            NaN   \n",
       "223399           NaN           1.0          NaN    NaN            NaN   \n",
       "223400           NaN           NaN          NaN    1.0            NaN   \n",
       "223401           NaN           1.0          1.0    NaN            NaN   \n",
       "223402           NaN           NaN          NaN    0.0            0.0   \n",
       "223403           1.0           NaN          NaN    1.0            NaN   \n",
       "223404           NaN           NaN          NaN    NaN           -1.0   \n",
       "223405           NaN           1.0          NaN    NaN            NaN   \n",
       "223406           NaN           1.0          NaN    NaN           -1.0   \n",
       "223407           NaN           NaN          NaN    1.0            NaN   \n",
       "223408           NaN           NaN          NaN    1.0            NaN   \n",
       "223409           NaN          -1.0          NaN    NaN            NaN   \n",
       "223410           NaN          -1.0          NaN    NaN            NaN   \n",
       "223411           NaN           NaN          NaN   -1.0            NaN   \n",
       "223412           1.0           1.0          NaN    NaN            NaN   \n",
       "223413           NaN           NaN          NaN    NaN            NaN   \n",
       "\n",
       "        Pneumonia  Atelectasis  Pneumothorax  Pleural Effusion  Pleural Other  \\\n",
       "0             NaN          NaN           0.0               NaN            NaN   \n",
       "1             NaN         -1.0           NaN              -1.0            NaN   \n",
       "2             NaN          NaN           NaN               NaN            NaN   \n",
       "3             NaN          NaN           NaN               NaN            NaN   \n",
       "4             NaN          NaN           0.0               NaN            NaN   \n",
       "5             NaN          NaN           NaN               0.0            NaN   \n",
       "6             NaN          NaN           NaN               0.0            NaN   \n",
       "7             NaN          NaN           NaN               0.0            NaN   \n",
       "8             NaN          NaN           NaN               0.0            NaN   \n",
       "9             NaN          NaN           1.0               NaN            NaN   \n",
       "10            NaN          NaN           1.0               NaN            NaN   \n",
       "11            NaN          NaN           NaN               0.0            NaN   \n",
       "12            NaN          1.0           1.0               0.0            NaN   \n",
       "13            NaN          1.0           0.0               0.0            NaN   \n",
       "14            NaN          NaN           NaN               1.0            NaN   \n",
       "15            NaN          NaN           0.0               1.0            NaN   \n",
       "16            NaN          1.0           NaN               NaN            NaN   \n",
       "17            NaN          1.0           NaN               NaN            NaN   \n",
       "18            NaN          NaN           NaN               0.0            NaN   \n",
       "19            NaN          NaN           NaN               0.0            NaN   \n",
       "20            NaN          0.0           0.0               0.0            NaN   \n",
       "21            NaN          0.0           0.0               0.0            NaN   \n",
       "22            NaN          NaN          -1.0              -1.0            NaN   \n",
       "23            NaN          NaN           1.0               NaN            NaN   \n",
       "24            NaN          NaN           NaN               NaN            NaN   \n",
       "25            NaN         -1.0           1.0              -1.0            NaN   \n",
       "26            NaN          NaN           NaN               1.0            NaN   \n",
       "27            NaN          NaN           NaN               1.0            NaN   \n",
       "28            NaN          NaN           NaN               1.0            NaN   \n",
       "29            NaN          NaN           NaN               1.0            NaN   \n",
       "...           ...          ...           ...               ...            ...   \n",
       "223384        NaN          NaN           0.0               NaN            NaN   \n",
       "223385        NaN          NaN           0.0               NaN            NaN   \n",
       "223386        NaN          NaN           0.0               NaN            NaN   \n",
       "223387        NaN          NaN           NaN               NaN            NaN   \n",
       "223388        NaN          NaN           NaN               0.0            NaN   \n",
       "223389        NaN          NaN           NaN               NaN            NaN   \n",
       "223390        NaN          NaN           NaN               NaN            NaN   \n",
       "223391        NaN          NaN           0.0               0.0            NaN   \n",
       "223392        NaN          NaN           NaN               NaN            NaN   \n",
       "223393        NaN          1.0           0.0               NaN            NaN   \n",
       "223394        NaN          NaN           NaN              -1.0            NaN   \n",
       "223395       -1.0         -1.0           0.0               1.0            NaN   \n",
       "223396        NaN          NaN           NaN               1.0            NaN   \n",
       "223397        NaN          1.0           NaN               1.0            NaN   \n",
       "223398        NaN          NaN           NaN              -1.0            NaN   \n",
       "223399        NaN          NaN           0.0               NaN            NaN   \n",
       "223400        NaN          NaN           NaN               NaN            NaN   \n",
       "223401        NaN         -1.0           1.0               1.0            NaN   \n",
       "223402        NaN          NaN           NaN               0.0            NaN   \n",
       "223403        NaN          NaN           NaN               1.0            NaN   \n",
       "223404        NaN         -1.0           NaN               NaN            NaN   \n",
       "223405        NaN         -1.0           0.0               0.0            NaN   \n",
       "223406        NaN         -1.0           NaN               NaN            NaN   \n",
       "223407        NaN          NaN           NaN               1.0            NaN   \n",
       "223408        NaN          1.0           NaN               NaN            NaN   \n",
       "223409        NaN         -1.0           0.0               1.0            NaN   \n",
       "223410        0.0         -1.0           NaN              -1.0            NaN   \n",
       "223411        NaN          NaN           NaN               NaN            NaN   \n",
       "223412       -1.0          1.0           0.0               NaN            NaN   \n",
       "223413        NaN          NaN           0.0               NaN            NaN   \n",
       "\n",
       "        Fracture  Support Devices  \n",
       "0            NaN              1.0  \n",
       "1            1.0              NaN  \n",
       "2            1.0              NaN  \n",
       "3            1.0              NaN  \n",
       "4            NaN              NaN  \n",
       "5            NaN              NaN  \n",
       "6            NaN              NaN  \n",
       "7            NaN              1.0  \n",
       "8            NaN              1.0  \n",
       "9            NaN              NaN  \n",
       "10           NaN              NaN  \n",
       "11           NaN              NaN  \n",
       "12           0.0              1.0  \n",
       "13           0.0              1.0  \n",
       "14           NaN              1.0  \n",
       "15           NaN              1.0  \n",
       "16           NaN              NaN  \n",
       "17           NaN              NaN  \n",
       "18           NaN              NaN  \n",
       "19           NaN              NaN  \n",
       "20           NaN              NaN  \n",
       "21           NaN              NaN  \n",
       "22           NaN              1.0  \n",
       "23           NaN              NaN  \n",
       "24           NaN              1.0  \n",
       "25           NaN              1.0  \n",
       "26           NaN              1.0  \n",
       "27           NaN              1.0  \n",
       "28           NaN              1.0  \n",
       "29           NaN              1.0  \n",
       "...          ...              ...  \n",
       "223384       NaN              NaN  \n",
       "223385       NaN              NaN  \n",
       "223386       NaN              1.0  \n",
       "223387       NaN              NaN  \n",
       "223388       NaN              1.0  \n",
       "223389       NaN              NaN  \n",
       "223390       1.0              NaN  \n",
       "223391       NaN              0.0  \n",
       "223392       NaN              NaN  \n",
       "223393       NaN              1.0  \n",
       "223394       NaN              NaN  \n",
       "223395       1.0              NaN  \n",
       "223396       NaN              1.0  \n",
       "223397       NaN              1.0  \n",
       "223398       NaN              NaN  \n",
       "223399       NaN              NaN  \n",
       "223400       NaN              1.0  \n",
       "223401       NaN              1.0  \n",
       "223402       NaN              1.0  \n",
       "223403       NaN              1.0  \n",
       "223404       NaN              NaN  \n",
       "223405       NaN              NaN  \n",
       "223406       NaN              NaN  \n",
       "223407       NaN              NaN  \n",
       "223408       NaN              1.0  \n",
       "223409       NaN              NaN  \n",
       "223410       NaN              NaN  \n",
       "223411       NaN              NaN  \n",
       "223412       NaN              0.0  \n",
       "223413       NaN              NaN  \n",
       "\n",
       "[223414 rows x 19 columns]"
      ]
     },
     "execution_count": 17,
     "metadata": {},
     "output_type": "execute_result"
    }
   ],
   "source": [
    "metadata"
   ]
  },
  {
   "cell_type": "code",
   "execution_count": 19,
   "metadata": {
    "nbpresent": {
     "id": "64a16645-a43a-443a-ab70-58fce094ba76"
    }
   },
   "outputs": [],
   "source": [
    "img_path = os.path.join(os.getcwd(), metadata['Path'][0])"
   ]
  },
  {
   "cell_type": "code",
   "execution_count": 20,
   "metadata": {
    "nbpresent": {
     "id": "509158d6-4287-4dfb-9543-7b2354270075"
    }
   },
   "outputs": [
    {
     "data": {
      "text/plain": [
       "'/Users/abkds/thesis/chexpert/CheXpert-v1.0-small/train/patient00001/study1/view1_frontal.jpg'"
      ]
     },
     "execution_count": 20,
     "metadata": {},
     "output_type": "execute_result"
    }
   ],
   "source": [
    "img_path"
   ]
  },
  {
   "cell_type": "code",
   "execution_count": 82,
   "metadata": {},
   "outputs": [],
   "source": [
    "import torch\n",
    "import pandas as pd\n",
    "import os\n",
    "from torch.utils.data import Dataset\n",
    "from skimage import io, transform\n",
    "from torchvision.transforms import ToPILImage, Compose, Resize, ToTensor\n",
    "\n",
    "\n",
    "class ChexpertDataet(Dataset):\n",
    "    \"\"\" Chexpert dataset \"\"\"\n",
    "    def __init__(self, csv_file, column_name):\n",
    "        \"\"\"\n",
    "        Args:\n",
    "            csv_file (string): File containing paths and labels\n",
    "            column_name (string): Treat this column as labels\n",
    "        \"\"\"\n",
    "        self.meta_data = pd.read_csv(csv_file)\n",
    "        self.paths = self.meta_data['Path']\n",
    "        self.labels = self.meta_data[column_name]\n",
    "        self.transform = Compose([ToPILImage(), Resize((320, 320)), ToTensor()])\n",
    "\n",
    "    def __len__(self):\n",
    "        'Denotes the total number of samples'\n",
    "        return len(self.meta_data)\n",
    "\n",
    "    def __getitem__(self, index):\n",
    "        'Generates one sample of data'\n",
    "        # Select sample\n",
    "        data_path = os.path.join(os.getcwd(), 'data', self.paths[index])\n",
    "\n",
    "        # Load data and get label\n",
    "        X = io.imread(data_path)\n",
    "        y = self.labels[index]\n",
    "\n",
    "        return self.transform(X), y\n"
   ]
  },
  {
   "cell_type": "code",
   "execution_count": 83,
   "metadata": {},
   "outputs": [],
   "source": [
    "csv_file = os.path.join(os.getcwd(), 'data/CheXpert-v1.0-small/train.csv')\n",
    "dataset = ChexpertDataet(csv_file=csv_file, column_name='Cardiomegaly')"
   ]
  },
  {
   "cell_type": "code",
   "execution_count": 84,
   "metadata": {},
   "outputs": [],
   "source": [
    "import matplotlib.pyplot as plt"
   ]
  },
  {
   "cell_type": "code",
   "execution_count": 87,
   "metadata": {},
   "outputs": [],
   "source": [
    "tensor = dataset[0][0]"
   ]
  },
  {
   "cell_type": "code",
   "execution_count": 22,
   "metadata": {},
   "outputs": [],
   "source": [
    "from torchvision.transforms import Resize, ToPILImage, Compose"
   ]
  },
  {
   "cell_type": "code",
   "execution_count": 96,
   "metadata": {},
   "outputs": [],
   "source": [
    "ans = tensor.numpy()"
   ]
  },
  {
   "cell_type": "code",
   "execution_count": 103,
   "metadata": {},
   "outputs": [
    {
     "data": {
      "text/plain": [
       "<matplotlib.image.AxesImage at 0x1c2ba0b7b8>"
      ]
     },
     "execution_count": 103,
     "metadata": {},
     "output_type": "execute_result"
    },
    {
     "data": {
      "image/png": "[encoded data removed]",
      "text/plain": [
       "<Figure size 432x288 with 1 Axes>"
      ]
     },
     "metadata": {
      "needs_background": "light"
     },
     "output_type": "display_data"
    }
   ],
   "source": [
    "plt.imshow(ans, cmap='gray')"
   ]
  },
  {
   "cell_type": "code",
   "execution_count": 42,
   "metadata": {},
   "outputs": [],
   "source": [
    "trnsfrm = Compose([\n",
    "    ToPILImage(),\n",
    "    Resize(320, 320)\n",
    "])"
   ]
  },
  {
   "cell_type": "code",
   "execution_count": 54,
   "metadata": {},
   "outputs": [],
   "source": [
    "new_img = trnsfrm(dataset[0][0])"
   ]
  },
  {
   "cell_type": "code",
   "execution_count": 77,
   "metadata": {},
   "outputs": [
    {
     "data": {
      "image/png": "[encoded data removed]",
      "text/plain": [
       "<PIL.Image.Image image mode=L size=300x300 at 0x1C21379B00>"
      ]
     },
     "execution_count": 77,
     "metadata": {},
     "output_type": "execute_result"
    }
   ],
   "source": [
    "Resize((300, 300))(ToPILImage()(dataset[0][0]))"
   ]
  },
  {
   "cell_type": "code",
   "execution_count": 63,
   "metadata": {},
   "outputs": [
    {
     "data": {
      "text/plain": [
       "<matplotlib.image.AxesImage at 0x1c2136e080>"
      ]
     },
     "execution_count": 63,
     "metadata": {},
     "output_type": "execute_result"
    },
    {
     "data": {
      "image/png": "[encoded data removed]",
      "text/plain": [
       "<Figure size 432x288 with 1 Axes>"
      ]
     },
     "metadata": {
      "needs_background": "light"
     },
     "output_type": "display_data"
    }
   ],
   "source": [
    "plt.imshow(image.resize((320, 320)), cmap='gray')"
   ]
  },
  {
   "cell_type": "code",
   "execution_count": 104,
   "metadata": {},
   "outputs": [],
   "source": [
    "import numpy as np\n",
    "from torch.utils.data import DataLoader\n",
    "from torch.utils.data.dataloader import default_collate\n",
    "from torch.utils.data.sampler import SubsetRandomSampler\n",
    "\n",
    "\n",
    "class BaseDataLoader(DataLoader):\n",
    "    \"\"\"\n",
    "    Base class for all data loaders\n",
    "    \"\"\"\n",
    "    def __init__(self, dataset, batch_size, shuffle, validation_split, num_workers, collate_fn=default_collate):\n",
    "        self.validation_split = validation_split\n",
    "        self.shuffle = shuffle\n",
    "\n",
    "        self.batch_idx = 0\n",
    "        self.n_samples = len(dataset)\n",
    "\n",
    "        self.sampler, self.valid_sampler = self._split_sampler(self.validation_split)\n",
    "\n",
    "        self.init_kwargs = {\n",
    "            'dataset': dataset,\n",
    "            'batch_size': batch_size,\n",
    "            'shuffle': self.shuffle,\n",
    "            'collate_fn': collate_fn,\n",
    "            'num_workers': num_workers\n",
    "        }\n",
    "        super(BaseDataLoader, self).__init__(sampler=self.sampler, **self.init_kwargs)\n",
    "\n",
    "    def _split_sampler(self, split):\n",
    "        if split == 0.0:\n",
    "            return None, None\n",
    "\n",
    "        idx_full = np.arange(self.n_samples)\n",
    "\n",
    "        np.random.seed(0)\n",
    "        np.random.shuffle(idx_full)\n",
    "\n",
    "        if isinstance(split, int):\n",
    "            assert split > 0\n",
    "            assert split < self.n_samples, \"validation set size is configured to be larger than entire dataset.\"\n",
    "            len_valid = split\n",
    "        else:\n",
    "            len_valid = int(self.n_samples * split)\n",
    "\n",
    "        valid_idx = idx_full[0:len_valid]\n",
    "        train_idx = np.delete(idx_full, np.arange(0, len_valid))\n",
    "\n",
    "        train_sampler = SubsetRandomSampler(train_idx)\n",
    "        valid_sampler = SubsetRandomSampler(valid_idx)\n",
    "\n",
    "        # turn off shuffle option which is mutually exclusive with sampler\n",
    "        self.shuffle = False\n",
    "        self.n_samples = len(train_idx)\n",
    "\n",
    "        return train_sampler, valid_sampler\n",
    "\n",
    "    def split_validation(self):\n",
    "        if self.valid_sampler is None:\n",
    "            return None\n",
    "        else:\n",
    "            return DataLoader(sampler=self.valid_sampler, **self.init_kwargs)\n"
   ]
  },
  {
   "cell_type": "code",
   "execution_count": 105,
   "metadata": {},
   "outputs": [],
   "source": [
    "from torchvision import datasets, transforms\n",
    "class MnistDataLoader(BaseDataLoader):\n",
    "    \"\"\"\n",
    "    MNIST data loading demo using BaseDataLoader\n",
    "    \"\"\"\n",
    "    def __init__(self, data_dir, batch_size, shuffle=True, validation_split=0.0, num_workers=1, training=True):\n",
    "        trsfm = transforms.Compose([\n",
    "            transforms.ToTensor(),\n",
    "            transforms.Normalize((0.1307,), (0.3081,))\n",
    "        ])\n",
    "        self.data_dir = data_dir\n",
    "        self.dataset = datasets.MNIST(self.data_dir, train=training, download=True, transform=trsfm)\n",
    "        super(MnistDataLoader, self).__init__(self.dataset, batch_size, shuffle, validation_split, num_workers)"
   ]
  },
  {
   "cell_type": "code",
   "execution_count": 106,
   "metadata": {},
   "outputs": [],
   "source": [
    "data_loader = MnistDataLoader(\"data/\",128, True,0.1,2)"
   ]
  },
  {
   "cell_type": "code",
   "execution_count": 108,
   "metadata": {},
   "outputs": [
    {
     "name": "stdout",
     "output_type": "stream",
     "text": [
      "0\n",
      "torch.Size([128, 1, 28, 28])\n",
      "torch.Size([128])\n",
      "--------------------\n",
      "1\n",
      "torch.Size([128, 1, 28, 28])\n",
      "torch.Size([128])\n",
      "--------------------\n",
      "2\n",
      "torch.Size([128, 1, 28, 28])\n",
      "torch.Size([128])\n",
      "--------------------\n",
      "3\n",
      "torch.Size([128, 1, 28, 28])\n",
      "torch.Size([128])\n",
      "--------------------\n"
     ]
    }
   ],
   "source": [
    "i = 0\n",
    "\n",
    "for batch_idx, (data, target) in enumerate(data_loader):\n",
    "    print(batch_idx)\n",
    "    print(data.shape)\n",
    "    print(target.shape)\n",
    "    print('--------------------')\n",
    "    i+=1\n",
    "    if i == 4:\n",
    "        break"
   ]
  },
  {
   "cell_type": "code",
   "execution_count": 112,
   "metadata": {},
   "outputs": [],
   "source": [
    "class ChexpertDataLoader(BaseDataLoader):\n",
    "    \"\"\"\n",
    "    CheXpert data loader\n",
    "    \"\"\"\n",
    "    def __init__(self, data_dir, batch_size, column_name, shuffle=True, validation_split=0.0, num_workers=1, training=True):\n",
    "        self.data_dir = data_dir\n",
    "        self.dataset = ChexpertDataet(data_dir, column_name)\n",
    "        super(ChexpertDataLoader, self).__init__(self.dataset, batch_size, shuffle, validation_split, num_workers)"
   ]
  },
  {
   "cell_type": "code",
   "execution_count": 115,
   "metadata": {},
   "outputs": [],
   "source": [
    "data_loader = ChexpertDataLoader(csv_file, 1, \"Cardiomegaly\", True,0.1, 2)"
   ]
  },
  {
   "cell_type": "code",
   "execution_count": 122,
   "metadata": {},
   "outputs": [
    {
     "name": "stdout",
     "output_type": "stream",
     "text": [
      "0\n",
      "torch.Size([1, 1, 320, 320])\n",
      "torch.Size([1])\n",
      "torch.Size([320, 320])\n",
      "--------------------\n",
      "1\n",
      "torch.Size([1, 1, 320, 320])\n",
      "torch.Size([1])\n",
      "torch.Size([320, 320])\n",
      "--------------------\n",
      "2\n",
      "torch.Size([1, 1, 320, 320])\n",
      "torch.Size([1])\n",
      "torch.Size([320, 320])\n",
      "--------------------\n",
      "3\n",
      "torch.Size([1, 1, 320, 320])\n",
      "torch.Size([1])\n",
      "torch.Size([320, 320])\n",
      "--------------------\n"
     ]
    },
    {
     "data": {
      "image/png": "[encoded data removed]",
      "text/plain": [
       "<Figure size 432x288 with 1 Axes>"
      ]
     },
     "metadata": {
      "needs_background": "light"
     },
     "output_type": "display_data"
    }
   ],
   "source": [
    "i = 0\n",
    "\n",
    "for batch_idx, (data, target) in enumerate(data_loader):\n",
    "    print(batch_idx)\n",
    "    print(data.shape)\n",
    "    print(target.shape)\n",
    "    print(data.squeeze(0).squeeze(0).shape)\n",
    "    print('--------------------')\n",
    "    i+=1\n",
    "    \n",
    "    plt.imshow(data.squeeze(0).squeeze(0).numpy())\n",
    "    if i == 4:\n",
    "        break"
   ]
  },
  {
   "cell_type": "code",
   "execution_count": 123,
   "metadata": {},
   "outputs": [],
   "source": [
    "import torch.nn.functional as F"
   ]
  },
  {
   "cell_type": "code",
   "execution_count": 124,
   "metadata": {},
   "outputs": [
    {
     "name": "stdout",
     "output_type": "stream",
     "text": [
      "Help on function nll_loss in module torch.nn.functional:\n",
      "\n",
      "nll_loss(input, target, weight=None, size_average=None, ignore_index=-100, reduce=None, reduction='mean')\n",
      "    The negative log likelihood loss.\n",
      "    \n",
      "    See :class:`~torch.nn.NLLLoss` for details.\n",
      "    \n",
      "    Args:\n",
      "        input: :math:`(N, C)` where `C = number of classes` or :math:`(N, C, H, W)`\n",
      "            in case of 2D Loss, or :math:`(N, C, d_1, d_2, ..., d_K)` where :math:`K \\geq 1`\n",
      "            in the case of K-dimensional loss.\n",
      "        target: :math:`(N)` where each value is :math:`0 \\leq \\text{targets}[i] \\leq C-1`,\n",
      "            or :math:`(N, d_1, d_2, ..., d_K)` where :math:`K \\geq 1` for\n",
      "            K-dimensional loss.\n",
      "        weight (Tensor, optional): a manual rescaling weight given to each\n",
      "            class. If given, has to be a Tensor of size `C`\n",
      "        size_average (bool, optional): Deprecated (see :attr:`reduction`). By default,\n",
      "            the losses are averaged over each loss element in the batch. Note that for\n",
      "            some losses, there multiple elements per sample. If the field :attr:`size_average`\n",
      "            is set to ``False``, the losses are instead summed for each minibatch. Ignored\n",
      "            when reduce is ``False``. Default: ``True``\n",
      "        ignore_index (int, optional): Specifies a target value that is ignored\n",
      "            and does not contribute to the input gradient. When :attr:`size_average` is\n",
      "            ``True``, the loss is averaged over non-ignored targets. Default: -100\n",
      "        reduce (bool, optional): Deprecated (see :attr:`reduction`). By default, the\n",
      "            losses are averaged or summed over observations for each minibatch depending\n",
      "            on :attr:`size_average`. When :attr:`reduce` is ``False``, returns a loss per\n",
      "            batch element instead and ignores :attr:`size_average`. Default: ``True``\n",
      "        reduction (string, optional): Specifies the reduction to apply to the output:\n",
      "            ``'none'`` | ``'mean'`` | ``'sum'``. ``'none'``: no reduction will be applied,\n",
      "            ``'mean'``: the sum of the output will be divided by the number of\n",
      "            elements in the output, ``'sum'``: the output will be summed. Note: :attr:`size_average`\n",
      "            and :attr:`reduce` are in the process of being deprecated, and in the meantime,\n",
      "            specifying either of those two args will override :attr:`reduction`. Default: ``'mean'``\n",
      "    \n",
      "    Example::\n",
      "    \n",
      "        >>> # input is of size N x C = 3 x 5\n",
      "        >>> input = torch.randn(3, 5, requires_grad=True)\n",
      "        >>> # each element in target has to have 0 <= value < C\n",
      "        >>> target = torch.tensor([1, 0, 4])\n",
      "        >>> output = F.nll_loss(F.log_softmax(input), target)\n",
      "        >>> output.backward()\n",
      "\n"
     ]
    }
   ],
   "source": [
    "help(F.nll_loss)"
   ]
  },
  {
   "cell_type": "code",
   "execution_count": 125,
   "metadata": {},
   "outputs": [],
   "source": [
    "# input is of size N x C = 3 x 5\n",
    "inp = torch.randn(3, 5, requires_grad=True)\n",
    "# each element in target has to have 0 <= value < C\n",
    "target = torch.tensor([1, 0, 4])\n"
   ]
  },
  {
   "cell_type": "code",
   "execution_count": 126,
   "metadata": {},
   "outputs": [
    {
     "data": {
      "text/plain": [
       "tensor([1, 0, 4])"
      ]
     },
     "execution_count": 126,
     "metadata": {},
     "output_type": "execute_result"
    }
   ],
   "source": [
    "target"
   ]
  },
  {
   "cell_type": "code",
   "execution_count": 127,
   "metadata": {},
   "outputs": [
    {
     "data": {
      "text/plain": [
       "tensor([[-0.7339,  0.4316, -0.2312, -0.8599, -0.1649],\n",
       "        [-0.4806,  0.3406,  0.7454, -0.2729, -0.9142],\n",
       "        [ 0.7692, -0.0028, -0.4379,  0.2944,  1.4104]], requires_grad=True)"
      ]
     },
     "execution_count": 127,
     "metadata": {},
     "output_type": "execute_result"
    }
   ],
   "source": [
    "inp"
   ]
  },
  {
   "cell_type": "code",
   "execution_count": 130,
   "metadata": {},
   "outputs": [
    {
     "name": "stderr",
     "output_type": "stream",
     "text": [
      "/Users/abkds/anaconda3/envs/ml/lib/python3.5/site-packages/ipykernel/__main__.py:1: UserWarning: Implicit dimension choice for log_softmax has been deprecated. Change the call to include dim=X as an argument.\n",
      "  if __name__ == '__main__':\n"
     ]
    },
    {
     "data": {
      "text/plain": [
       "tensor(1.3120, grad_fn=<NllLossBackward>)"
      ]
     },
     "execution_count": 130,
     "metadata": {},
     "output_type": "execute_result"
    }
   ],
   "source": [
    "F.nll_loss(F.log_softmax(inp), target)"
   ]
  },
  {
   "cell_type": "code",
   "execution_count": 132,
   "metadata": {},
   "outputs": [
    {
     "name": "stdout",
     "output_type": "stream",
     "text": [
      "tensor(1.3120, grad_fn=<NllLossBackward>)\n"
     ]
    }
   ],
   "source": [
    "# input = torch.randn(3, 5, requires_grad=True)\n",
    "# target = torch.randint(5, (3,), dtype=torch.int64)\n",
    "loss = F.cross_entropy(inp, target)\n",
    "print(loss)\n",
    "# >>> loss.backward()"
   ]
  },
  {
   "cell_type": "code",
   "execution_count": 133,
   "metadata": {},
   "outputs": [],
   "source": [
    "from parse_config import ConfigParser"
   ]
  },
  {
   "cell_type": "code",
   "execution_count": 134,
   "metadata": {},
   "outputs": [
    {
     "ename": "TypeError",
     "evalue": "__init__() missing 1 required positional argument: 'args'",
     "output_type": "error",
     "traceback": [
      "\u001b[0;31m---------------------------------------------------------------------------\u001b[0m",
      "\u001b[0;31mTypeError\u001b[0m                                 Traceback (most recent call last)",
      "\u001b[0;32m<ipython-input-134-1010b7dab087>\u001b[0m in \u001b[0;36m<module>\u001b[0;34m()\u001b[0m\n\u001b[0;32m----> 1\u001b[0;31m \u001b[0mc\u001b[0m \u001b[0;34m=\u001b[0m \u001b[0mConfigParser\u001b[0m\u001b[0;34m(\u001b[0m\u001b[0;34m)\u001b[0m\u001b[0;34m\u001b[0m\u001b[0m\n\u001b[0m",
      "\u001b[0;31mTypeError\u001b[0m: __init__() missing 1 required positional argument: 'args'"
     ]
    }
   ],
   "source": [
    "c = ConfigParser()"
   ]
  },
  {
   "cell_type": "code",
   "execution_count": 135,
   "metadata": {},
   "outputs": [
    {
     "name": "stdout",
     "output_type": "stream",
     "text": [
      "Help on class ConfigParser in module parse_config:\n",
      "\n",
      "class ConfigParser(builtins.object)\n",
      " |  Methods defined here:\n",
      " |  \n",
      " |  __getitem__(self, name)\n",
      " |  \n",
      " |  __init__(self, args, options='', timestamp=True)\n",
      " |      Initialize self.  See help(type(self)) for accurate signature.\n",
      " |  \n",
      " |  get_logger(self, name, verbosity=2)\n",
      " |  \n",
      " |  initialize(self, name, module, *args)\n",
      " |      finds a function handle with the name given as 'type' in config, and returns the \n",
      " |      instance initialized with corresponding keyword args given as 'args'.\n",
      " |  \n",
      " |  ----------------------------------------------------------------------\n",
      " |  Data descriptors defined here:\n",
      " |  \n",
      " |  __dict__\n",
      " |      dictionary for instance variables (if defined)\n",
      " |  \n",
      " |  __weakref__\n",
      " |      list of weak references to the object (if defined)\n",
      " |  \n",
      " |  config\n",
      " |  \n",
      " |  log_dir\n",
      " |  \n",
      " |  save_dir\n",
      "\n"
     ]
    }
   ],
   "source": [
    "help(ConfigParser)\n"
   ]
  },
  {
   "cell_type": "code",
   "execution_count": 137,
   "metadata": {},
   "outputs": [
    {
     "name": "stdout",
     "output_type": "stream",
     "text": [
      "Help on module torch.optim.lr_scheduler in torch.optim:\n",
      "\n",
      "NAME\n",
      "    torch.optim.lr_scheduler\n",
      "\n",
      "CLASSES\n",
      "    builtins.object\n",
      "        ReduceLROnPlateau\n",
      "    _LRScheduler(builtins.object)\n",
      "        CosineAnnealingLR\n",
      "        CosineAnnealingWarmRestarts\n",
      "        CyclicLR\n",
      "        ExponentialLR\n",
      "        LambdaLR\n",
      "        MultiStepLR\n",
      "        StepLR\n",
      "    \n",
      "    class CosineAnnealingLR(_LRScheduler)\n",
      "     |  Set the learning rate of each parameter group using a cosine annealing\n",
      "     |  schedule, where :math:`\\eta_{max}` is set to the initial lr and\n",
      "     |  :math:`T_{cur}` is the number of epochs since the last restart in SGDR:\n",
      "     |  \n",
      "     |  .. math::\n",
      "     |      \\eta_{t+1} = \\eta_{min} + (\\eta_t - \\eta_{min})\\frac{1 +\n",
      "     |      \\cos(\\frac{T_{cur+1}}{T_{max}}\\pi)}{1 + \\cos(\\frac{T_{cur}}{T_{max}}\\pi)},\n",
      "     |      T_{cur} \\neq (2k+1)T_{max};\\\\\n",
      "     |      \\eta_{t+1} = \\eta_{t} + (\\eta_{max} - \\eta_{min})\\frac{1 -\n",
      "     |      \\cos(\\frac{1}{T_{max}}\\pi)}{2},\n",
      "     |      T_{cur} = (2k+1)T_{max}.\\\\\n",
      "     |  \n",
      "     |  When last_epoch=-1, sets initial lr as lr. Notice that because the schedule\n",
      "     |  is defined recursively, the learning rate can be simultaneously modified\n",
      "     |  outside this scheduler by other operators. If the learning rate is set\n",
      "     |  solely by this scheduler, the learning rate at each step becomes:\n",
      "     |  \n",
      "     |  .. math::\n",
      "     |      \\eta_t = \\eta_{min} + \\frac{1}{2}(\\eta_{max} - \\eta_{min})(1 +\n",
      "     |      \\cos(\\frac{T_{cur}}{T_{max}}\\pi))\n",
      "     |  \n",
      "     |  It has been proposed in\n",
      "     |  `SGDR: Stochastic Gradient Descent with Warm Restarts`_. Note that this only\n",
      "     |  implements the cosine annealing part of SGDR, and not the restarts.\n",
      "     |  \n",
      "     |  Args:\n",
      "     |      optimizer (Optimizer): Wrapped optimizer.\n",
      "     |      T_max (int): Maximum number of iterations.\n",
      "     |      eta_min (float): Minimum learning rate. Default: 0.\n",
      "     |      last_epoch (int): The index of last epoch. Default: -1.\n",
      "     |  \n",
      "     |  .. _SGDR\\: Stochastic Gradient Descent with Warm Restarts:\n",
      "     |      https://arxiv.org/abs/1608.03983\n",
      "     |  \n",
      "     |  Method resolution order:\n",
      "     |      CosineAnnealingLR\n",
      "     |      _LRScheduler\n",
      "     |      builtins.object\n",
      "     |  \n",
      "     |  Methods defined here:\n",
      "     |  \n",
      "     |  __init__(self, optimizer, T_max, eta_min=0, last_epoch=-1)\n",
      "     |      Initialize self.  See help(type(self)) for accurate signature.\n",
      "     |  \n",
      "     |  get_lr(self)\n",
      "     |  \n",
      "     |  ----------------------------------------------------------------------\n",
      "     |  Methods inherited from _LRScheduler:\n",
      "     |  \n",
      "     |  load_state_dict(self, state_dict)\n",
      "     |      Loads the schedulers state.\n",
      "     |      \n",
      "     |      Arguments:\n",
      "     |          state_dict (dict): scheduler state. Should be an object returned\n",
      "     |              from a call to :meth:`state_dict`.\n",
      "     |  \n",
      "     |  state_dict(self)\n",
      "     |      Returns the state of the scheduler as a :class:`dict`.\n",
      "     |      \n",
      "     |      It contains an entry for every variable in self.__dict__ which\n",
      "     |      is not the optimizer.\n",
      "     |  \n",
      "     |  step(self, epoch=None)\n",
      "     |  \n",
      "     |  ----------------------------------------------------------------------\n",
      "     |  Data descriptors inherited from _LRScheduler:\n",
      "     |  \n",
      "     |  __dict__\n",
      "     |      dictionary for instance variables (if defined)\n",
      "     |  \n",
      "     |  __weakref__\n",
      "     |      list of weak references to the object (if defined)\n",
      "    \n",
      "    class CosineAnnealingWarmRestarts(_LRScheduler)\n",
      "     |  Set the learning rate of each parameter group using a cosine annealing\n",
      "     |  schedule, where :math:`\\eta_{max}` is set to the initial lr, :math:`T_{cur}`\n",
      "     |  is the number of epochs since the last restart and :math:`T_{i}` is the number\n",
      "     |  of epochs between two warm restarts in SGDR:\n",
      "     |  \n",
      "     |  .. math::\n",
      "     |      \\eta_t = \\eta_{min} + \\frac{1}{2}(\\eta_{max} - \\eta_{min})(1 +\n",
      "     |      \\cos(\\frac{T_{cur}}{T_{i}}\\pi))\n",
      "     |  \n",
      "     |  When :math:`T_{cur}=T_{i}`, set :math:`\\eta_t = \\eta_{min}`.\n",
      "     |  When :math:`T_{cur}=0`(after restart), set :math:`\\eta_t=\\eta_{max}`.\n",
      "     |  \n",
      "     |  It has been proposed in\n",
      "     |  `SGDR: Stochastic Gradient Descent with Warm Restarts`_.\n",
      "     |  \n",
      "     |  Args:\n",
      "     |      optimizer (Optimizer): Wrapped optimizer.\n",
      "     |      T_0 (int): Number of iterations for the first restart.\n",
      "     |      T_mult (int, optional): A factor increases :math:`T_{i}` after a restart. Default: 1.\n",
      "     |      eta_min (float, optional): Minimum learning rate. Default: 0.\n",
      "     |      last_epoch (int, optional): The index of last epoch. Default: -1.\n",
      "     |  \n",
      "     |  .. _SGDR\\: Stochastic Gradient Descent with Warm Restarts:\n",
      "     |      https://arxiv.org/abs/1608.03983\n",
      "     |  \n",
      "     |  Method resolution order:\n",
      "     |      CosineAnnealingWarmRestarts\n",
      "     |      _LRScheduler\n",
      "     |      builtins.object\n",
      "     |  \n",
      "     |  Methods defined here:\n",
      "     |  \n",
      "     |  __init__(self, optimizer, T_0, T_mult=1, eta_min=0, last_epoch=-1)\n",
      "     |      Initialize self.  See help(type(self)) for accurate signature.\n",
      "     |  \n",
      "     |  get_lr(self)\n",
      "     |  \n",
      "     |  step(self, epoch=None)\n",
      "     |      Step could be called after every update, i.e. if one epoch has 10 iterations\n",
      "     |      (number_of_train_examples / batch_size), we should call SGDR.step(0.1), SGDR.step(0.2), etc.\n",
      "     |      \n",
      "     |      This function can be called in an interleaved way.\n",
      "     |      \n",
      "     |      Example:\n",
      "     |          >>> scheduler = SGDR(optimizer, T_0, T_mult)\n",
      "     |          >>> for epoch in range(20):\n",
      "     |          >>>     scheduler.step()\n",
      "     |          >>> scheduler.step(26)\n",
      "     |          >>> scheduler.step() # scheduler.step(27), instead of scheduler(20)\n",
      "     |  \n",
      "     |  ----------------------------------------------------------------------\n",
      "     |  Methods inherited from _LRScheduler:\n",
      "     |  \n",
      "     |  load_state_dict(self, state_dict)\n",
      "     |      Loads the schedulers state.\n",
      "     |      \n",
      "     |      Arguments:\n",
      "     |          state_dict (dict): scheduler state. Should be an object returned\n",
      "     |              from a call to :meth:`state_dict`.\n",
      "     |  \n",
      "     |  state_dict(self)\n",
      "     |      Returns the state of the scheduler as a :class:`dict`.\n",
      "     |      \n",
      "     |      It contains an entry for every variable in self.__dict__ which\n",
      "     |      is not the optimizer.\n",
      "     |  \n",
      "     |  ----------------------------------------------------------------------\n",
      "     |  Data descriptors inherited from _LRScheduler:\n",
      "     |  \n",
      "     |  __dict__\n",
      "     |      dictionary for instance variables (if defined)\n",
      "     |  \n",
      "     |  __weakref__\n",
      "     |      list of weak references to the object (if defined)\n",
      "    \n",
      "    class CyclicLR(_LRScheduler)\n",
      "     |  Sets the learning rate of each parameter group according to\n",
      "     |  cyclical learning rate policy (CLR). The policy cycles the learning\n",
      "     |  rate between two boundaries with a constant frequency, as detailed in\n",
      "     |  the paper `Cyclical Learning Rates for Training Neural Networks`_.\n",
      "     |  The distance between the two boundaries can be scaled on a per-iteration\n",
      "     |  or per-cycle basis.\n",
      "     |  \n",
      "     |  Cyclical learning rate policy changes the learning rate after every batch.\n",
      "     |  `step` should be called after a batch has been used for training.\n",
      "     |  \n",
      "     |  This class has three built-in policies, as put forth in the paper:\n",
      "     |  \"triangular\":\n",
      "     |      A basic triangular cycle w/ no amplitude scaling.\n",
      "     |  \"triangular2\":\n",
      "     |      A basic triangular cycle that scales initial amplitude by half each cycle.\n",
      "     |  \"exp_range\":\n",
      "     |      A cycle that scales initial amplitude by gamma**(cycle iterations) at each\n",
      "     |      cycle iteration.\n",
      "     |  \n",
      "     |  This implementation was adapted from the github repo: `bckenstler/CLR`_\n",
      "     |  \n",
      "     |  Args:\n",
      "     |      optimizer (Optimizer): Wrapped optimizer.\n",
      "     |      base_lr (float or list): Initial learning rate which is the\n",
      "     |          lower boundary in the cycle for each parameter group.\n",
      "     |      max_lr (float or list): Upper learning rate boundaries in the cycle\n",
      "     |          for each parameter group. Functionally,\n",
      "     |          it defines the cycle amplitude (max_lr - base_lr).\n",
      "     |          The lr at any cycle is the sum of base_lr\n",
      "     |          and some scaling of the amplitude; therefore\n",
      "     |          max_lr may not actually be reached depending on\n",
      "     |          scaling function.\n",
      "     |      step_size_up (int): Number of training iterations in the\n",
      "     |          increasing half of a cycle. Default: 2000\n",
      "     |      step_size_down (int): Number of training iterations in the\n",
      "     |          decreasing half of a cycle. If step_size_down is None,\n",
      "     |          it is set to step_size_up. Default: None\n",
      "     |      mode (str): One of {triangular, triangular2, exp_range}.\n",
      "     |          Values correspond to policies detailed above.\n",
      "     |          If scale_fn is not None, this argument is ignored.\n",
      "     |          Default: 'triangular'\n",
      "     |      gamma (float): Constant in 'exp_range' scaling function:\n",
      "     |          gamma**(cycle iterations)\n",
      "     |          Default: 1.0\n",
      "     |      scale_fn (function): Custom scaling policy defined by a single\n",
      "     |          argument lambda function, where\n",
      "     |          0 <= scale_fn(x) <= 1 for all x >= 0.\n",
      "     |          If specified, then 'mode' is ignored.\n",
      "     |          Default: None\n",
      "     |      scale_mode (str): {'cycle', 'iterations'}.\n",
      "     |          Defines whether scale_fn is evaluated on\n",
      "     |          cycle number or cycle iterations (training\n",
      "     |          iterations since start of cycle).\n",
      "     |          Default: 'cycle'\n",
      "     |      cycle_momentum (bool): If ``True``, momentum is cycled inversely\n",
      "     |          to learning rate between 'base_momentum' and 'max_momentum'.\n",
      "     |          Default: True\n",
      "     |      base_momentum (float or list): Initial momentum which is the\n",
      "     |          lower boundary in the cycle for each parameter group.\n",
      "     |          Default: 0.8\n",
      "     |      max_momentum (float or list): Upper momentum boundaries in the cycle\n",
      "     |          for each parameter group. Functionally,\n",
      "     |          it defines the cycle amplitude (max_momentum - base_momentum).\n",
      "     |          The momentum at any cycle is the difference of max_momentum\n",
      "     |          and some scaling of the amplitude; therefore\n",
      "     |          base_momentum may not actually be reached depending on\n",
      "     |          scaling function. Default: 0.9\n",
      "     |      last_epoch (int): The index of the last batch. This parameter is used when\n",
      "     |          resuming a training job. Since `step()` should be invoked after each\n",
      "     |          batch instead of after each epoch, this number represents the total\n",
      "     |          number of *batches* computed, not the total number of epochs computed.\n",
      "     |          When last_epoch=-1, the schedule is started from the beginning.\n",
      "     |          Default: -1\n",
      "     |  \n",
      "     |  Example:\n",
      "     |      >>> optimizer = torch.optim.SGD(model.parameters(), lr=0.1, momentum=0.9)\n",
      "     |      >>> scheduler = torch.optim.CyclicLR(optimizer)\n",
      "     |      >>> data_loader = torch.utils.data.DataLoader(...)\n",
      "     |      >>> for epoch in range(10):\n",
      "     |      >>>     for batch in data_loader:\n",
      "     |      >>>         train_batch(...)\n",
      "     |      >>>         scheduler.step()\n",
      "     |  \n",
      "     |  \n",
      "     |  .. _Cyclical Learning Rates for Training Neural Networks: https://arxiv.org/abs/1506.01186\n",
      "     |  .. _bckenstler/CLR: https://github.com/bckenstler/CLR\n",
      "     |  \n",
      "     |  Method resolution order:\n",
      "     |      CyclicLR\n",
      "     |      _LRScheduler\n",
      "     |      builtins.object\n",
      "     |  \n",
      "     |  Methods defined here:\n",
      "     |  \n",
      "     |  __init__(self, optimizer, base_lr, max_lr, step_size_up=2000, step_size_down=None, mode='triangular', gamma=1.0, scale_fn=None, scale_mode='cycle', cycle_momentum=True, base_momentum=0.8, max_momentum=0.9, last_epoch=-1)\n",
      "     |      Initialize self.  See help(type(self)) for accurate signature.\n",
      "     |  \n",
      "     |  get_lr(self)\n",
      "     |      Calculates the learning rate at batch index. This function treats\n",
      "     |      `self.last_epoch` as the last batch index.\n",
      "     |      \n",
      "     |      If `self.cycle_momentum` is ``True``, this function has a side effect of\n",
      "     |      updating the optimizer's momentum.\n",
      "     |  \n",
      "     |  ----------------------------------------------------------------------\n",
      "     |  Methods inherited from _LRScheduler:\n",
      "     |  \n",
      "     |  load_state_dict(self, state_dict)\n",
      "     |      Loads the schedulers state.\n",
      "     |      \n",
      "     |      Arguments:\n",
      "     |          state_dict (dict): scheduler state. Should be an object returned\n",
      "     |              from a call to :meth:`state_dict`.\n",
      "     |  \n",
      "     |  state_dict(self)\n",
      "     |      Returns the state of the scheduler as a :class:`dict`.\n",
      "     |      \n",
      "     |      It contains an entry for every variable in self.__dict__ which\n",
      "     |      is not the optimizer.\n",
      "     |  \n",
      "     |  step(self, epoch=None)\n",
      "     |  \n",
      "     |  ----------------------------------------------------------------------\n",
      "     |  Data descriptors inherited from _LRScheduler:\n",
      "     |  \n",
      "     |  __dict__\n",
      "     |      dictionary for instance variables (if defined)\n",
      "     |  \n",
      "     |  __weakref__\n",
      "     |      list of weak references to the object (if defined)\n",
      "    \n",
      "    class ExponentialLR(_LRScheduler)\n",
      "     |  Decays the learning rate of each parameter group by gamma every epoch.\n",
      "     |  When last_epoch=-1, sets initial lr as lr.\n",
      "     |  \n",
      "     |  Args:\n",
      "     |      optimizer (Optimizer): Wrapped optimizer.\n",
      "     |      gamma (float): Multiplicative factor of learning rate decay.\n",
      "     |      last_epoch (int): The index of last epoch. Default: -1.\n",
      "     |  \n",
      "     |  Method resolution order:\n",
      "     |      ExponentialLR\n",
      "     |      _LRScheduler\n",
      "     |      builtins.object\n",
      "     |  \n",
      "     |  Methods defined here:\n",
      "     |  \n",
      "     |  __init__(self, optimizer, gamma, last_epoch=-1)\n",
      "     |      Initialize self.  See help(type(self)) for accurate signature.\n",
      "     |  \n",
      "     |  get_lr(self)\n",
      "     |  \n",
      "     |  ----------------------------------------------------------------------\n",
      "     |  Methods inherited from _LRScheduler:\n",
      "     |  \n",
      "     |  load_state_dict(self, state_dict)\n",
      "     |      Loads the schedulers state.\n",
      "     |      \n",
      "     |      Arguments:\n",
      "     |          state_dict (dict): scheduler state. Should be an object returned\n",
      "     |              from a call to :meth:`state_dict`.\n",
      "     |  \n",
      "     |  state_dict(self)\n",
      "     |      Returns the state of the scheduler as a :class:`dict`.\n",
      "     |      \n",
      "     |      It contains an entry for every variable in self.__dict__ which\n",
      "     |      is not the optimizer.\n",
      "     |  \n",
      "     |  step(self, epoch=None)\n",
      "     |  \n",
      "     |  ----------------------------------------------------------------------\n",
      "     |  Data descriptors inherited from _LRScheduler:\n",
      "     |  \n",
      "     |  __dict__\n",
      "     |      dictionary for instance variables (if defined)\n",
      "     |  \n",
      "     |  __weakref__\n",
      "     |      list of weak references to the object (if defined)\n",
      "    \n",
      "    class LambdaLR(_LRScheduler)\n",
      "     |  Sets the learning rate of each parameter group to the initial lr\n",
      "     |  times a given function. When last_epoch=-1, sets initial lr as lr.\n",
      "     |  \n",
      "     |  Args:\n",
      "     |      optimizer (Optimizer): Wrapped optimizer.\n",
      "     |      lr_lambda (function or list): A function which computes a multiplicative\n",
      "     |          factor given an integer parameter epoch, or a list of such\n",
      "     |          functions, one for each group in optimizer.param_groups.\n",
      "     |      last_epoch (int): The index of last epoch. Default: -1.\n",
      "     |  \n",
      "     |  Example:\n",
      "     |      >>> # Assuming optimizer has two groups.\n",
      "     |      >>> lambda1 = lambda epoch: epoch // 30\n",
      "     |      >>> lambda2 = lambda epoch: 0.95 ** epoch\n",
      "     |      >>> scheduler = LambdaLR(optimizer, lr_lambda=[lambda1, lambda2])\n",
      "     |      >>> for epoch in range(100):\n",
      "     |      >>>     train(...)\n",
      "     |      >>>     validate(...)\n",
      "     |      >>>     scheduler.step()\n",
      "     |  \n",
      "     |  Method resolution order:\n",
      "     |      LambdaLR\n",
      "     |      _LRScheduler\n",
      "     |      builtins.object\n",
      "     |  \n",
      "     |  Methods defined here:\n",
      "     |  \n",
      "     |  __init__(self, optimizer, lr_lambda, last_epoch=-1)\n",
      "     |      Initialize self.  See help(type(self)) for accurate signature.\n",
      "     |  \n",
      "     |  get_lr(self)\n",
      "     |  \n",
      "     |  load_state_dict(self, state_dict)\n",
      "     |      Loads the schedulers state.\n",
      "     |      \n",
      "     |      Arguments:\n",
      "     |          state_dict (dict): scheduler state. Should be an object returned\n",
      "     |              from a call to :meth:`state_dict`.\n",
      "     |  \n",
      "     |  state_dict(self)\n",
      "     |      Returns the state of the scheduler as a :class:`dict`.\n",
      "     |      \n",
      "     |      It contains an entry for every variable in self.__dict__ which\n",
      "     |      is not the optimizer.\n",
      "     |      The learning rate lambda functions will only be saved if they are callable objects\n",
      "     |      and not if they are functions or lambdas.\n",
      "     |  \n",
      "     |  ----------------------------------------------------------------------\n",
      "     |  Methods inherited from _LRScheduler:\n",
      "     |  \n",
      "     |  step(self, epoch=None)\n",
      "     |  \n",
      "     |  ----------------------------------------------------------------------\n",
      "     |  Data descriptors inherited from _LRScheduler:\n",
      "     |  \n",
      "     |  __dict__\n",
      "     |      dictionary for instance variables (if defined)\n",
      "     |  \n",
      "     |  __weakref__\n",
      "     |      list of weak references to the object (if defined)\n",
      "    \n",
      "    class MultiStepLR(_LRScheduler)\n",
      "     |  Decays the learning rate of each parameter group by gamma once the\n",
      "     |  number of epoch reaches one of the milestones. Notice that such decay can\n",
      "     |  happen simultaneously with other changes to the learning rate from outside\n",
      "     |  this scheduler. When last_epoch=-1, sets initial lr as lr.\n",
      "     |  \n",
      "     |  Args:\n",
      "     |      optimizer (Optimizer): Wrapped optimizer.\n",
      "     |      milestones (list): List of epoch indices. Must be increasing.\n",
      "     |      gamma (float): Multiplicative factor of learning rate decay.\n",
      "     |          Default: 0.1.\n",
      "     |      last_epoch (int): The index of last epoch. Default: -1.\n",
      "     |  \n",
      "     |  Example:\n",
      "     |      >>> # Assuming optimizer uses lr = 0.05 for all groups\n",
      "     |      >>> # lr = 0.05     if epoch < 30\n",
      "     |      >>> # lr = 0.005    if 30 <= epoch < 80\n",
      "     |      >>> # lr = 0.0005   if epoch >= 80\n",
      "     |      >>> scheduler = MultiStepLR(optimizer, milestones=[30,80], gamma=0.1)\n",
      "     |      >>> for epoch in range(100):\n",
      "     |      >>>     train(...)\n",
      "     |      >>>     validate(...)\n",
      "     |      >>>     scheduler.step()\n",
      "     |  \n",
      "     |  Method resolution order:\n",
      "     |      MultiStepLR\n",
      "     |      _LRScheduler\n",
      "     |      builtins.object\n",
      "     |  \n",
      "     |  Methods defined here:\n",
      "     |  \n",
      "     |  __init__(self, optimizer, milestones, gamma=0.1, last_epoch=-1)\n",
      "     |      Initialize self.  See help(type(self)) for accurate signature.\n",
      "     |  \n",
      "     |  get_lr(self)\n",
      "     |  \n",
      "     |  ----------------------------------------------------------------------\n",
      "     |  Methods inherited from _LRScheduler:\n",
      "     |  \n",
      "     |  load_state_dict(self, state_dict)\n",
      "     |      Loads the schedulers state.\n",
      "     |      \n",
      "     |      Arguments:\n",
      "     |          state_dict (dict): scheduler state. Should be an object returned\n",
      "     |              from a call to :meth:`state_dict`.\n",
      "     |  \n",
      "     |  state_dict(self)\n",
      "     |      Returns the state of the scheduler as a :class:`dict`.\n",
      "     |      \n",
      "     |      It contains an entry for every variable in self.__dict__ which\n",
      "     |      is not the optimizer.\n",
      "     |  \n",
      "     |  step(self, epoch=None)\n",
      "     |  \n",
      "     |  ----------------------------------------------------------------------\n",
      "     |  Data descriptors inherited from _LRScheduler:\n",
      "     |  \n",
      "     |  __dict__\n",
      "     |      dictionary for instance variables (if defined)\n",
      "     |  \n",
      "     |  __weakref__\n",
      "     |      list of weak references to the object (if defined)\n",
      "    \n",
      "    class ReduceLROnPlateau(builtins.object)\n",
      "     |  Reduce learning rate when a metric has stopped improving.\n",
      "     |  Models often benefit from reducing the learning rate by a factor\n",
      "     |  of 2-10 once learning stagnates. This scheduler reads a metrics\n",
      "     |  quantity and if no improvement is seen for a 'patience' number\n",
      "     |  of epochs, the learning rate is reduced.\n",
      "     |  \n",
      "     |  Args:\n",
      "     |      optimizer (Optimizer): Wrapped optimizer.\n",
      "     |      mode (str): One of `min`, `max`. In `min` mode, lr will\n",
      "     |          be reduced when the quantity monitored has stopped\n",
      "     |          decreasing; in `max` mode it will be reduced when the\n",
      "     |          quantity monitored has stopped increasing. Default: 'min'.\n",
      "     |      factor (float): Factor by which the learning rate will be\n",
      "     |          reduced. new_lr = lr * factor. Default: 0.1.\n",
      "     |      patience (int): Number of epochs with no improvement after\n",
      "     |          which learning rate will be reduced. For example, if\n",
      "     |          `patience = 2`, then we will ignore the first 2 epochs\n",
      "     |          with no improvement, and will only decrease the LR after the\n",
      "     |          3rd epoch if the loss still hasn't improved then.\n",
      "     |          Default: 10.\n",
      "     |      verbose (bool): If ``True``, prints a message to stdout for\n",
      "     |          each update. Default: ``False``.\n",
      "     |      threshold (float): Threshold for measuring the new optimum,\n",
      "     |          to only focus on significant changes. Default: 1e-4.\n",
      "     |      threshold_mode (str): One of `rel`, `abs`. In `rel` mode,\n",
      "     |          dynamic_threshold = best * ( 1 + threshold ) in 'max'\n",
      "     |          mode or best * ( 1 - threshold ) in `min` mode.\n",
      "     |          In `abs` mode, dynamic_threshold = best + threshold in\n",
      "     |          `max` mode or best - threshold in `min` mode. Default: 'rel'.\n",
      "     |      cooldown (int): Number of epochs to wait before resuming\n",
      "     |          normal operation after lr has been reduced. Default: 0.\n",
      "     |      min_lr (float or list): A scalar or a list of scalars. A\n",
      "     |          lower bound on the learning rate of all param groups\n",
      "     |          or each group respectively. Default: 0.\n",
      "     |      eps (float): Minimal decay applied to lr. If the difference\n",
      "     |          between new and old lr is smaller than eps, the update is\n",
      "     |          ignored. Default: 1e-8.\n",
      "     |  \n",
      "     |  Example:\n",
      "     |      >>> optimizer = torch.optim.SGD(model.parameters(), lr=0.1, momentum=0.9)\n",
      "     |      >>> scheduler = ReduceLROnPlateau(optimizer, 'min')\n",
      "     |      >>> for epoch in range(10):\n",
      "     |      >>>     train(...)\n",
      "     |      >>>     val_loss = validate(...)\n",
      "     |      >>>     # Note that step should be called after validate()\n",
      "     |      >>>     scheduler.step(val_loss)\n",
      "     |  \n",
      "     |  Methods defined here:\n",
      "     |  \n",
      "     |  __init__(self, optimizer, mode='min', factor=0.1, patience=10, verbose=False, threshold=0.0001, threshold_mode='rel', cooldown=0, min_lr=0, eps=1e-08)\n",
      "     |      Initialize self.  See help(type(self)) for accurate signature.\n",
      "     |  \n",
      "     |  load_state_dict(self, state_dict)\n",
      "     |  \n",
      "     |  state_dict(self)\n",
      "     |  \n",
      "     |  step(self, metrics, epoch=None)\n",
      "     |  \n",
      "     |  ----------------------------------------------------------------------\n",
      "     |  Data descriptors defined here:\n",
      "     |  \n",
      "     |  __dict__\n",
      "     |      dictionary for instance variables (if defined)\n",
      "     |  \n",
      "     |  __weakref__\n",
      "     |      list of weak references to the object (if defined)\n",
      "     |  \n",
      "     |  in_cooldown\n",
      "    \n",
      "    class StepLR(_LRScheduler)\n",
      "     |  Decays the learning rate of each parameter group by gamma every\n",
      "     |  step_size epochs. Notice that such decay can happen simultaneously with\n",
      "     |  other changes to the learning rate from outside this scheduler. When\n",
      "     |  last_epoch=-1, sets initial lr as lr.\n",
      "     |  \n",
      "     |  Args:\n",
      "     |      optimizer (Optimizer): Wrapped optimizer.\n",
      "     |      step_size (int): Period of learning rate decay.\n",
      "     |      gamma (float): Multiplicative factor of learning rate decay.\n",
      "     |          Default: 0.1.\n",
      "     |      last_epoch (int): The index of last epoch. Default: -1.\n",
      "     |  \n",
      "     |  Example:\n",
      "     |      >>> # Assuming optimizer uses lr = 0.05 for all groups\n",
      "     |      >>> # lr = 0.05     if epoch < 30\n",
      "     |      >>> # lr = 0.005    if 30 <= epoch < 60\n",
      "     |      >>> # lr = 0.0005   if 60 <= epoch < 90\n",
      "     |      >>> # ...\n",
      "     |      >>> scheduler = StepLR(optimizer, step_size=30, gamma=0.1)\n",
      "     |      >>> for epoch in range(100):\n",
      "     |      >>>     train(...)\n",
      "     |      >>>     validate(...)\n",
      "     |      >>>     scheduler.step()\n",
      "     |  \n",
      "     |  Method resolution order:\n",
      "     |      StepLR\n",
      "     |      _LRScheduler\n",
      "     |      builtins.object\n",
      "     |  \n",
      "     |  Methods defined here:\n",
      "     |  \n",
      "     |  __init__(self, optimizer, step_size, gamma=0.1, last_epoch=-1)\n",
      "     |      Initialize self.  See help(type(self)) for accurate signature.\n",
      "     |  \n",
      "     |  get_lr(self)\n",
      "     |  \n",
      "     |  ----------------------------------------------------------------------\n",
      "     |  Methods inherited from _LRScheduler:\n",
      "     |  \n",
      "     |  load_state_dict(self, state_dict)\n",
      "     |      Loads the schedulers state.\n",
      "     |      \n",
      "     |      Arguments:\n",
      "     |          state_dict (dict): scheduler state. Should be an object returned\n",
      "     |              from a call to :meth:`state_dict`.\n",
      "     |  \n",
      "     |  state_dict(self)\n",
      "     |      Returns the state of the scheduler as a :class:`dict`.\n",
      "     |      \n",
      "     |      It contains an entry for every variable in self.__dict__ which\n",
      "     |      is not the optimizer.\n",
      "     |  \n",
      "     |  step(self, epoch=None)\n",
      "     |  \n",
      "     |  ----------------------------------------------------------------------\n",
      "     |  Data descriptors inherited from _LRScheduler:\n",
      "     |  \n",
      "     |  __dict__\n",
      "     |      dictionary for instance variables (if defined)\n",
      "     |  \n",
      "     |  __weakref__\n",
      "     |      list of weak references to the object (if defined)\n",
      "\n",
      "DATA\n",
      "    inf = inf\n",
      "\n",
      "FILE\n",
      "    /Users/abkds/anaconda3/envs/ml/lib/python3.5/site-packages/torch/optim/lr_scheduler.py\n",
      "\n",
      "\n"
     ]
    }
   ],
   "source": [
    "help(torch.optim.lr_scheduler)"
   ]
  },
  {
   "cell_type": "code",
   "execution_count": 138,
   "metadata": {},
   "outputs": [],
   "source": [
    "import argparse\n",
    "import collections\n",
    "import torch\n",
    "import data_loader.data_loaders as module_data\n",
    "import model.loss as module_loss\n",
    "import model.metric as module_metric\n",
    "import model.model as module_arch"
   ]
  },
  {
   "cell_type": "code",
   "execution_count": 139,
   "metadata": {},
   "outputs": [
    {
     "data": {
      "text/plain": [
       "<module 'argparse' from '/Users/abkds/anaconda3/envs/ml/lib/python3.5/argparse.py'>"
      ]
     },
     "execution_count": 139,
     "metadata": {},
     "output_type": "execute_result"
    }
   ],
   "source": [
    "logger = config.get_logger()"
   ]
  },
  {
   "cell_type": "code",
   "execution_count": 140,
   "metadata": {},
   "outputs": [],
   "source": [
    "args = argparse.ArgumentParser(description='PyTorch Template')"
   ]
  },
  {
   "cell_type": "code",
   "execution_count": 141,
   "metadata": {},
   "outputs": [
    {
     "data": {
      "text/plain": [
       "ArgumentParser(prog='__main__.py', usage=None, description='PyTorch Template', formatter_class=<class 'argparse.HelpFormatter'>, conflict_handler='error', add_help=True)"
      ]
     },
     "execution_count": 141,
     "metadata": {},
     "output_type": "execute_result"
    }
   ],
   "source": [
    "args"
   ]
  },
  {
   "cell_type": "code",
   "execution_count": 142,
   "metadata": {},
   "outputs": [
    {
     "data": {
      "text/plain": [
       "bool"
      ]
     },
     "execution_count": 142,
     "metadata": {},
     "output_type": "execute_result"
    }
   ],
   "source": [
    "type(False)"
   ]
  },
  {
   "cell_type": "code",
   "execution_count": 146,
   "metadata": {},
   "outputs": [
    {
     "data": {
      "text/plain": [
       "True"
      ]
     },
     "execution_count": 146,
     "metadata": {},
     "output_type": "execute_result"
    }
   ],
   "source": [
    "bool(1)"
   ]
  },
  {
   "cell_type": "code",
   "execution_count": 147,
   "metadata": {},
   "outputs": [],
   "source": [
    "parser = argparse.ArgumentParser(description=\"Testing ArgParser\")"
   ]
  },
  {
   "cell_type": "code",
   "execution_count": 180,
   "metadata": {},
   "outputs": [
    {
     "ename": "ImportError",
     "evalue": "No module named 'dgl'",
     "output_type": "error",
     "traceback": [
      "\u001b[0;31m---------------------------------------------------------------------------\u001b[0m",
      "\u001b[0;31mImportError\u001b[0m                               Traceback (most recent call last)",
      "\u001b[0;32m<ipython-input-180-0b65e46eab82>\u001b[0m in \u001b[0;36m<module>\u001b[0;34m()\u001b[0m\n\u001b[0;32m----> 1\u001b[0;31m \u001b[0;32mimport\u001b[0m \u001b[0mdgl\u001b[0m\u001b[0;34m\u001b[0m\u001b[0m\n\u001b[0m\u001b[1;32m      2\u001b[0m \u001b[0;34m\u001b[0m\u001b[0m\n\u001b[1;32m      3\u001b[0m \u001b[0;32mdef\u001b[0m \u001b[0mbuild_karate_club_graph\u001b[0m\u001b[0;34m(\u001b[0m\u001b[0;34m)\u001b[0m\u001b[0;34m:\u001b[0m\u001b[0;34m\u001b[0m\u001b[0m\n\u001b[1;32m      4\u001b[0m     \u001b[0mg\u001b[0m \u001b[0;34m=\u001b[0m \u001b[0mdgl\u001b[0m\u001b[0;34m.\u001b[0m\u001b[0mDGLGraph\u001b[0m\u001b[0;34m(\u001b[0m\u001b[0;34m)\u001b[0m\u001b[0;34m\u001b[0m\u001b[0m\n\u001b[1;32m      5\u001b[0m     \u001b[0;31m# add 34 nodes into the graph; nodes are labeled from 0~33\u001b[0m\u001b[0;34m\u001b[0m\u001b[0;34m\u001b[0m\u001b[0m\n",
      "\u001b[0;31mImportError\u001b[0m: No module named 'dgl'"
     ]
    }
   ],
   "source": [
    "import dgl\n",
    "\n",
    "def build_karate_club_graph():\n",
    "    g = dgl.DGLGraph()\n",
    "    # add 34 nodes into the graph; nodes are labeled from 0~33\n",
    "    g.add_nodes(34)\n",
    "    # all 78 edges as a list of tuples\n",
    "    edge_list = [(1, 0), (2, 0), (2, 1), (3, 0), (3, 1), (3, 2),\n",
    "        (4, 0), (5, 0), (6, 0), (6, 4), (6, 5), (7, 0), (7, 1),\n",
    "        (7, 2), (7, 3), (8, 0), (8, 2), (9, 2), (10, 0), (10, 4),\n",
    "        (10, 5), (11, 0), (12, 0), (12, 3), (13, 0), (13, 1), (13, 2),\n",
    "        (13, 3), (16, 5), (16, 6), (17, 0), (17, 1), (19, 0), (19, 1),\n",
    "        (21, 0), (21, 1), (25, 23), (25, 24), (27, 2), (27, 23),\n",
    "        (27, 24), (28, 2), (29, 23), (29, 26), (30, 1), (30, 8),\n",
    "        (31, 0), (31, 24), (31, 25), (31, 28), (32, 2), (32, 8),\n",
    "        (32, 14), (32, 15), (32, 18), (32, 20), (32, 22), (32, 23),\n",
    "        (32, 29), (32, 30), (32, 31), (33, 8), (33, 9), (33, 13),\n",
    "        (33, 14), (33, 15), (33, 18), (33, 19), (33, 20), (33, 22),\n",
    "        (33, 23), (33, 26), (33, 27), (33, 28), (33, 29), (33, 30),\n",
    "        (33, 31), (33, 32)]\n",
    "    # add edges two lists of nodes: src and dst\n",
    "    src, dst = tuple(zip(*edge_list))\n",
    "    g.add_edges(src, dst)\n",
    "    # edges are directional in DGL; make them bi-directional\n",
    "    g.add_edges(dst, src)\n",
    "\n",
    "    return g"
   ]
  },
  {
   "cell_type": "code",
   "execution_count": null,
   "metadata": {},
   "outputs": [],
   "source": []
  }
 ],
 "metadata": {
  "@webio": {
   "lastCommId": null,
   "lastKernelId": null
  },
  "kernelspec": {
   "display_name": "Python [conda env:ml]",
   "language": "python",
   "name": "conda-env-ml-py"
  },
  "language_info": {
   "codemirror_mode": {
    "name": "ipython",
    "version": 3
   },
   "file_extension": ".py",
   "mimetype": "text/x-python",
   "name": "python",
   "nbconvert_exporter": "python",
   "pygments_lexer": "ipython3",
   "version": "3.5.6"
  }
 },
 "nbformat": 4,
 "nbformat_minor": 2
}
